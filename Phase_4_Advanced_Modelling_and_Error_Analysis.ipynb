{
  "cells": [
    {
      "cell_type": "markdown",
      "source": [
        "# Phase-4-Advanced Modelling and Error Analysis"
      ],
      "metadata": {
        "id": "uGgBuh4t0WJZ"
      }
    },
    {
      "cell_type": "markdown",
      "source": [
        "###Phase-3 output\n",
        "In phase-3, a model was built which used semantic search to compare the user query with the questions in the dataset and returns the answer corresponding to the question which is most similar to the user query.\n",
        "\n",
        "Limitation of the above model-\n",
        "\n",
        "1) In case a user query does not matches directly with the questions in the dataset. Then our model fails to answer that question."
      ],
      "metadata": {
        "id": "xUAEiBoErOGT"
      }
    },
    {
      "cell_type": "markdown",
      "source": [
        "###How to overcome the limitations of Phase-3 model-\n",
        "\n",
        "Lets suppose that user query does not matches with any question in the dataset directly but its answer can be found somewhere within the answers that are provided in the FAQ dataset. So, answer for the user query should also be searched in the list of answers that are provided in the FAQ dataset. This solution will be implemented in Phase-4"
      ],
      "metadata": {
        "id": "7gv5CAzjw-dD"
      }
    },
    {
      "cell_type": "markdown",
      "source": [
        "Reference- To implement the solution for the above mentioned problem, referred https://www.youtube.com/watch?v=YhVgl70Tn_k\n",
        "\n",
        "###BERT for Question Answering Systems\n",
        "\n",
        "One of the approaches that can be used in order to search the answer for the user query in the list of answers that are provided in the FAQ dataset is-\n",
        "\n",
        "Step-1: Get the embeddings for the user query.\n",
        "\n",
        "Step-2: Treat each pair of Question and Answer as one paragraph. Get the embeddings for all the paragraphs.\n",
        "\n",
        "Step-3: Find the cosine similarity of the user-query with all the paragraphs and pick the top-K paragraphs that are most similar to the user-query.\n",
        "\n",
        "Step-4: Now, pass the user-query along with each paragraph that are picked-up as a part of top-K paragraphs to Bert (trained on SQUAD). BERT will predict the best possible answer from each of the paragraph that are given to it.\n",
        "\n",
        "Step-5: BERT will give the probability estimate for the best possible answer in the given paragraph. These probabilities represent the chances of the answer that is predicted by the BERT to be the best answer in the given paragraph. These probabilities cannot be compared with the probabilities of the answer of another paragraph. So, the last softmax layer needs to be removed. This will enable BERT to output the logits instead of probabilities.\n",
        "\n",
        "Step-6: Compare all the answers/logits that are returned by BERT and then return the best answer as the response to the user-query."
      ],
      "metadata": {
        "id": "8eB0dgzoROFH"
      }
    },
    {
      "cell_type": "markdown",
      "source": [
        "### Limitations of the above proposed solution-\n",
        "\n",
        "The above solution will return the answer in the contiguous form only, i.e., it will return the starting and ending point of the answer within the given paragraph. This will limit our model to work in the below mentioned cases:\n",
        "\n",
        "Case-1: Model will fail in case the needed answer can be found only by picking-up some pieces of information from here and there within the paragraph.\n",
        "\n",
        "Case-2: Model will fail to return the answer the in case answer can be found only by using the information in the multiple paragraphs."
      ],
      "metadata": {
        "id": "-2yhxMnEawuG"
      }
    },
    {
      "cell_type": "markdown",
      "source": [
        "### Should the above proposed solution be implemented?\n",
        "\n",
        "Ans- I think that the model that was built in Phase-3 will work fine in around 80% of the cases. I think that if the above proposed model is trained well then, then it should increase our success rate to around atleast 85%. So, I think that the the above proposed model should be implemented."
      ],
      "metadata": {
        "id": "nA2WYfFMiHWN"
      }
    },
    {
      "cell_type": "markdown",
      "source": [
        "https://github.com/cdqa-suite/cdQA can be used as reference to implement the above proposed model.\n",
        "\n",
        "**Invested most of the time in trying to analyze that whether the above proposed solution (BERT for Question Answering Systems) should be implemented or not. Actual implementation of the above proposed model still needs to be done.**"
      ],
      "metadata": {
        "id": "2YtbWhwqhZsn"
      }
    },
    {
      "cell_type": "markdown",
      "metadata": {
        "id": "G9hxQHcPKbSy"
      },
      "source": [
        "###GPT-3 model\n",
        "When discussed about the above proposed model (BERT for Question Answering Systems), got to know that, if that model will be deployed to production with large dataset, then it will be having high latency as it compares the user query embedding with the embeddings for all the question-anwer pairs that are given in the dataset.\n",
        "The recommended right choice of model for this problem is seq-to-seq model. So, after some research used GPT-3 to solve this problem.\n",
        "\n",
        "Referred the below links to implement GPT-3-\n",
        "\n",
        "a) https://www.pragnakalp.com/question-answering-using-gpt3-examples/ \n",
        "\n",
        "b) https://www.youtube.com/watch?v=C-8sF81k7cY\n",
        "\n",
        "###Expectations from GPT-3 model-\n",
        "\n",
        "1) GPT-3 model should overome the limitations of the BERT for Question Answering Systems model.\n",
        "\n",
        "###Experiments with GPT-3-\n",
        "\n",
        "1) GPT-3 solved the limitation of the model that was built in Phase-4. In case, the needed answer lies in the different paragraph of the document, then GPT-3 is able to give the answer by comprehending all the paragraph that contains some part of the needed answer.\n",
        "\n",
        "2) GPT-3 model also needs to be fine-tunned to know that how to use our model for best results. For now, this is the first-cut implementation of the GPT-3 model.\n",
        "\n",
        "3) Most of the times when querying for the information outside of the document provided, then model responded with error that the query does not lies within the provided document. This was expected behavior.\n",
        "\n",
        "4) When experimenting with GPT-3 model, found that it is also using its own knowledge apart from the document provided to it. For instance- In the given document, added one more name in the founders of Google. Then on querying the model, the expectation was that it should return the modified founders as the answer but GPT-3 still provided the actual founders as the answer. This was not expected behavior.\n",
        "\n",
        "5) Another instance of GPT-3 using its own knowledge outside of the document provided. Provided the document which does not have the information about the founder of Apple. The only thing that the document has about Apple is that it is one of the 5 biggest companies in the world. But, model returned the correct response about the founder of Apple. This should not be the case. Observed few more instances like this.\n",
        "\n",
        "6) Conclusion drawn from the above mentioned points 3, 4, and 5 is that the model can use its own knowledge (outside the provided document) on the topics that are discussed in the provided document.\n",
        "\n",
        "\n",
        "\n"
      ]
    },
    {
      "cell_type": "code",
      "execution_count": null,
      "metadata": {
        "colab": {
          "base_uri": "https://localhost:8080/"
        },
        "id": "AQ8Y9qSVV_7P",
        "outputId": "a29b95bf-bfc5-4a07-9f69-af2cb8d90712"
      },
      "outputs": [
        {
          "output_type": "stream",
          "name": "stdout",
          "text": [
            "Collecting openai\n",
            "  Downloading openai-0.15.0.tar.gz (40 kB)\n",
            "\u001b[?25l\r\u001b[K     |████████                        | 10 kB 17.2 MB/s eta 0:00:01\r\u001b[K     |████████████████                | 20 kB 8.3 MB/s eta 0:00:01\r\u001b[K     |████████████████████████        | 30 kB 5.6 MB/s eta 0:00:01\r\u001b[K     |████████████████████████████████| 40 kB 1.9 MB/s \n",
            "\u001b[?25hRequirement already satisfied: requests>=2.20 in /usr/local/lib/python3.7/dist-packages (from openai) (2.23.0)\n",
            "Requirement already satisfied: tqdm in /usr/local/lib/python3.7/dist-packages (from openai) (4.63.0)\n",
            "Requirement already satisfied: pandas>=1.2.3 in /usr/local/lib/python3.7/dist-packages (from openai) (1.3.5)\n",
            "Collecting pandas-stubs>=1.1.0.11\n",
            "  Downloading pandas_stubs-1.2.0.49-py3-none-any.whl (161 kB)\n",
            "\u001b[K     |████████████████████████████████| 161 kB 5.5 MB/s \n",
            "\u001b[?25hRequirement already satisfied: openpyxl>=3.0.7 in /usr/local/lib/python3.7/dist-packages (from openai) (3.0.9)\n",
            "Requirement already satisfied: et-xmlfile in /usr/local/lib/python3.7/dist-packages (from openpyxl>=3.0.7->openai) (1.1.0)\n",
            "Requirement already satisfied: pytz>=2017.3 in /usr/local/lib/python3.7/dist-packages (from pandas>=1.2.3->openai) (2018.9)\n",
            "Requirement already satisfied: numpy>=1.17.3 in /usr/local/lib/python3.7/dist-packages (from pandas>=1.2.3->openai) (1.21.5)\n",
            "Requirement already satisfied: python-dateutil>=2.7.3 in /usr/local/lib/python3.7/dist-packages (from pandas>=1.2.3->openai) (2.8.2)\n",
            "Requirement already satisfied: typing-extensions>=3.7.4.3 in /usr/local/lib/python3.7/dist-packages (from pandas-stubs>=1.1.0.11->openai) (3.10.0.2)\n",
            "Requirement already satisfied: six>=1.5 in /usr/local/lib/python3.7/dist-packages (from python-dateutil>=2.7.3->pandas>=1.2.3->openai) (1.15.0)\n",
            "Requirement already satisfied: idna<3,>=2.5 in /usr/local/lib/python3.7/dist-packages (from requests>=2.20->openai) (2.10)\n",
            "Requirement already satisfied: certifi>=2017.4.17 in /usr/local/lib/python3.7/dist-packages (from requests>=2.20->openai) (2021.10.8)\n",
            "Requirement already satisfied: urllib3!=1.25.0,!=1.25.1,<1.26,>=1.21.1 in /usr/local/lib/python3.7/dist-packages (from requests>=2.20->openai) (1.24.3)\n",
            "Requirement already satisfied: chardet<4,>=3.0.2 in /usr/local/lib/python3.7/dist-packages (from requests>=2.20->openai) (3.0.4)\n",
            "Building wheels for collected packages: openai\n",
            "  Building wheel for openai (setup.py) ... \u001b[?25l\u001b[?25hdone\n",
            "  Created wheel for openai: filename=openai-0.15.0-py3-none-any.whl size=50093 sha256=7451851374f8393bdfb383d779436b0ccad75f4e50798d0e2f9ef5e59e6a1566\n",
            "  Stored in directory: /root/.cache/pip/wheels/bd/b1/b5/01a94056fd87ef0ed913b2fa6f1161076b730cf1449f579ab7\n",
            "Successfully built openai\n",
            "Installing collected packages: pandas-stubs, openai\n",
            "Successfully installed openai-0.15.0 pandas-stubs-1.2.0.49\n"
          ]
        }
      ],
      "source": [
        "!pip install openai"
      ]
    },
    {
      "cell_type": "code",
      "execution_count": null,
      "metadata": {
        "id": "4ZyJubT5L2rj"
      },
      "outputs": [],
      "source": [
        "import openai\n",
        "import pandas as pd\n",
        "import json\n",
        "import time"
      ]
    },
    {
      "cell_type": "code",
      "execution_count": null,
      "metadata": {
        "id": "jj4FqWzuhIuh"
      },
      "outputs": [],
      "source": [
        "# # No needto execute this code as file is already uploaded.\n",
        "\n",
        "# #Load Mental_Health_FAQ.csv into a pandas dataframe.\n",
        "#url= 'https://raw.githubusercontent.com/ArpanJainGithub/Chatbot-MentalHealth/main/Mental_Health_FAQ.csv'\n",
        "#mentalHealthFaq = pd.read_csv(url,encoding='unicode_escape')"
      ]
    },
    {
      "cell_type": "code",
      "execution_count": null,
      "metadata": {
        "id": "ZChLbpqYhe9t"
      },
      "outputs": [],
      "source": [
        "# # No need to execute the below code as file is already uploaded.\n",
        "\n",
        "# #Combining the pair of question and answer into one paragraph.\n",
        "# paragraphs = []\n",
        "# for i in range(mentalHealthFaq.shape[0]):\n",
        "#   paragraph = mentalHealthFaq['Questions'][i] +\" \"+ mentalHealthFaq['Answers'][i]\n",
        "#   paragraphs.append(paragraph)\n",
        "# print(len(paragraphs))\n",
        "# print(paragraphs)\n"
      ]
    },
    {
      "cell_type": "code",
      "execution_count": null,
      "metadata": {
        "id": "dyqjzJCYW-oc"
      },
      "outputs": [],
      "source": [
        "# # No need to execute the below code as file is already uploaded.\n",
        "\n",
        "# #Creating a list of dictionaries for all the paragraphs in the form of [{\"text\":\"paragraph1\"},{\"text\":\"paragraph2\"}]\n",
        "# paragraphsJsonList = []\n",
        "# for paragraph in paragraphs:\n",
        "#   paragraphsDict = {}\n",
        "#   paragraphsDict[\"text\"] = paragraph\n",
        "#   paragraphsJsonList.append(paragraphsDict)"
      ]
    },
    {
      "cell_type": "code",
      "execution_count": null,
      "metadata": {
        "id": "OZfYc130X8p6"
      },
      "outputs": [],
      "source": [
        "# # No need to execute the below code as file is already uploaded.\n",
        "\n",
        "# print(len(paragraphsJsonList))\n",
        "# print(paragraphsJsonList)"
      ]
    },
    {
      "cell_type": "code",
      "execution_count": null,
      "metadata": {
        "id": "KblSNdowbk6C"
      },
      "outputs": [],
      "source": [
        "## No need to execute the below code as file is already uploaded.\n",
        "\n",
        "# #Coverting the list of dictionaries that is created above to a jsonl file.\n",
        "# with open('MentalHealthQueries.jsonl', 'w') as outfile:\n",
        "#     for entry in paragraphsJsonList:\n",
        "#         json.dump(entry, outfile)\n",
        "#         outfile.write('\\n')"
      ]
    },
    {
      "cell_type": "code",
      "execution_count": null,
      "metadata": {
        "id": "U1edGw7ge3f2"
      },
      "outputs": [],
      "source": [
        "# #All the files that are uploaded should be deleted. Below mentioned Delete and GET commands are not working, so try to make them work.\n",
        "# #Get the list of all the files that belongs to that user\n",
        "# #GET https://api.openai.com/v1/files\n",
        "# # Delete the file\n",
        "# #DELETE https://api.openai.com/v1/files/{file-ulhKfqkK8wlVOIPFY7qPXSLZ}\n",
        "\n",
        "\n",
        "#File is already uploaded, so commented the upload code\n",
        "# #To upload the file \n",
        "openai.api_key = \"YOUR API KEY\"\n",
        " \n",
        "# response = openai.File.create(\n",
        "#  file=open(\"/content/drive/MyDrive/AppliedRootsAIML/ChatbotPractice/MentalHealthQueries.jsonl\"),\n",
        "#  purpose='answers'\n",
        "# )\n",
        " \n",
        "# print(response)"
      ]
    },
    {
      "cell_type": "code",
      "execution_count": null,
      "metadata": {
        "id": "INH6A5f_BlB7"
      },
      "outputs": [],
      "source": [
        "# print(response.id)"
      ]
    },
    {
      "cell_type": "code",
      "execution_count": null,
      "metadata": {
        "cellView": "code",
        "id": "hVblQron9XjL"
      },
      "outputs": [],
      "source": [
        "#Code to perform the question answering.\n",
        "def testModel(Question):\n",
        "  answer = openai.Answer.create(\n",
        "     search_model=\"ada\",\n",
        "     model=\"curie\",\n",
        "     question= Question,\n",
        "     file= \"file-tjksW00XtspZgy7TPrhzhoGC\",\n",
        "     examples_context=\"In 2017, U.S. life expectancy was 78.6 years.\",\n",
        "     examples=[[\"What is human life expectancy in the United States?\",\"78 years.\"]],\n",
        "     max_rerank=10,\n",
        "     max_tokens=1500,\n",
        "     stop=[\"\\n\", \"<|endoftext|>\"]\n",
        " \n",
        "  )\n",
        "  return answer"
      ]
    },
    {
      "cell_type": "code",
      "execution_count": null,
      "metadata": {
        "colab": {
          "base_uri": "https://localhost:8080/"
        },
        "id": "IslWucuyyLhN",
        "outputId": "175ec6ad-889d-477d-d9f8-f4b779458623"
      },
      "outputs": [
        {
          "output_type": "stream",
          "name": "stdout",
          "text": [
            "{\n",
            "  \"answers\": [\n",
            "    \"Mental illness is a health condition that disrupts a person's thoughts, emotions, relationships, and daily functioning. It is associated with distress and diminished capacity to engage in the ordinary activities of daily life.\"\n",
            "  ],\n",
            "  \"completion\": \"cmpl-4lKsUkir9MZROWHpLPdcS742dTaah\",\n",
            "  \"file\": \"file-tjksW00XtspZgy7TPrhzhoGC\",\n",
            "  \"model\": \"curie:2020-05-03\",\n",
            "  \"object\": \"answer\",\n",
            "  \"search_model\": \"ada:2020-05-03\",\n",
            "  \"selected_documents\": [\n",
            "    {\n",
            "      \"document\": 0,\n",
            "      \"object\": \"search_result\",\n",
            "      \"score\": 118.843,\n",
            "      \"text\": \"What are some of the warning signs of mental illness? Symptoms of mental health disorders vary depending on the type and severity of the condition. The following is a list of general symptoms that may suggest a mental health disorder, particularly when multiple symptoms are expressed at once.\"\n",
            "    },\n",
            "    {\n",
            "      \"document\": 1,\n",
            "      \"object\": \"search_result\",\n",
            "      \"score\": 122.72,\n",
            "      \"text\": \"I\\u2019m a young person and one of my parents has a mental illness. What can I do? Someone else\\u2019s illness is not your fault. You also can\\u2019t control how someone else feels, their illness, or the things they do or say. What you can do is take care of yourself.\"\n",
            "    },\n",
            "    {\n",
            "      \"document\": 9,\n",
            "      \"object\": \"search_result\",\n",
            "      \"score\": 126.912,\n",
            "      \"text\": \"Just as it\\u2019s possible to have poor mental health but no mental illness, it\\u2019s entirely possible to have good mental health even with a diagnosis of a mental illness. That\\u2019s because mental illnesses (like other health problems) are often episodic, meaning there are times (\\u2018episodes\\u2019) of ill health and times of better or good health.\"\n",
            "    },\n",
            "    {\n",
            "      \"document\": 5,\n",
            "      \"object\": \"search_result\",\n",
            "      \"score\": 136.268,\n",
            "      \"text\": \"For general tips on managing a diagnosis of a mental illness and working well with health care professionals, see HeretoHelp\\u2019s Managing a Mental Illness series.\"\n",
            "    },\n",
            "    {\n",
            "      \"document\": 3,\n",
            "      \"object\": \"search_result\",\n",
            "      \"score\": 139.256,\n",
            "      \"text\": \"Learning more about your parent\\u2019s illness can make it a bit easier to understand what they experience. On this website, you can find easy-to-read booklets on mental illnesses as well as longer info sheets on many different mental illnesses. You can also find information for young people from the Centre for Addiction and Mental Health.\"\n",
            "    },\n",
            "    {\n",
            "      \"document\": 8,\n",
            "      \"object\": \"search_result\",\n",
            "      \"score\": 149.345,\n",
            "      \"text\": \"Who does mental illness affect? It is estimated that mental illness affects 1 in 5 adults in America, and that 1 in 24 adults have a serious mental illness. Mental illness does not discriminate; it can affect anyone, regardless of gender, age, income, social status, ethnicity, religion, sexual orientation, or background.\"\n",
            "    },\n",
            "    {\n",
            "      \"document\": 2,\n",
            "      \"object\": \"search_result\",\n",
            "      \"score\": 161.105,\n",
            "      \"text\": \"What treatment options are available? Just as there are different types of medications for physical illness, different treatment options are available for individuals with mental illness. Treatment works differently for different people. It is important to find what works best for you or your child.\"\n",
            "    },\n",
            "    {\n",
            "      \"document\": 6,\n",
            "      \"object\": \"search_result\",\n",
            "      \"score\": 166.349,\n",
            "      \"text\": \"What does it mean to have a mental illness? Mental illnesses are health conditions that disrupt a person\\u00e2\\u20ac\\u2122s thoughts, emotions, relationships, and daily functioning. They are associated with distress and diminished capacity to engage in the ordinary activities of daily life.\"\n",
            "    }\n",
            "  ]\n",
            "}\n"
          ]
        }
      ],
      "source": [
        "questionTest= \"What is the mental illness?\"\n",
        "print(testModel(questionTest))"
      ]
    },
    {
      "cell_type": "markdown",
      "metadata": {
        "id": "MtW2kI7GPjdC"
      },
      "source": [
        "###Testing of the GPT-3 model on our dataset.\n",
        "Test-0: To check the working of the model on simple straight-forward query from the provided document.\n",
        "\n",
        "Test-1: Make sure Model is failing on the queries that cannot be answered with the given document.\n",
        "\n",
        "Test-2: Verify if GPT-3 model overcomes the limitations of the models that were build and proposed in Phase-3 and Phase-4.\n",
        "\n",
        "Test-3: Check the performance on the GPT-3 model.\n"
      ]
    },
    {
      "cell_type": "markdown",
      "metadata": {
        "id": "PJUINhzbm7b8"
      },
      "source": [
        "###Test-0: To check the working of the model on simple straight-forward query from the provided document.\n",
        "\n",
        "Test question-0: What's the difference between CBT and DBT?\n",
        "\n",
        "Expected result- It should provide the complete answer that is mentioned in the document against this query."
      ]
    },
    {
      "cell_type": "code",
      "execution_count": null,
      "metadata": {
        "colab": {
          "base_uri": "https://localhost:8080/"
        },
        "id": "i69wV6Dand3d",
        "outputId": "b726bfec-c6ee-475f-a14d-c25208b0abc5"
      },
      "outputs": [
        {
          "output_type": "stream",
          "name": "stdout",
          "text": [
            "{\n",
            "  \"answers\": [\n",
            "    \"CBT (cognitive-behavioural therapy) and DBT (dialectical behaviour therapy) are two forms of psychotherapy or \\u201ctalk therapy.\\u201d In both, you work with a mental health professional to learn more about the challenges you experience and learn skills to help you manage challenges on your own.\"\n",
            "  ],\n",
            "  \"completion\": \"cmpl-4lKsYG860b5khiaBThjXFcRYAaJWr\",\n",
            "  \"file\": \"file-tjksW00XtspZgy7TPrhzhoGC\",\n",
            "  \"model\": \"curie:2020-05-03\",\n",
            "  \"object\": \"answer\",\n",
            "  \"search_model\": \"ada:2020-05-03\",\n",
            "  \"selected_documents\": [\n",
            "    {\n",
            "      \"document\": 6,\n",
            "      \"object\": \"search_result\",\n",
            "      \"score\": 112.372,\n",
            "      \"text\": \"What's the difference between psychotherapy and counselling? Psychotherapy and counselling have a lot in common and usually mean the same thing. Both are used to describe professionals who use talk-based approaches to help someone recover from a mental illness or mental health problem. Many different professionals may provide counselling or psychotherapy, including registered psychologists, registered clinical counsellors, psychiatrists, other therapists and counsellors, family doctors, psychiatric nurses, and faith leaders.\"\n",
            "    },\n",
            "    {\n",
            "      \"document\": 5,\n",
            "      \"object\": \"search_result\",\n",
            "      \"score\": 159.018,\n",
            "      \"text\": \"Dialectical behaviour therapy or DBT is based on CBT, with greater focus on emotional and social aspects. DBT was developed to help people cope with extreme or unstable emotions and harmful behaviours. DBT is an evidence-based approach to help people regulate emotions. It started as a treatment for borderline personality disorder, and current research shows it may help with many different mental illnesses or concerns, particularly self-harm.\"\n",
            "    },\n",
            "    {\n",
            "      \"document\": 2,\n",
            "      \"object\": \"search_result\",\n",
            "      \"score\": 159.855,\n",
            "      \"text\": \"As with many talk therapies, it takes time and effort to enjoy the benefits of CBT and DBT skills. But once people master skills with support from your CBT or DBT therapist, they often find that their new skills and strategies become second nature\\u2014they are tools that last a lifetime.\"\n",
            "    },\n",
            "    {\n",
            "      \"document\": 1,\n",
            "      \"object\": \"search_result\",\n",
            "      \"score\": 192.584,\n",
            "      \"text\": \"Key differences between CBT and DBT are validation and relationships. DBT teaches you that your experiences are real, and it teaches you how to accept who you are, regardless of challenges or difficult experiences. Relationships are also very important in DBT\\u2014including the relationships between you and your DBT practitioner. You may have frequent check-ins to talk about any successes or problems. Treatment may include a mix of one-on-one sessions and group sessions. In addition to CBT skills, you\\u2019ll learn skills around managing your emotions, building relationships with others, coping well with problems or distress, acceptance, and mindfulness.\"\n",
            "    },\n",
            "    {\n",
            "      \"document\": 0,\n",
            "      \"object\": \"search_result\",\n",
            "      \"score\": 244.457,\n",
            "      \"text\": \"What's the difference between CBT and DBT? CBT (cognitive-behavioural therapy) and DBT (dialectical behaviour therapy) are two forms of psychotherapy or \\u201ctalk therapy.\\u201d In both, you work with a mental health professional to learn more about the challenges you experience and learn skills to help you manage challenges on your own.\"\n",
            "    }\n",
            "  ]\n",
            "}\n",
            "Latency= 4.235620737075806\n"
          ]
        }
      ],
      "source": [
        "start = time.time()\n",
        "question0= \"What's the difference between CBT and DBT?\"\n",
        "print(testModel(question0))\n",
        "end = time.time()\n",
        "print(\"Latency= \"+ str(end-start))"
      ]
    },
    {
      "cell_type": "markdown",
      "metadata": {
        "id": "_5jM-c8lQxxn"
      },
      "source": [
        "### Test-1: Make sure Model is failing on the queries that cannot be answered with the given document.\n",
        "\n",
        "**Test question 1**- Who is Lord Mahavira?\n",
        "\n",
        "Expected result- Model should fail as the document don't have any information about Lord Mahavira."
      ]
    },
    {
      "cell_type": "code",
      "execution_count": null,
      "metadata": {
        "colab": {
          "base_uri": "https://localhost:8080/"
        },
        "id": "ywGouxsQSgyr",
        "outputId": "b02fa7ab-bcce-43dd-a885-21587d026338"
      },
      "outputs": [
        {
          "output_type": "stream",
          "name": "stdout",
          "text": [
            "{\n",
            "  \"answers\": [\n",
            "    \"Lord Mahavira is the founder of Jainism.\"\n",
            "  ],\n",
            "  \"completion\": \"cmpl-4lKsckBF5qzoZcD0AMlZOijUUqKeX\",\n",
            "  \"file\": \"file-tjksW00XtspZgy7TPrhzhoGC\",\n",
            "  \"model\": \"curie:2020-05-03\",\n",
            "  \"object\": \"answer\",\n",
            "  \"search_model\": \"ada:2020-05-03\",\n",
            "  \"selected_documents\": [\n",
            "    {\n",
            "      \"document\": 9,\n",
            "      \"object\": \"search_result\",\n",
            "      \"score\": -88.386,\n",
            "      \"text\": \"Not all mental health programs in BC require a doctor\\u2019s referral. This is good news for people who are looking for help! A \\\"self-referral\\\" means that you ask to see someone, and then you will be evaluated to see if you meet the criteria to receive services. Contact your local health authority to learn more about programs in your area:\"\n",
            "    },\n",
            "    {\n",
            "      \"document\": 7,\n",
            "      \"object\": \"search_result\",\n",
            "      \"score\": -86.157,\n",
            "      \"text\": \"Schizoid personality disorder is believed to be relatively uncommon. While some people with SPD may see it as part of who they are, other people may feel a lot of distress, especially around social interactions. Some medications may help people manage symptoms and psychotherapy may help people build new skills and improve relationships.\"\n",
            "    },\n",
            "    {\n",
            "      \"document\": 4,\n",
            "      \"object\": \"search_result\",\n",
            "      \"score\": -79.564,\n",
            "      \"text\": \"A group of BC psychologists and doctors have created a self-guided workbook called Positive Coping with Health Conditions for anyone who is dealing with a health problem and anyone who supports a loved one that experiences a health problem. The workbook discusses the links between physical health and mental health, and teaches you different skills to help you manage problems and difficult feelings well, get active, and work on healthy relationships.\"\n",
            "    },\n",
            "    {\n",
            "      \"document\": 8,\n",
            "      \"object\": \"search_result\",\n",
            "      \"score\": -76.899,\n",
            "      \"text\": \"Where can I go to find therapy Different kinds of therapy are more effective based on the nature of the mental health condition and/or symptoms and the person who has them (for example, children will benefit from a therapist who specializes in children\\u2019s mental health). However, there are several different types of treatment and therapy that can help.\"\n",
            "    },\n",
            "    {\n",
            "      \"document\": 0,\n",
            "      \"object\": \"search_result\",\n",
            "      \"score\": -73.475,\n",
            "      \"text\": \"How much access will the family have to the individuals who are providing the treatment?\"\n",
            "    },\n",
            "    {\n",
            "      \"document\": 1,\n",
            "      \"object\": \"search_result\",\n",
            "      \"score\": -73.441,\n",
            "      \"text\": \"How much access will the family have to the individuals who are providing the treatment?\"\n",
            "    },\n",
            "    {\n",
            "      \"document\": 3,\n",
            "      \"object\": \"search_result\",\n",
            "      \"score\": -72.782,\n",
            "      \"text\": \"Will this program involve services by other specialists? If so, who will be responsible for coordinating these services?\"\n",
            "    },\n",
            "    {\n",
            "      \"document\": 2,\n",
            "      \"object\": \"search_result\",\n",
            "      \"score\": -72.782,\n",
            "      \"text\": \"Will this program involve services by other specialists? If so, who will be responsible for coordinating these services?\"\n",
            "    },\n",
            "    {\n",
            "      \"document\": 6,\n",
            "      \"object\": \"search_result\",\n",
            "      \"score\": -50.763,\n",
            "      \"text\": \"Who is paying for the site? What products or services are being advertised? What links or other sites do they promote? Are you learning something from a story or experience, or are you simply being directed to buy a product or service?\"\n",
            "    },\n",
            "    {\n",
            "      \"document\": 5,\n",
            "      \"object\": \"search_result\",\n",
            "      \"score\": -47.306,\n",
            "      \"text\": \"Many people with mental illnesses who are diagnosed and treated respond well, although some might experience a return of symptoms. Even in such cases, with careful monitoring and management of the disorder, it is still quite possible to live a fulfilled and productive life.\"\n",
            "    }\n",
            "  ]\n",
            "}\n",
            "Latency= 3.0814127922058105\n"
          ]
        }
      ],
      "source": [
        "start = time.time()\n",
        "question1= \"Who is the Lord Mahavira?\"\n",
        "print(testModel(question1))\n",
        "end = time.time()\n",
        "print(\"Latency= \"+ str(end-start))"
      ]
    },
    {
      "cell_type": "markdown",
      "metadata": {
        "id": "b5_CDgkmRLaa"
      },
      "source": [
        " **Test question1 actual result- Fail**\n",
        "\n",
        "Actual Result- Model gave the right answer, instead document don't have any information about the Lord Mahavira."
      ]
    },
    {
      "cell_type": "markdown",
      "metadata": {
        "id": "OCBUjs99R65l"
      },
      "source": [
        "**Test question 2-** What are decorative laminates used for?\n",
        "\n",
        "Expected result- Fail"
      ]
    },
    {
      "cell_type": "code",
      "execution_count": null,
      "metadata": {
        "colab": {
          "base_uri": "https://localhost:8080/"
        },
        "id": "T5H-uS8VToJU",
        "outputId": "adc5d872-9a62-454b-fefc-f77ce67cb2f7"
      },
      "outputs": [
        {
          "output_type": "stream",
          "name": "stdout",
          "text": [
            "{\n",
            "  \"answers\": [\n",
            "    \"Decorative laminates are used to create a decorative look on a surface. They are made of a thin layer of plastic or paper that is glued to a surface.\"\n",
            "  ],\n",
            "  \"completion\": \"cmpl-4lKsf2dNESGQv1xuDex06lHJJSpf7\",\n",
            "  \"file\": \"file-tjksW00XtspZgy7TPrhzhoGC\",\n",
            "  \"model\": \"curie:2020-05-03\",\n",
            "  \"object\": \"answer\",\n",
            "  \"search_model\": \"ada:2020-05-03\",\n",
            "  \"selected_documents\": [\n",
            "    {\n",
            "      \"document\": 2,\n",
            "      \"object\": \"search_result\",\n",
            "      \"score\": -11.361,\n",
            "      \"text\": \"What is the legal status (and evidence) of CBD oil? Cannabidiol or CBD is a naturally occurring component of cannabis. It is extracted from the cannabis plant and often made into an oil for use. CBD is not psychoactive, and does not produce the \\u2018high\\u2019 of THC (tetrahyrocannabinol), the primary psychoactive component of cannabis. CBD is legal in Canada and has been used in the treatment of various medical conditions.\"\n",
            "    },\n",
            "    {\n",
            "      \"document\": 6,\n",
            "      \"object\": \"search_result\",\n",
            "      \"score\": -6.567,\n",
            "      \"text\": \"There are other classes of antidepressants (such as MAOIs or triclycics) that are much older and have more side effects or restrictions. They are usually prescribed when newer antidepressants don\\u2019t work. Other medications such as lithium, thyroid medication, or antipsychotics may also be prescribed, often in combination with an antidepressant to boost its effect. Antidepressants are not only used to treat depression\\u2014they may be prescribed to treat other illnesses like anxiety disorders.\"\n",
            "    },\n",
            "    {\n",
            "      \"document\": 7,\n",
            "      \"object\": \"search_result\",\n",
            "      \"score\": -2.716,\n",
            "      \"text\": \"What's the difference between psychotherapy and counselling? Psychotherapy and counselling have a lot in common and usually mean the same thing. Both are used to describe professionals who use talk-based approaches to help someone recover from a mental illness or mental health problem. Many different professionals may provide counselling or psychotherapy, including registered psychologists, registered clinical counsellors, psychiatrists, other therapists and counsellors, family doctors, psychiatric nurses, and faith leaders.\"\n",
            "    },\n",
            "    {\n",
            "      \"document\": 5,\n",
            "      \"object\": \"search_result\",\n",
            "      \"score\": 4.438,\n",
            "      \"text\": \"Where can I go to find other local services? There are likely plenty of resources that can be used to help you find mental health treatment in your community. These resources can help you find the right therapist, and enable you to better understand viable treatment options and the treatment process.\"\n",
            "    },\n",
            "    {\n",
            "      \"document\": 1,\n",
            "      \"object\": \"search_result\",\n",
            "      \"score\": 17.712,\n",
            "      \"text\": \"What medications are generally used with this diagnosis? What is the biological effect of this medication, and what do you expect it to accomplish? What are the risks associated with the medication? How soon will we be able to tell if the medication is effective, and how will we know?\"\n",
            "    },\n",
            "    {\n",
            "      \"document\": 0,\n",
            "      \"object\": \"search_result\",\n",
            "      \"score\": 19.188,\n",
            "      \"text\": \"What medications are generally used with this diagnosis?\"\n",
            "    },\n",
            "    {\n",
            "      \"document\": 4,\n",
            "      \"object\": \"search_result\",\n",
            "      \"score\": 41.457,\n",
            "      \"text\": \"\\\"I'll get used to this soon, just like I adapted the last time I had to change my schedule. Now that I'm home more, I'll have more time to finish the projects I haven't touched in months and I'm excited to see the end results.\"\n",
            "    }\n",
            "  ]\n",
            "}\n",
            "Latency= 3.206514358520508\n"
          ]
        }
      ],
      "source": [
        "start = time.time()\n",
        "question2= \"What are decorative laminates used for?\"\n",
        "print(testModel(question2))\n",
        "end = time.time()\n",
        "print(\"Latency= \"+ str(end-start))"
      ]
    },
    {
      "cell_type": "markdown",
      "metadata": {
        "id": "SvLJHIYGUyQ2"
      },
      "source": [
        " **Test question2 actual result- Fail.**\n",
        "\n",
        "Model gave the right answer instead of document having no information about decorative laminates."
      ]
    },
    {
      "cell_type": "markdown",
      "metadata": {
        "id": "RNRIZiwVUyOM"
      },
      "source": [
        "### Conclusion- \n",
        "\n",
        "When experimented with a different dataset that had just 2 paragraphs, model was failing for the queries outside the provided document, but in the above test, model was ble to answer the queries for which document don't have any information. But still, lets try some different tests to know more about the model."
      ]
    },
    {
      "cell_type": "markdown",
      "metadata": {
        "id": "AvAzUoHmXpQt"
      },
      "source": [
        "###Test-2: Verify if GPT-3 model overcomes the limitations of the models that were build and proposed in Phase-3 and Phase-4.\n",
        "\n",
        "Test question 3- What is mental health and what is the difference between mental health professionals?\n",
        "\n",
        "Expected result- The above question has 2 different questions in it. And the model should be able to answer both the questions. This will verify that model is able to answer the query that needs the combined information of multiple paragraphs."
      ]
    },
    {
      "cell_type": "code",
      "execution_count": null,
      "metadata": {
        "colab": {
          "base_uri": "https://localhost:8080/"
        },
        "id": "XSUIxY16eWjB",
        "outputId": "b6b6c77e-d222-4f87-b6d7-fcd117c27a66"
      },
      "outputs": [
        {
          "output_type": "stream",
          "name": "stdout",
          "text": [
            "{\n",
            "  \"answers\": [\n",
            "    \"Mental health is the ability to think, feel, and act in a way that is healthy and productive. Mental health professionals are health care professionals who have received specialized training in mental health. They can help you manage your mental health and improve your quality of life.\"\n",
            "  ],\n",
            "  \"completion\": \"cmpl-4lKsitbIV1efLklBp2j2Vjqvtg4KS\",\n",
            "  \"file\": \"file-tjksW00XtspZgy7TPrhzhoGC\",\n",
            "  \"model\": \"curie:2020-05-03\",\n",
            "  \"object\": \"answer\",\n",
            "  \"search_model\": \"ada:2020-05-03\",\n",
            "  \"selected_documents\": [\n",
            "    {\n",
            "      \"document\": 8,\n",
            "      \"object\": \"search_result\",\n",
            "      \"score\": 73.108,\n",
            "      \"text\": \"What is mental health? We all have mental health which is made up of our beliefs, thoughts, feelings and behaviours.\"\n",
            "    },\n",
            "    {\n",
            "      \"document\": 1,\n",
            "      \"object\": \"search_result\",\n",
            "      \"score\": 82.8,\n",
            "      \"text\": \"What's the difference between psychotherapy and counselling? Psychotherapy and counselling have a lot in common and usually mean the same thing. Both are used to describe professionals who use talk-based approaches to help someone recover from a mental illness or mental health problem. Many different professionals may provide counselling or psychotherapy, including registered psychologists, registered clinical counsellors, psychiatrists, other therapists and counsellors, family doctors, psychiatric nurses, and faith leaders.\"\n",
            "    },\n",
            "    {\n",
            "      \"document\": 6,\n",
            "      \"object\": \"search_result\",\n",
            "      \"score\": 82.865,\n",
            "      \"text\": \"Where else can I get help? Where you go for help will depend on the nature of the problem and/or symptoms and what best fits you. Often, the best place to start is by talking with someone you trust about your concerns, such as a family member, friend, clergy, healthcare provider, or other professionals. Having this social support is essential in healing from mental illness, and you will be able to ask them for referrals or recommendations for trusted mental health practitioners. Search for mental health resources in your area.\"\n",
            "    },\n",
            "    {\n",
            "      \"document\": 5,\n",
            "      \"object\": \"search_result\",\n",
            "      \"score\": 103.644,\n",
            "      \"text\": \"What's the difference between a psychiatrist and a registered psychologist? A psychiatrist is a medical doctor with extra training in mental health who can choose to prescribe medications. Some use psychotherapy (\\u2018talk therapies\\u2019) approaches like cognitive-behavioural therapy to treat mental health problems. Many psychiatrists work at hospitals, clinics, or health centres, and some have a private office. As they are specialist doctors, you will almost always need another doctor\\u2019s referral to see a psychiatrist, and fees are covered by MSP. If you have a valid BC Services or CareCard, you do not need to pay to see a psychiatrist.\"\n",
            "    },\n",
            "    {\n",
            "      \"document\": 3,\n",
            "      \"object\": \"search_result\",\n",
            "      \"score\": 125.087,\n",
            "      \"text\": \"What are the different types of mental health professionals? There are many types of mental health professionals. Finding the right one for you may require some research.\"\n",
            "    },\n",
            "    {\n",
            "      \"document\": 0,\n",
            "      \"object\": \"search_result\",\n",
            "      \"score\": 143.569,\n",
            "      \"text\": \"What is the difference between mental health professionals? There are many types of mental health professionals. The variety of providers and their services may be confusing. Each have various levels of education, training, and may have different areas of expertise. Finding the professional who best fits your needs may require some research.\"\n",
            "    }\n",
            "  ]\n",
            "}\n",
            "Latency= 3.1068193912506104\n"
          ]
        }
      ],
      "source": [
        "#question3 = \"What are the symptoms of mental illness and is it possible for the mental patients to get recover?\"\n",
        "question3 = \"What is mental health and what is the difference between mental health professionals?\"\n",
        "start = time.time()\n",
        "print(testModel(question3))\n",
        "end = time.time()\n",
        "print(\"Latency= \"+ str(end-start))\n"
      ]
    },
    {
      "cell_type": "markdown",
      "metadata": {
        "id": "djDOmUVZfGge"
      },
      "source": [
        "Actual Result- Pass.\n",
        "\n",
        "Model answered both the questions."
      ]
    },
    {
      "cell_type": "markdown",
      "source": [
        "###Test-3: Check the performance of the model."
      ],
      "metadata": {
        "id": "J8M6LWmOKGYo"
      }
    },
    {
      "cell_type": "markdown",
      "source": [
        "Test question-4: What's the difference between CBT and DBT?"
      ],
      "metadata": {
        "id": "9sPslzZnKe0N"
      }
    },
    {
      "cell_type": "code",
      "source": [
        "question4 = \"What's the difference between CBT and DBT?\"\n",
        "start = time.time()\n",
        "print(testModel(question4).answers)\n",
        "end = time.time()\n",
        "print(\"Latency= \"+ str(end-start))"
      ],
      "metadata": {
        "colab": {
          "base_uri": "https://localhost:8080/"
        },
        "id": "veuE39yXKn-9",
        "outputId": "bbe045d8-f78b-4f07-a5b3-09501682069e"
      },
      "execution_count": null,
      "outputs": [
        {
          "output_type": "stream",
          "name": "stdout",
          "text": [
            "['CBT (cognitive-behavioural therapy) and DBT (dialectical behaviour therapy) are two forms of psychotherapy or “talk therapy.” In both, you work with a mental health professional to learn more about the challenges you experience and learn skills to help you manage challenges on your own.']\n",
            "Latency= 4.088366985321045\n"
          ]
        }
      ]
    },
    {
      "cell_type": "markdown",
      "source": [
        "Latency for Test question3 = 2.9392693042755127.\n",
        "\n",
        "Observations about the performance of the model-\n",
        "\n",
        "1) The answer given by the model is short compared to what is given in the document. Model is allowed to give 1500 token but still getting the short anwers.\n",
        "\n",
        "2) Model is sometimes giving the same phrase repetitively many times to form an answer. For eg- Let us say that there are 10 words in the answer provided, then sometimes there are actually only 10 words which makes sense, and rest of the 90 words are the repitition of the initial 10 words multiple times.\n"
      ],
      "metadata": {
        "id": "SiH_AlkTLkJV"
      }
    },
    {
      "cell_type": "markdown",
      "metadata": {
        "id": "5hA50809h-zg"
      },
      "source": [
        "###What needs to further research/experiment?\n",
        "\n",
        "1) Why the model is giving the short responses.\n",
        "\n",
        "2) The quality of answers provided by the model compared to the answers that are mentioned in the document.\n",
        "\n",
        "3) Those words that were present in the answer that was returned by the model are not present in the provided FAQ document. So, seems like model is answering the questions using the knowledge outside the document provided. So, this needs to be checked. "
      ]
    },
    {
      "cell_type": "markdown",
      "source": [
        "###Calculating the accuracy for the above model\n",
        "\n",
        "1) Is provided answer relevant?\n",
        "\n",
        "2) Is correct paragraph has been choosen for providing the answer?\n",
        "\n",
        "3) Is answer given by model is as informative as the answer provided in the \n",
        "document?\n",
        "\n",
        "Combining the above parameters, tell if overall performance of the model matches the expectation?"
      ],
      "metadata": {
        "id": "ZpgeMum29mLv"
      }
    },
    {
      "cell_type": "markdown",
      "source": [
        "Parameters for calculating the accuracy.\n",
        "\n",
        "For questionTest= \"What does it mean to have a mental illness?\"\n",
        "\n",
        "1) Yes-1\n",
        "\n",
        "2) Yes\n",
        "\n",
        "3) No- 0.2\n",
        "\n",
        "Result not satisfactory.\n",
        "\n",
        "\n",
        "For Test question-0: What's the difference between CBT and DBT?\n",
        "\n",
        "1) Yes-1\n",
        "\n",
        "2) Yes\n",
        "\n",
        "3) No- 0.2\n",
        "\n",
        "Result not satisfactory.\n",
        "\n",
        "\n",
        "For Test question 1- Who is Lord Mahavira?\n",
        "\n",
        "1) No-0\n",
        "\n",
        "2) No\n",
        "\n",
        "3) No-0\n",
        "\n",
        "Result not satisfactory.\n",
        "\n",
        "\n",
        "Test question 2- What are decorative laminates used for?\n",
        "\n",
        "1) No-0\n",
        "\n",
        "2) No\n",
        "\n",
        "3) No-0\n",
        "\n",
        "Result not satisfactory.\n",
        "\n",
        "\n",
        "Test question 3- What is mental health and what is the difference between mental health professionals??\n",
        "\n",
        "1) No-0.5\n",
        "\n",
        "2) No\n",
        "\n",
        "3) No-0.1\n",
        "\n",
        "\n",
        "Accuracy- \n",
        "In terms of the relevancy of responses= 2.5 out of 5 = 50%\n",
        "\n",
        "In terms of the amount of information that model should provide in order to solve the problem=  0.5 out of 5= 0.1%"
      ],
      "metadata": {
        "id": "FV5OV8D3CvIj"
      }
    },
    {
      "cell_type": "markdown",
      "metadata": {
        "id": "Nd-FDDy0Jyl7"
      },
      "source": [
        "###Latency\n",
        "\n",
        "Average latency of the model is 3.3 seconds."
      ]
    },
    {
      "cell_type": "code",
      "execution_count": null,
      "metadata": {
        "colab": {
          "base_uri": "https://localhost:8080/"
        },
        "id": "tNpA2FeTiZxo",
        "outputId": "e1bb1041-c451-423b-8517-097d59af980c"
      },
      "outputs": [
        {
          "output_type": "stream",
          "name": "stdout",
          "text": [
            "3.3436837196350098\n"
          ]
        }
      ],
      "source": [
        "#Calculating Latency\n",
        "#Latency for test question-1: Latency= 2.628389596939087\n",
        "#Latency for test question-2: Latency= 3.8287103176116943\n",
        "#Latency for test question-3: Latency= 3.978365659713745\n",
        "#Latency for test question-3: Latency= 2.9392693042755127\n",
        "AverageLatency = (2.628389596939087 + 3.8287103176116943 + 3.978365659713745 + 2.9392693042755127) / 4\n",
        "print(AverageLatency)"
      ]
    },
    {
      "cell_type": "markdown",
      "source": [
        ""
      ],
      "metadata": {
        "id": "R3IuxvBrUBjv"
      }
    },
    {
      "cell_type": "markdown",
      "source": [
        "###Comparision of the models built till now"
      ],
      "metadata": {
        "id": "opDN1JJtOzua"
      }
    },
    {
      "cell_type": "markdown",
      "source": [
        "a) Models built in Phase-3: \n",
        "\n",
        "  1.   Semantic Search using BERT.\n",
        "  \n",
        "b) Models built in Phase-4:\n",
        "\n",
        "  1.   Proposed Question and Answering System using BERT. Not implemented.\n",
        "  2.   GPT-3 model.\n",
        "     \n",
        "We will be comparing the Semantic Search using BERT and GPT-3 model-\n",
        "\n",
        "1) Semantic Search model is doing better as compared to the GPT-3 model as of now.\n",
        "\n",
        "2) As the dataset, we have the set of FAQs. In my opinion, after deploying the model, around 80% of the user queries will be similar to the questions that are present in the FAQ set. Using the semantic search model in this case will provide satisfactory answers to the user query. \n",
        "\n",
        "3) Let us assume we deploy the GPT-3 model. Then, on the basis if current testing results, GPT-3 is giving the relevant answers to the user query but these answers are not as good as the answers that are given in the FAQ dataset. \n",
        "\n",
        "4) Looking at the current testing results, we can settle with the limitations of the Semantic search model, because it fulfilling the core purpose of answering the user queries in 80% of the cases. If in future, GPT-3 model will be able to provide the answers that are as good as the answers that are provided in the FAQ dataset, then we can go for the GPT-3 model."
      ],
      "metadata": {
        "id": "HZyOguX9O1pa"
      }
    },
    {
      "cell_type": "markdown",
      "source": [
        "###What can be improved if given more time-\n",
        "\n",
        "1) Combination of both the models should be used. As 80% of the user-queries can be answered better using the Semantic Search model. And for the remaining 20% where user-query is not directly matching the FAQs in the dataset, GPT-3 model can be used.\n",
        "\n",
        "2) Use GPT-3 model for semantic search.\n",
        "\n",
        "3) Right now the semantic search model is just comparing the user query with the set of questions in the FAQ dataset. But it can be improved to compare the user query with question and answers as well that are in the FAQ dataset.\n",
        "\n",
        "4) Try to check if the answers of the Questions Answering model using GPT-3 can be improved to the level of the answers present in the FAQ set. If this can be done, then this is the best."
      ],
      "metadata": {
        "id": "iZk79JcIUXem"
      }
    }
  ],
  "metadata": {
    "hide_input": false,
    "kernelspec": {
      "display_name": "Python 3",
      "language": "python",
      "name": "python3"
    },
    "language_info": {
      "codemirror_mode": {
        "name": "ipython",
        "version": 3
      },
      "file_extension": ".py",
      "mimetype": "text/x-python",
      "name": "python",
      "nbconvert_exporter": "python",
      "pygments_lexer": "ipython3",
      "version": "3.6.8"
    },
    "toc": {
      "base_numbering": 1,
      "nav_menu": {},
      "number_sections": true,
      "sideBar": true,
      "skip_h1_title": false,
      "title_cell": "Table of Contents",
      "title_sidebar": "Contents",
      "toc_cell": false,
      "toc_position": {},
      "toc_section_display": true,
      "toc_window_display": false
    },
    "varInspector": {
      "cols": {
        "lenName": 16,
        "lenType": 16,
        "lenVar": 40
      },
      "kernels_config": {
        "python": {
          "delete_cmd_postfix": "",
          "delete_cmd_prefix": "del ",
          "library": "var_list.py",
          "varRefreshCmd": "print(var_dic_list())"
        },
        "r": {
          "delete_cmd_postfix": ") ",
          "delete_cmd_prefix": "rm(",
          "library": "var_list.r",
          "varRefreshCmd": "cat(var_dic_list()) "
        }
      },
      "types_to_exclude": [
        "module",
        "function",
        "builtin_function_or_method",
        "instance",
        "_Feature"
      ],
      "window_display": false
    },
    "colab": {
      "name": "Copy of Phase-4-Advanced Modelling and Error Analysis.ipynb",
      "provenance": [],
      "collapsed_sections": []
    }
  },
  "nbformat": 4,
  "nbformat_minor": 0
}