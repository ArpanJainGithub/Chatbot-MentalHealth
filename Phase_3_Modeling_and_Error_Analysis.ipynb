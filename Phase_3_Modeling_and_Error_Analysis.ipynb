{
  "cells": [
    {
      "cell_type": "markdown",
      "metadata": {
        "id": "view-in-github",
        "colab_type": "text"
      },
      "source": [
        "<a href=\"https://colab.research.google.com/github/ArpanJainGithub/Chatbot-MentalHealth/blob/main/Phase_3_Modeling_and_Error_Analysis.ipynb\" target=\"_parent\"><img src=\"https://colab.research.google.com/assets/colab-badge.svg\" alt=\"Open In Colab\"/></a>"
      ]
    },
    {
      "cell_type": "markdown",
      "source": [
        "#Phase-3: Modeling and Error Analysis"
      ],
      "metadata": {
        "id": "LYq1_wsoc3ti"
      }
    },
    {
      "cell_type": "markdown",
      "source": [
        "Note- Not able to show the results in the report as BertClient has suddenly stopped working."
      ],
      "metadata": {
        "id": "oe8GHaoLv6-b"
      }
    },
    {
      "cell_type": "code",
      "execution_count": 1,
      "metadata": {
        "id": "go2OkzFqGxyl",
        "colab": {
          "base_uri": "https://localhost:8080/"
        },
        "outputId": "7bb8e4ca-40cf-4263-d685-eb32234ffe00"
      },
      "outputs": [
        {
          "output_type": "stream",
          "name": "stdout",
          "text": [
            "TensorFlow 1.x selected.\n"
          ]
        }
      ],
      "source": [
        "%tensorflow_version 1.x\n",
        "import pandas as pd\n",
        "import numpy as np\n",
        "from sklearn.metrics.pairwise import cosine_similarity"
      ]
    },
    {
      "cell_type": "code",
      "execution_count": 2,
      "metadata": {
        "id": "E-klMTAlO0uE"
      },
      "outputs": [],
      "source": [
        "#Referred the following video for unerstanding pupose: https://www.youtube.com/watch?v=ZxR38An5TQE&t=909s\n",
        "#Referred the code from https://colab.research.google.com/drive/1BdTi2gqCPNeFUeNqJk83LHcjoqj4pOmw"
      ]
    },
    {
      "cell_type": "markdown",
      "metadata": {
        "id": "cDCOhjiWdksb"
      },
      "source": [
        "###Using the BERT model to get the most similar question to the user query in the FAQ dataset.\n",
        "BERT is choosen because-\n",
        "\n",
        "1) It is state of the art technique for the text comparision.\n",
        "\n",
        "2) Referred few resources (mentioned below) over internet which I felt was good, and most of them used BERT.\n",
        "     \n",
        "     a) https://medium.com/huggingface/how-to-build-a-state-of-the-art-conversational-ai-with-transfer-learning-2d818ac26313\n",
        "\n",
        "     b) https://link.springer.com/chapter/10.1007/978-3-030-47426-3_19\n",
        "     \n",
        "     c) https://www.youtube.com/watch?v=ZxR38An5TQE&t=909s\n",
        "\n"
      ]
    },
    {
      "cell_type": "markdown",
      "metadata": {
        "id": "VtHZdZawKUAE"
      },
      "source": [
        "Referred https://colab.research.google.com/drive/1BdTi2gqCPNeFUeNqJk83LHcjoqj4pOmw for code."
      ]
    },
    {
      "cell_type": "code",
      "execution_count": 3,
      "metadata": {
        "colab": {
          "base_uri": "https://localhost:8080/"
        },
        "id": "h8pn2aGDE75Z",
        "outputId": "bc051780-6e3e-4be3-e0c5-694e2eb1fc02"
      },
      "outputs": [
        {
          "output_type": "stream",
          "name": "stdout",
          "text": [
            "Collecting bert-serving-server\n",
            "  Downloading bert_serving_server-1.10.0-py3-none-any.whl (61 kB)\n",
            "\u001b[?25l\r\u001b[K     |█████▎                          | 10 kB 22.3 MB/s eta 0:00:01\r\u001b[K     |██████████▋                     | 20 kB 25.2 MB/s eta 0:00:01\r\u001b[K     |████████████████                | 30 kB 29.3 MB/s eta 0:00:01\r\u001b[K     |█████████████████████▎          | 40 kB 4.6 MB/s eta 0:00:01\r\u001b[K     |██████████████████████████▋     | 51 kB 5.6 MB/s eta 0:00:01\r\u001b[K     |███████████████████████████████▉| 61 kB 6.5 MB/s eta 0:00:01\r\u001b[K     |████████████████████████████████| 61 kB 243 kB/s \n",
            "\u001b[?25hRequirement already satisfied: pyzmq>=17.1.0 in /usr/local/lib/python3.7/dist-packages (from bert-serving-server) (22.3.0)\n",
            "Requirement already satisfied: six in /usr/local/lib/python3.7/dist-packages (from bert-serving-server) (1.15.0)\n",
            "Requirement already satisfied: termcolor>=1.1 in /usr/local/lib/python3.7/dist-packages (from bert-serving-server) (1.1.0)\n",
            "Requirement already satisfied: numpy in /usr/local/lib/python3.7/dist-packages (from bert-serving-server) (1.21.5)\n",
            "Collecting GPUtil>=1.3.0\n",
            "  Downloading GPUtil-1.4.0.tar.gz (5.5 kB)\n",
            "Building wheels for collected packages: GPUtil\n",
            "  Building wheel for GPUtil (setup.py) ... \u001b[?25l\u001b[?25hdone\n",
            "  Created wheel for GPUtil: filename=GPUtil-1.4.0-py3-none-any.whl size=7411 sha256=0b437c6a6abf6faf5daf51966f23ccfcf0ef0918b681453b4d65c7f1c06733d1\n",
            "  Stored in directory: /root/.cache/pip/wheels/6e/f8/83/534c52482d6da64622ddbf72cd93c35d2ef2881b78fd08ff0c\n",
            "Successfully built GPUtil\n",
            "Installing collected packages: GPUtil, bert-serving-server\n",
            "Successfully installed GPUtil-1.4.0 bert-serving-server-1.10.0\n"
          ]
        }
      ],
      "source": [
        "!pip install bert-serving-server"
      ]
    },
    {
      "cell_type": "code",
      "execution_count": 4,
      "metadata": {
        "colab": {
          "base_uri": "https://localhost:8080/"
        },
        "id": "lpUmyAsRFcYN",
        "outputId": "d70dceb6-bd1a-4704-b4d0-a0090af8f792"
      },
      "outputs": [
        {
          "output_type": "stream",
          "name": "stdout",
          "text": [
            "--2022-03-13 12:19:51--  https://storage.googleapis.com/bert_models/2018_10_18/uncased_L-12_H-768_A-12.zip\n",
            "Resolving storage.googleapis.com (storage.googleapis.com)... 74.125.129.128, 209.85.234.128, 172.253.119.128, ...\n",
            "Connecting to storage.googleapis.com (storage.googleapis.com)|74.125.129.128|:443... connected.\n",
            "HTTP request sent, awaiting response... 200 OK\n",
            "Length: 407727028 (389M) [application/zip]\n",
            "Saving to: ‘uncased_L-12_H-768_A-12.zip’\n",
            "\n",
            "uncased_L-12_H-768_ 100%[===================>] 388.84M   168MB/s    in 2.3s    \n",
            "\n",
            "2022-03-13 12:19:54 (168 MB/s) - ‘uncased_L-12_H-768_A-12.zip’ saved [407727028/407727028]\n",
            "\n",
            "Archive:  uncased_L-12_H-768_A-12.zip\n",
            "   creating: uncased_L-12_H-768_A-12/\n",
            "  inflating: uncased_L-12_H-768_A-12/bert_model.ckpt.meta  \n",
            "  inflating: uncased_L-12_H-768_A-12/bert_model.ckpt.data-00000-of-00001  \n",
            "  inflating: uncased_L-12_H-768_A-12/vocab.txt  \n",
            "  inflating: uncased_L-12_H-768_A-12/bert_model.ckpt.index  \n",
            "  inflating: uncased_L-12_H-768_A-12/bert_config.json  \n"
          ]
        }
      ],
      "source": [
        "!wget https://storage.googleapis.com/bert_models/2018_10_18/uncased_L-12_H-768_A-12.zip; unzip uncased_L-12_H-768_A-12.zip"
      ]
    },
    {
      "cell_type": "code",
      "execution_count": 5,
      "metadata": {
        "id": "s8X3XOWvFkb7"
      },
      "outputs": [],
      "source": [
        "!nohup bert-serving-start -max_seq_len=128 -model_dir=uncased_L-12_H-768_A-12 > out.file 2>&1 &"
      ]
    },
    {
      "cell_type": "code",
      "execution_count": 6,
      "metadata": {
        "id": "FSTCSdorFou1",
        "colab": {
          "base_uri": "https://localhost:8080/"
        },
        "outputId": "f7e30dab-b250-43d5-a7f6-1ee00af99073"
      },
      "outputs": [
        {
          "output_type": "stream",
          "name": "stdout",
          "text": [
            "Collecting bert-serving-client\n",
            "  Downloading bert_serving_client-1.10.0-py2.py3-none-any.whl (28 kB)\n",
            "Requirement already satisfied: numpy in /usr/local/lib/python3.7/dist-packages (from bert-serving-client) (1.21.5)\n",
            "Requirement already satisfied: pyzmq>=17.1.0 in /usr/local/lib/python3.7/dist-packages (from bert-serving-client) (22.3.0)\n",
            "Installing collected packages: bert-serving-client\n",
            "Successfully installed bert-serving-client-1.10.0\n"
          ]
        }
      ],
      "source": [
        "!pip install bert-serving-client"
      ]
    },
    {
      "cell_type": "code",
      "execution_count": 7,
      "metadata": {
        "id": "vE9bIouGGYQh",
        "colab": {
          "base_uri": "https://localhost:8080/",
          "height": 345
        },
        "outputId": "ce7dbd66-e777-4134-f091-b8d9c78b4a90"
      },
      "outputs": [
        {
          "output_type": "error",
          "ename": "KeyboardInterrupt",
          "evalue": "ignored",
          "traceback": [
            "\u001b[0;31m---------------------------------------------------------------------------\u001b[0m",
            "\u001b[0;31mKeyboardInterrupt\u001b[0m                         Traceback (most recent call last)",
            "\u001b[0;32m<ipython-input-7-6bd4437a499e>\u001b[0m in \u001b[0;36m<module>\u001b[0;34m()\u001b[0m\n\u001b[1;32m      1\u001b[0m \u001b[0;32mfrom\u001b[0m \u001b[0mbert_serving\u001b[0m\u001b[0;34m.\u001b[0m\u001b[0mclient\u001b[0m \u001b[0;32mimport\u001b[0m \u001b[0mBertClient\u001b[0m\u001b[0;34m\u001b[0m\u001b[0;34m\u001b[0m\u001b[0m\n\u001b[0;32m----> 2\u001b[0;31m \u001b[0mbc\u001b[0m \u001b[0;34m=\u001b[0m \u001b[0mBertClient\u001b[0m\u001b[0;34m(\u001b[0m\u001b[0;34m)\u001b[0m\u001b[0;34m\u001b[0m\u001b[0;34m\u001b[0m\u001b[0m\n\u001b[0m",
            "\u001b[0;32m/usr/local/lib/python3.7/dist-packages/bert_serving/client/__init__.py\u001b[0m in \u001b[0;36m__init__\u001b[0;34m(self, ip, port, port_out, output_fmt, show_server_config, identity, check_version, check_length, check_token_info, ignore_all_checks, timeout)\u001b[0m\n\u001b[1;32m    106\u001b[0m \u001b[0;34m\u001b[0m\u001b[0m\n\u001b[1;32m    107\u001b[0m         \u001b[0;32mif\u001b[0m \u001b[0;32mnot\u001b[0m \u001b[0mignore_all_checks\u001b[0m \u001b[0;32mand\u001b[0m \u001b[0;34m(\u001b[0m\u001b[0mcheck_version\u001b[0m \u001b[0;32mor\u001b[0m \u001b[0mshow_server_config\u001b[0m \u001b[0;32mor\u001b[0m \u001b[0mcheck_length\u001b[0m \u001b[0;32mor\u001b[0m \u001b[0mcheck_token_info\u001b[0m\u001b[0;34m)\u001b[0m\u001b[0;34m:\u001b[0m\u001b[0;34m\u001b[0m\u001b[0;34m\u001b[0m\u001b[0m\n\u001b[0;32m--> 108\u001b[0;31m             \u001b[0ms_status\u001b[0m \u001b[0;34m=\u001b[0m \u001b[0mself\u001b[0m\u001b[0;34m.\u001b[0m\u001b[0mserver_config\u001b[0m\u001b[0;34m\u001b[0m\u001b[0;34m\u001b[0m\u001b[0m\n\u001b[0m\u001b[1;32m    109\u001b[0m \u001b[0;34m\u001b[0m\u001b[0m\n\u001b[1;32m    110\u001b[0m             \u001b[0;32mif\u001b[0m \u001b[0mcheck_version\u001b[0m \u001b[0;32mand\u001b[0m \u001b[0ms_status\u001b[0m\u001b[0;34m[\u001b[0m\u001b[0;34m'server_version'\u001b[0m\u001b[0;34m]\u001b[0m \u001b[0;34m!=\u001b[0m \u001b[0mself\u001b[0m\u001b[0;34m.\u001b[0m\u001b[0mstatus\u001b[0m\u001b[0;34m[\u001b[0m\u001b[0;34m'client_version'\u001b[0m\u001b[0;34m]\u001b[0m\u001b[0;34m:\u001b[0m\u001b[0;34m\u001b[0m\u001b[0;34m\u001b[0m\u001b[0m\n",
            "\u001b[0;32m/usr/local/lib/python3.7/dist-packages/bert_serving/client/__init__.py\u001b[0m in \u001b[0;36marg_wrapper\u001b[0;34m(self, *args, **kwargs)\u001b[0m\n\u001b[1;32m    204\u001b[0m                 \u001b[0mself\u001b[0m\u001b[0;34m.\u001b[0m\u001b[0mreceiver\u001b[0m\u001b[0;34m.\u001b[0m\u001b[0msetsockopt\u001b[0m\u001b[0;34m(\u001b[0m\u001b[0mzmq\u001b[0m\u001b[0;34m.\u001b[0m\u001b[0mRCVTIMEO\u001b[0m\u001b[0;34m,\u001b[0m \u001b[0mself\u001b[0m\u001b[0;34m.\u001b[0m\u001b[0mtimeout\u001b[0m\u001b[0;34m)\u001b[0m\u001b[0;34m\u001b[0m\u001b[0;34m\u001b[0m\u001b[0m\n\u001b[1;32m    205\u001b[0m             \u001b[0;32mtry\u001b[0m\u001b[0;34m:\u001b[0m\u001b[0;34m\u001b[0m\u001b[0;34m\u001b[0m\u001b[0m\n\u001b[0;32m--> 206\u001b[0;31m                 \u001b[0;32mreturn\u001b[0m \u001b[0mfunc\u001b[0m\u001b[0;34m(\u001b[0m\u001b[0mself\u001b[0m\u001b[0;34m,\u001b[0m \u001b[0;34m*\u001b[0m\u001b[0margs\u001b[0m\u001b[0;34m,\u001b[0m \u001b[0;34m**\u001b[0m\u001b[0mkwargs\u001b[0m\u001b[0;34m)\u001b[0m\u001b[0;34m\u001b[0m\u001b[0;34m\u001b[0m\u001b[0m\n\u001b[0m\u001b[1;32m    207\u001b[0m             \u001b[0;32mexcept\u001b[0m \u001b[0mzmq\u001b[0m\u001b[0;34m.\u001b[0m\u001b[0merror\u001b[0m\u001b[0;34m.\u001b[0m\u001b[0mAgain\u001b[0m \u001b[0;32mas\u001b[0m \u001b[0m_e\u001b[0m\u001b[0;34m:\u001b[0m\u001b[0;34m\u001b[0m\u001b[0;34m\u001b[0m\u001b[0m\n\u001b[1;32m    208\u001b[0m                 t_e = TimeoutError(\n",
            "\u001b[0;32m/usr/local/lib/python3.7/dist-packages/bert_serving/client/__init__.py\u001b[0m in \u001b[0;36mserver_config\u001b[0;34m(self)\u001b[0m\n\u001b[1;32m    230\u001b[0m         \"\"\"\n\u001b[1;32m    231\u001b[0m         \u001b[0mreq_id\u001b[0m \u001b[0;34m=\u001b[0m \u001b[0mself\u001b[0m\u001b[0;34m.\u001b[0m\u001b[0m_send\u001b[0m\u001b[0;34m(\u001b[0m\u001b[0;34mb'SHOW_CONFIG'\u001b[0m\u001b[0;34m)\u001b[0m\u001b[0;34m\u001b[0m\u001b[0;34m\u001b[0m\u001b[0m\n\u001b[0;32m--> 232\u001b[0;31m         \u001b[0;32mreturn\u001b[0m \u001b[0mjsonapi\u001b[0m\u001b[0;34m.\u001b[0m\u001b[0mloads\u001b[0m\u001b[0;34m(\u001b[0m\u001b[0mself\u001b[0m\u001b[0;34m.\u001b[0m\u001b[0m_recv\u001b[0m\u001b[0;34m(\u001b[0m\u001b[0mreq_id\u001b[0m\u001b[0;34m)\u001b[0m\u001b[0;34m.\u001b[0m\u001b[0mcontent\u001b[0m\u001b[0;34m[\u001b[0m\u001b[0;36m1\u001b[0m\u001b[0;34m]\u001b[0m\u001b[0;34m)\u001b[0m\u001b[0;34m\u001b[0m\u001b[0;34m\u001b[0m\u001b[0m\n\u001b[0m\u001b[1;32m    233\u001b[0m \u001b[0;34m\u001b[0m\u001b[0m\n\u001b[1;32m    234\u001b[0m     \u001b[0;34m@\u001b[0m\u001b[0mproperty\u001b[0m\u001b[0;34m\u001b[0m\u001b[0;34m\u001b[0m\u001b[0m\n",
            "\u001b[0;32m/usr/local/lib/python3.7/dist-packages/bert_serving/client/__init__.py\u001b[0m in \u001b[0;36m_recv\u001b[0;34m(self, wait_for_req_id)\u001b[0m\n\u001b[1;32m    151\u001b[0m \u001b[0;34m\u001b[0m\u001b[0m\n\u001b[1;32m    152\u001b[0m                 \u001b[0;31m# receive a response\u001b[0m\u001b[0;34m\u001b[0m\u001b[0;34m\u001b[0m\u001b[0;34m\u001b[0m\u001b[0m\n\u001b[0;32m--> 153\u001b[0;31m                 \u001b[0mresponse\u001b[0m \u001b[0;34m=\u001b[0m \u001b[0mself\u001b[0m\u001b[0;34m.\u001b[0m\u001b[0mreceiver\u001b[0m\u001b[0;34m.\u001b[0m\u001b[0mrecv_multipart\u001b[0m\u001b[0;34m(\u001b[0m\u001b[0;34m)\u001b[0m\u001b[0;34m\u001b[0m\u001b[0;34m\u001b[0m\u001b[0m\n\u001b[0m\u001b[1;32m    154\u001b[0m                 \u001b[0mrequest_id\u001b[0m \u001b[0;34m=\u001b[0m \u001b[0mint\u001b[0m\u001b[0;34m(\u001b[0m\u001b[0mresponse\u001b[0m\u001b[0;34m[\u001b[0m\u001b[0;34m-\u001b[0m\u001b[0;36m1\u001b[0m\u001b[0;34m]\u001b[0m\u001b[0;34m)\u001b[0m\u001b[0;34m\u001b[0m\u001b[0;34m\u001b[0m\u001b[0m\n\u001b[1;32m    155\u001b[0m \u001b[0;34m\u001b[0m\u001b[0m\n",
            "\u001b[0;32m/usr/local/lib/python3.7/dist-packages/zmq/sugar/socket.py\u001b[0m in \u001b[0;36mrecv_multipart\u001b[0;34m(self, flags, copy, track)\u001b[0m\n\u001b[1;32m    623\u001b[0m             \u001b[0;32mfor\u001b[0m \u001b[0many\u001b[0m \u001b[0mof\u001b[0m \u001b[0mthe\u001b[0m \u001b[0mreasons\u001b[0m \u001b[0;34m:\u001b[0m\u001b[0mfunc\u001b[0m\u001b[0;34m:\u001b[0m\u001b[0;31m`\u001b[0m\u001b[0;34m~\u001b[0m\u001b[0mSocket\u001b[0m\u001b[0;34m.\u001b[0m\u001b[0mrecv\u001b[0m\u001b[0;31m`\u001b[0m \u001b[0mmight\u001b[0m \u001b[0mfail\u001b[0m\u001b[0;34m\u001b[0m\u001b[0;34m\u001b[0m\u001b[0m\n\u001b[1;32m    624\u001b[0m         \"\"\"\n\u001b[0;32m--> 625\u001b[0;31m         \u001b[0mparts\u001b[0m \u001b[0;34m=\u001b[0m \u001b[0;34m[\u001b[0m\u001b[0mself\u001b[0m\u001b[0;34m.\u001b[0m\u001b[0mrecv\u001b[0m\u001b[0;34m(\u001b[0m\u001b[0mflags\u001b[0m\u001b[0;34m,\u001b[0m \u001b[0mcopy\u001b[0m\u001b[0;34m=\u001b[0m\u001b[0mcopy\u001b[0m\u001b[0;34m,\u001b[0m \u001b[0mtrack\u001b[0m\u001b[0;34m=\u001b[0m\u001b[0mtrack\u001b[0m\u001b[0;34m)\u001b[0m\u001b[0;34m]\u001b[0m\u001b[0;34m\u001b[0m\u001b[0;34m\u001b[0m\u001b[0m\n\u001b[0m\u001b[1;32m    626\u001b[0m         \u001b[0;31m# have first part already, only loop while more to receive\u001b[0m\u001b[0;34m\u001b[0m\u001b[0;34m\u001b[0m\u001b[0;34m\u001b[0m\u001b[0m\n\u001b[1;32m    627\u001b[0m         \u001b[0;32mwhile\u001b[0m \u001b[0mself\u001b[0m\u001b[0;34m.\u001b[0m\u001b[0mgetsockopt\u001b[0m\u001b[0;34m(\u001b[0m\u001b[0mzmq\u001b[0m\u001b[0;34m.\u001b[0m\u001b[0mRCVMORE\u001b[0m\u001b[0;34m)\u001b[0m\u001b[0;34m:\u001b[0m\u001b[0;34m\u001b[0m\u001b[0;34m\u001b[0m\u001b[0m\n",
            "\u001b[0;32mzmq/backend/cython/socket.pyx\u001b[0m in \u001b[0;36mzmq.backend.cython.socket.Socket.recv\u001b[0;34m()\u001b[0m\n",
            "\u001b[0;32mzmq/backend/cython/socket.pyx\u001b[0m in \u001b[0;36mzmq.backend.cython.socket.Socket.recv\u001b[0;34m()\u001b[0m\n",
            "\u001b[0;32mzmq/backend/cython/socket.pyx\u001b[0m in \u001b[0;36mzmq.backend.cython.socket._recv_copy\u001b[0;34m()\u001b[0m\n",
            "\u001b[0;32m/usr/local/lib/python3.7/dist-packages/zmq/backend/cython/checkrc.pxd\u001b[0m in \u001b[0;36mzmq.backend.cython.checkrc._check_rc\u001b[0;34m()\u001b[0m\n",
            "\u001b[0;31mKeyboardInterrupt\u001b[0m: "
          ]
        }
      ],
      "source": [
        "from bert_serving.client import BertClient\n",
        "bc = BertClient()"
      ]
    },
    {
      "cell_type": "code",
      "execution_count": null,
      "metadata": {
        "id": "Z17fFSySifV1"
      },
      "outputs": [],
      "source": [
        "# from google.colab import drive\n",
        "# drive.mount('/content/drive')"
      ]
    },
    {
      "cell_type": "code",
      "execution_count": null,
      "metadata": {
        "id": "nyE25lukicBw"
      },
      "outputs": [],
      "source": [
        "#Load Mental_Health_FAQ.csv into a pandas dataframe.\n",
        "url= 'https://raw.githubusercontent.com/ArpanJainGithub/Chatbot-MentalHealth/main/Mental_Health_FAQ.csv'\n",
        "mentalHealthFaq = pd.read_csv(url,encoding='unicode_escape')"
      ]
    },
    {
      "cell_type": "code",
      "execution_count": null,
      "metadata": {
        "id": "bUqEwKZd4jRy"
      },
      "outputs": [],
      "source": [
        "#Storing all the questions of the dataset in a list\n",
        "quesCount = mentalHealthFaq['Questions'].shape[0]\n",
        "questionList = []\n",
        "for i in range(quesCount):\n",
        "  questionList.append(mentalHealthFaq['Questions'].iloc[i])\n"
      ]
    },
    {
      "cell_type": "code",
      "execution_count": null,
      "metadata": {
        "id": "a4YYUvMDkQbh"
      },
      "outputs": [],
      "source": [
        "#Getting the Bert embeddings for all the question in the dataframe.\n",
        "questionsBertEmbedding = []\n",
        "for i in range(quesCount):\n",
        "  questionsBertEmbedding.append(bc.encode([mentalHealthFaq['Questions'].iloc[i]]))\n",
        "len(questionsBertEmbedding)"
      ]
    },
    {
      "cell_type": "code",
      "execution_count": null,
      "metadata": {
        "id": "AoFECjSjFdAf"
      },
      "outputs": [],
      "source": [
        "#Function to fetch the similar question index for a given user-question\n",
        "\n",
        "#Things that needs to be checked in this function. 1) What in case there exists multiple values having the max cosine-similarity. Whose index will this return?\n",
        "def calculateCosineSimilarities(datasetEmbeddings, userQueryEmbeddings):\n",
        "  cosineSimilarityList = []\n",
        "  for i in range(len(datasetEmbeddings)):\n",
        "    sim = cosine_similarity(datasetEmbeddings[i][0].reshape(1,-1), userQueryEmbeddings[0].reshape(1,-1))[0][0]\n",
        "    cosineSimilarityList.append(sim)  \n",
        "  return cosineSimilarityList"
      ]
    },
    {
      "cell_type": "markdown",
      "metadata": {
        "id": "70_dbfY6a7gt"
      },
      "source": [
        "###Evaluating the model"
      ]
    },
    {
      "cell_type": "markdown",
      "metadata": {
        "id": "9CU5bfhOHkJA"
      },
      "source": [
        "Test Questions\n",
        "\n",
        "Q1- What is mental illness?\n",
        "\n",
        "Q2- What are the symptoms of mental illness?\n",
        "\n",
        "Q3- How mental illness is caused and what is the treatment for that?\n",
        "\n",
        "Q4- Is there any way to know if I am suffering from mental illness?\n",
        "\n",
        "Q5- Is it possible to get some self-help material for depression?"
      ]
    },
    {
      "cell_type": "code",
      "execution_count": null,
      "metadata": {
        "id": "64NKAdNoHhbJ"
      },
      "outputs": [],
      "source": [
        "#Testing the model-\n",
        "testQuestion1 = \"What is mental illness?\"\n",
        "testQuestion2 = \"What are the symptoms of mental illness?\"\n",
        "testQuestion3 = \"How mental illness is caused and what is the treatment for that?\"\n",
        "testQuestion4 = \"Is there any way to know if I am suffering from mental illness?\"\n",
        "testQuestion5 = \"Is it possible to get some self-help material for depression?\"\n",
        "testQuestionBertEmbedding1 = bc.encode([testQuestion1])\n",
        "testQuestionBertEmbedding2 = bc.encode([testQuestion2])\n",
        "testQuestionBertEmbedding3 = bc.encode([testQuestion3])\n",
        "testQuestionBertEmbedding4 = bc.encode([testQuestion4])\n",
        "testQuestionBertEmbedding5 = bc.encode([testQuestion5])\n"
      ]
    },
    {
      "cell_type": "markdown",
      "metadata": {
        "id": "RLgD_tuoe4nU"
      },
      "source": [
        "Check the most similar question in the dataset for the testQuestion1."
      ]
    },
    {
      "cell_type": "code",
      "execution_count": null,
      "metadata": {
        "id": "1JbW3nIBCX3u"
      },
      "outputs": [],
      "source": [
        "#Q1-Result\n",
        "similarityQuestion1 = calculateCosineSimilarities(questionsBertEmbedding, testQuestionBertEmbedding1)\n",
        "similarityQuestion1Index = similarityQuestion1.index(max(similarityQuestion1))\n",
        "print(\"Index: \"+ str(similarityQuestion1Index))\n",
        "print(\"Similarity value: \"+ str(similarityQuestion1[similarityQuestion1Index]))\n",
        "print(questionList[similarityQuestion1Index])"
      ]
    },
    {
      "cell_type": "markdown",
      "metadata": {
        "id": "pwivG_HmfUfn"
      },
      "source": [
        "The result for Q1 is wrong. There exists a more similar question in the FAQ dataset than what has been given by the bert model. Lets check what is the similarity score for the actually most similar question."
      ]
    },
    {
      "cell_type": "code",
      "execution_count": null,
      "metadata": {
        "id": "-CKWUgt-UY5a"
      },
      "outputs": [],
      "source": [
        "#The result for Q1 is wrong. There exists a more similar question in the FAQ dataset than what has been given by the bert model. Lets check what is the \n",
        "#similarity score for that question.\n",
        "print(\"Index: \"+ str(0))\n",
        "print(\"Similarity value: \"+ str(similarityQuestion1[0]))\n",
        "print(questionList[0])"
      ]
    },
    {
      "cell_type": "markdown",
      "metadata": {
        "id": "rtLQRB79fvQ-"
      },
      "source": [
        "Let us check the similarity scores that are greater than the similarity score of the question that is actually most similar to the user query."
      ]
    },
    {
      "cell_type": "code",
      "execution_count": null,
      "metadata": {
        "id": "wFbGPcoFVdHy"
      },
      "outputs": [],
      "source": [
        "#Lets check what are the top similarity scores for the TestQuestion1-\n",
        "descendingsimilarityQuestion1 = sorted(similarityQuestion1, reverse=True)\n",
        "for i in range(5):\n",
        "  print(\"Similarity score: \"+ str(descendingsimilarityQuestion1[i]) + \" and the corresponding index is: \"+ str(similarityQuestion1.index(descendingsimilarityQuestion1[i])) + \" and corresponding question is: \" + questionList[similarityQuestion1.index(descendingsimilarityQuestion1[i])])\n"
      ]
    },
    {
      "cell_type": "markdown",
      "metadata": {
        "id": "Z0rEXuBQVXmG"
      },
      "source": [
        "The actual answer ranks 4 in the list. Not satisfactory result. The similar analysis needs to be done with all the test questions. Some more test questions can be added on need basis."
      ]
    },
    {
      "cell_type": "markdown",
      "source": [
        "Evaluate the model using Q2."
      ],
      "metadata": {
        "id": "4NTRhij95xAR"
      }
    },
    {
      "cell_type": "code",
      "source": [
        "#Q2-Result\n",
        "Question2CosineSimilarityList = calculateCosineSimilarities(questionsBertEmbedding, testQuestionBertEmbedding2)\n",
        "Question2SimilarIndex = Question2CosineSimilarityList.index(max(Question2CosineSimilarityList))\n",
        "print(\"Index: \"+ str(Question2SimilarIndex))\n",
        "print(\"Similarity value: \"+ str(Question2CosineSimilarityList[Question2SimilarIndex]))\n",
        "print(questionList[Question2SimilarIndex])"
      ],
      "metadata": {
        "id": "e_vS1ZB25_lB"
      },
      "execution_count": null,
      "outputs": []
    },
    {
      "cell_type": "markdown",
      "source": [
        "Model gave the right question from the dataset that is most similar to the user query. Now, lets check the top 5 questions that are most similar to the user query."
      ],
      "metadata": {
        "id": "kCJmHqkMAZld"
      }
    },
    {
      "cell_type": "code",
      "source": [
        "#Lets check what are the top similarity scores for the TestQuestion2-\n",
        "descendingQuestion2CosineSimilarityList = sorted(Question2CosineSimilarityList, reverse=True)\n",
        "for i in range(5):\n",
        "  print(\"Similarity score: \"+ str(descendingQuestion2CosineSimilarityList[i]) + \" and the corresponding index is: \"+ str(Question2CosineSimilarityList.index(descendingQuestion2CosineSimilarityList[i])) + \" and corresponding question is: \" + questionList[Question2CosineSimilarityList.index(descendingQuestion2CosineSimilarityList[i])])\n"
      ],
      "metadata": {
        "id": "PKsc87HWBK-j"
      },
      "execution_count": null,
      "outputs": []
    },
    {
      "cell_type": "markdown",
      "source": [
        "Question: What are positive and negative symptoms?\n",
        "The above question should rank higher than the second and third question that are shown in the top 5 most similar questions to the TestQuestion2."
      ],
      "metadata": {
        "id": "4HStVHtnCkvl"
      }
    },
    {
      "cell_type": "markdown",
      "source": [
        "###Summary of the performance of the above model"
      ],
      "metadata": {
        "id": "CTz66gnHZZ5t"
      }
    },
    {
      "cell_type": "markdown",
      "source": [
        "1) Sometimes model is giving the accurate results and sometimes it is giving the approximate results. Overall, the results are not as satisfactory as they should be.\n",
        "\n"
      ],
      "metadata": {
        "id": "3YG-Q8WwZgK_"
      }
    },
    {
      "cell_type": "markdown",
      "source": [
        "###What can be improved if more time is given"
      ],
      "metadata": {
        "id": "iHBA6P40aRig"
      }
    },
    {
      "cell_type": "markdown",
      "source": [
        "1) Right now model is using the BERT model for semantic search. This can be improved by trying the different models for semantic search like-\n",
        "\n",
        "1.   BERT model trained on Mental Health data. **MentalBert** is pre-trained model on the Mental Health data. Refer the following links to implement that- https://huggingface.co/mental/mental-bert-base-uncased and https://huggingface.co/sentence-transformers/bert-base-nli-mean-tokens\n"
      ],
      "metadata": {
        "id": "BRu5b1CsaYFq"
      }
    }
  ],
  "metadata": {
    "colab": {
      "collapsed_sections": [
        "CTz66gnHZZ5t",
        "iHBA6P40aRig"
      ],
      "name": "Phase-3-Modeling and Error Analysis",
      "provenance": [],
      "include_colab_link": true
    },
    "kernelspec": {
      "display_name": "Python 3",
      "name": "python3"
    },
    "language_info": {
      "name": "python"
    },
    "accelerator": "GPU"
  },
  "nbformat": 4,
  "nbformat_minor": 0
}