{
  "nbformat": 4,
  "nbformat_minor": 0,
  "metadata": {
    "colab": {
      "name": "Phase-2-Exploratory data analysis and feature extraction.ipynb",
      "provenance": [],
      "collapsed_sections": [],
      "mount_file_id": "1NLNEhvW-Ck7WNDkS4WFvAYfE-hAj10ZM",
      "authorship_tag": "ABX9TyOQpP2DtaMvRonD+y8Yaf6Y",
      "include_colab_link": true
    },
    "kernelspec": {
      "name": "python3",
      "display_name": "Python 3"
    },
    "language_info": {
      "name": "python"
    }
  },
  "cells": [
    {
      "cell_type": "markdown",
      "metadata": {
        "id": "view-in-github",
        "colab_type": "text"
      },
      "source": [
        "<a href=\"https://colab.research.google.com/github/ArpanJainGithub/Chatbot-MentalHealth/blob/main/Phase_2_Exploratory_data_analysis_and_feature_extraction.ipynb\" target=\"_parent\"><img src=\"https://colab.research.google.com/assets/colab-badge.svg\" alt=\"Open In Colab\"/></a>"
      ]
    },
    {
      "cell_type": "markdown",
      "source": [
        "#Phase-2: Exploratory data analysis and feature extraction"
      ],
      "metadata": {
        "id": "Osd9edVJeht8"
      }
    },
    {
      "cell_type": "code",
      "metadata": {
        "id": "DUEX0PAXerVF"
      },
      "source": [
        "#EDA\n",
        "import pandas as pd\n",
        "import numpy as np\n",
        "from numpy.linalg import norm\n",
        "import seaborn as sns\n",
        "import matplotlib.pyplot as plt\n",
        "import re\n",
        "from wordcloud import WordCloud\n",
        "\n",
        "#Load Mental_Health_FAQ.csv into a pandas dataframe.\n",
        "mentalHealthFaq = pd.read_csv(\"/content/Mental_Health_FAQ.csv\")\n",
        "#mentalHealthFaq = pd.read_csv(\"/content/drive/MyDrive/AppliedRootsAIML/ChatbotPractice/Mental_Health_FAQ.csv\")"
      ],
      "execution_count": 2,
      "outputs": []
    },
    {
      "cell_type": "code",
      "metadata": {
        "colab": {
          "base_uri": "https://localhost:8080/"
        },
        "id": "T5r6HUfZi5Ex",
        "outputId": "9c9edd93-6434-4e79-c520-b04624680e44"
      },
      "source": [
        "#How many data-points and features?\n",
        "print(mentalHealthFaq.shape)"
      ],
      "execution_count": 3,
      "outputs": [
        {
          "output_type": "stream",
          "name": "stdout",
          "text": [
            "(98, 3)\n"
          ]
        }
      ]
    },
    {
      "cell_type": "code",
      "metadata": {
        "colab": {
          "base_uri": "https://localhost:8080/"
        },
        "id": "hD7ealnNi7zK",
        "outputId": "71a07782-f0ec-4f86-e797-08845d4d7438"
      },
      "source": [
        "#What are the column names in our dataset?\n",
        "print(mentalHealthFaq.columns)"
      ],
      "execution_count": 4,
      "outputs": [
        {
          "output_type": "stream",
          "name": "stdout",
          "text": [
            "Index(['Question_ID', 'Questions', 'Answers'], dtype='object')\n"
          ]
        }
      ]
    },
    {
      "cell_type": "code",
      "metadata": {
        "colab": {
          "base_uri": "https://localhost:8080/"
        },
        "id": "vCI0ERuglG-d",
        "outputId": "9bea5d74-6839-47fd-d5db-48d81f92db95"
      },
      "source": [
        "#Removing all the duplicate rows and keeping the first one\n",
        "mentalHealthFaq.drop_duplicates(keep='first')\n",
        "print(mentalHealthFaq.shape)"
      ],
      "execution_count": 5,
      "outputs": [
        {
          "output_type": "stream",
          "name": "stdout",
          "text": [
            "(98, 3)\n"
          ]
        }
      ]
    },
    {
      "cell_type": "code",
      "metadata": {
        "colab": {
          "base_uri": "https://localhost:8080/"
        },
        "id": "8LRPeHfSQ3F5",
        "outputId": "f7023879-4dc9-4f33-fd7e-69bff95959a7"
      },
      "source": [
        "#Knowing if there are any datapoints with duplicate value of the column 'Questions'.\n",
        "mentalHealthFaq['Questions'].is_unique\n",
        "\n",
        "#If there would be the datapoints with duplicate value of column 'Questions', then the column 'Answers' will also be compared for those datapoints.\n",
        "#If the value of the column 'Answers' is also duplicate, then only one of these datapoints should be kept and rest should be dropped.\n",
        "#If the value of the column 'Answers' is not duplicate, then cosine-similarity for the column 'Answers' will be calculated,\n",
        "#and, if the cosine-similarity resulted in 'No similarity at all', then these datapoints might be errorenous and should be verified manually to confirm if these points can be dropped.\n",
        "\n",
        "#Case: Questions are duplicate but their answers are not duplicate. Answers are similar.\n"
      ],
      "execution_count": 6,
      "outputs": [
        {
          "output_type": "execute_result",
          "data": {
            "text/plain": [
              "True"
            ]
          },
          "metadata": {},
          "execution_count": 6
        }
      ]
    },
    {
      "cell_type": "code",
      "metadata": {
        "colab": {
          "base_uri": "https://localhost:8080/"
        },
        "id": "9YJwdtx9Q5pl",
        "outputId": "18ee2e8b-d7b2-48ef-d194-6668d9b1d710"
      },
      "source": [
        "#Check if there is any duplicate values in the column 'Answers'\n",
        "mentalHealthFaq['Answers'].is_unique\n",
        "\n",
        "#If there would be the datapoints with duplicate value of column 'Answers', then the value of column 'Questions' will also be compared for those datapoints.\n",
        "#Cosine-similarity for the column 'Questions' should be calculated, and, if the cosine-similarity resulted in 'No similarity at all', then these datapoints might be errorenous and should be verified manually to confirm if these points can be dropped.\n",
        "\n",
        "#Case: Answers are duplicate but their Questions are not duplicate. Questions are similar.\n"
      ],
      "execution_count": 7,
      "outputs": [
        {
          "output_type": "execute_result",
          "data": {
            "text/plain": [
              "True"
            ]
          },
          "metadata": {},
          "execution_count": 7
        }
      ]
    },
    {
      "cell_type": "markdown",
      "source": [
        "###Check the no. of similar questions and answers using cosine similarity\n",
        "\n",
        "Check the no. of similar questions. Then, verify that the given similar questions, should have the similar answers. Incase, there are many points for which the answers for the similar questions are completely different, then, the data should be sent to make the necessary corrections in the data.\n",
        "\n",
        "Similar process needs to be followed in case of similar answers. That if, answers which have same intent have completely different questions, then the data needs correction."
      ],
      "metadata": {
        "id": "efbr6xmX0_KZ"
      }
    },
    {
      "cell_type": "code",
      "source": [
        "#Setting the threshold for cosine-similarity.\n",
        "threshold = 0.6"
      ],
      "metadata": {
        "id": "eFPa-CSk1PoZ"
      },
      "execution_count": 8,
      "outputs": []
    },
    {
      "cell_type": "markdown",
      "source": [
        "###Check the no. of similar questions"
      ],
      "metadata": {
        "id": "o9NYVgfGaf9F"
      }
    },
    {
      "cell_type": "code",
      "metadata": {
        "colab": {
          "base_uri": "https://localhost:8080/"
        },
        "id": "5vGcfntEj5DM",
        "outputId": "a096bac6-adca-4368-bf51-2ff7e958f041"
      },
      "source": [
        "#Calculate the questions vector\n",
        "from sklearn.feature_extraction.text import TfidfVectorizer\n",
        "\n",
        "vectorizer = TfidfVectorizer()\n",
        "question_vector= vectorizer.fit_transform(mentalHealthFaq['Questions'])\n",
        "print(question_vector.get_shape())"
      ],
      "execution_count": 9,
      "outputs": [
        {
          "output_type": "stream",
          "name": "stdout",
          "text": [
            "(98, 256)\n"
          ]
        }
      ]
    },
    {
      "cell_type": "code",
      "source": [
        "#Create a dataframe which have all the questions and their cosine-similarities\n",
        "\n",
        "#Step-1: Calculate the cosine-similarities for each of the questions in the dataset with all the other remaining questions in the dataset.\n",
        "pairWiseSimilarity = np.zeros((question_vector.shape[0],question_vector.shape[0]))\n",
        "for i in range(question_vector.shape[0]):        \n",
        "    for j in range(question_vector.shape[0]):    \n",
        "      cos_sim = np.dot(question_vector[j][0].toarray().ravel(), question_vector[i].toarray().ravel())/(norm(question_vector[j][0].toarray().ravel())*norm(question_vector[i].toarray().ravel()))\n",
        "      pairWiseSimilarity[j][i] = cos_sim\n",
        "pairwiseSimilarityDf = pd.DataFrame(pairWiseSimilarity)\n",
        "\n",
        "#Step-2: Append the dataframe that has all the questions with the cosine-similarities that are calculated above.\n",
        "QuestionSimilarityDf = mentalHealthFaq.copy()\n",
        "for i in range(question_vector.shape[0]):\n",
        "  QuestionSimilarityDf['Cosine Similarity for question '+ str(i)] = pairwiseSimilarityDf.iloc[:,i] \n",
        "QuestionSimilarityDf.head()"
      ],
      "metadata": {
        "colab": {
          "base_uri": "https://localhost:8080/",
          "height": 838
        },
        "id": "SHbrXliV4lfV",
        "outputId": "3602e1f5-e252-4a62-e9f0-193e11394a53"
      },
      "execution_count": 10,
      "outputs": [
        {
          "output_type": "execute_result",
          "data": {
            "text/plain": [
              "   Question_ID                                          Questions  \\\n",
              "0      1590140        What does it mean to have a mental illness?   \n",
              "1      2110618                    Who does mental illness affect?   \n",
              "2      6361820                        What causes mental illness?   \n",
              "3      9434130  What are some of the warning signs of mental i...   \n",
              "4      7657263            Can people with mental illness recover?   \n",
              "\n",
              "                                             Answers  \\\n",
              "0  Mental illnesses are health conditions that di...   \n",
              "1  It is estimated that mental illness affects 1 ...   \n",
              "2  It is estimated that mental illness affects 1 ...   \n",
              "3  Symptoms of mental health disorders vary depen...   \n",
              "4  When healing from mental illness, early identi...   \n",
              "\n",
              "   Cosine Similarity for question 0  Cosine Similarity for question 1  \\\n",
              "0                          1.000000                          0.403132   \n",
              "1                          0.403132                          1.000000   \n",
              "2                          0.345412                          0.324885   \n",
              "3                          0.177043                          0.166521   \n",
              "4                          0.210634                          0.228968   \n",
              "\n",
              "   Cosine Similarity for question 2  Cosine Similarity for question 3  \\\n",
              "0                          0.345412                          0.177043   \n",
              "1                          0.324885                          0.166521   \n",
              "2                          1.000000                          0.264338   \n",
              "3                          0.264338                          1.000000   \n",
              "4                          0.314491                          0.161194   \n",
              "\n",
              "   Cosine Similarity for question 4  Cosine Similarity for question 5  \\\n",
              "0                          0.210634                          0.258496   \n",
              "1                          0.228968                          0.220245   \n",
              "2                          0.314491                          0.104742   \n",
              "3                          0.161194                          0.228403   \n",
              "4                          1.000000                          0.050468   \n",
              "\n",
              "   Cosine Similarity for question 6  ...  Cosine Similarity for question 88  \\\n",
              "0                          0.061299  ...                           0.031692   \n",
              "1                          0.066634  ...                           0.000000   \n",
              "2                          0.091524  ...                           0.047318   \n",
              "3                          0.046911  ...                           0.127577   \n",
              "4                          0.094347  ...                           0.000000   \n",
              "\n",
              "   Cosine Similarity for question 89  Cosine Similarity for question 90  \\\n",
              "0                           0.051607                           0.155316   \n",
              "1                           0.000000                           0.000000   \n",
              "2                           0.077053                           0.035812   \n",
              "3                           0.039494                           0.018355   \n",
              "4                           0.000000                           0.025239   \n",
              "\n",
              "   Cosine Similarity for question 91  Cosine Similarity for question 92  \\\n",
              "0                           0.031337                           0.000000   \n",
              "1                           0.000000                           0.000000   \n",
              "2                           0.046789                           0.000000   \n",
              "3                           0.079834                           0.000000   \n",
              "4                           0.000000                           0.027355   \n",
              "\n",
              "   Cosine Similarity for question 93  Cosine Similarity for question 94  \\\n",
              "0                                0.0                           0.112159   \n",
              "1                                0.0                           0.000000   \n",
              "2                                0.0                           0.000000   \n",
              "3                                0.0                           0.079667   \n",
              "4                                0.0                           0.000000   \n",
              "\n",
              "   Cosine Similarity for question 95  Cosine Similarity for question 96  \\\n",
              "0                           0.077401                           0.024467   \n",
              "1                           0.000000                           0.000000   \n",
              "2                           0.000000                           0.036531   \n",
              "3                           0.000000                           0.211361   \n",
              "4                           0.027041                           0.000000   \n",
              "\n",
              "   Cosine Similarity for question 97  \n",
              "0                           0.032626  \n",
              "1                           0.000000  \n",
              "2                           0.048713  \n",
              "3                           0.083117  \n",
              "4                           0.000000  \n",
              "\n",
              "[5 rows x 101 columns]"
            ],
            "text/html": [
              "\n",
              "  <div id=\"df-68d459a5-f818-4d98-b61d-7c576f734551\">\n",
              "    <div class=\"colab-df-container\">\n",
              "      <div>\n",
              "<style scoped>\n",
              "    .dataframe tbody tr th:only-of-type {\n",
              "        vertical-align: middle;\n",
              "    }\n",
              "\n",
              "    .dataframe tbody tr th {\n",
              "        vertical-align: top;\n",
              "    }\n",
              "\n",
              "    .dataframe thead th {\n",
              "        text-align: right;\n",
              "    }\n",
              "</style>\n",
              "<table border=\"1\" class=\"dataframe\">\n",
              "  <thead>\n",
              "    <tr style=\"text-align: right;\">\n",
              "      <th></th>\n",
              "      <th>Question_ID</th>\n",
              "      <th>Questions</th>\n",
              "      <th>Answers</th>\n",
              "      <th>Cosine Similarity for question 0</th>\n",
              "      <th>Cosine Similarity for question 1</th>\n",
              "      <th>Cosine Similarity for question 2</th>\n",
              "      <th>Cosine Similarity for question 3</th>\n",
              "      <th>Cosine Similarity for question 4</th>\n",
              "      <th>Cosine Similarity for question 5</th>\n",
              "      <th>Cosine Similarity for question 6</th>\n",
              "      <th>...</th>\n",
              "      <th>Cosine Similarity for question 88</th>\n",
              "      <th>Cosine Similarity for question 89</th>\n",
              "      <th>Cosine Similarity for question 90</th>\n",
              "      <th>Cosine Similarity for question 91</th>\n",
              "      <th>Cosine Similarity for question 92</th>\n",
              "      <th>Cosine Similarity for question 93</th>\n",
              "      <th>Cosine Similarity for question 94</th>\n",
              "      <th>Cosine Similarity for question 95</th>\n",
              "      <th>Cosine Similarity for question 96</th>\n",
              "      <th>Cosine Similarity for question 97</th>\n",
              "    </tr>\n",
              "  </thead>\n",
              "  <tbody>\n",
              "    <tr>\n",
              "      <th>0</th>\n",
              "      <td>1590140</td>\n",
              "      <td>What does it mean to have a mental illness?</td>\n",
              "      <td>Mental illnesses are health conditions that di...</td>\n",
              "      <td>1.000000</td>\n",
              "      <td>0.403132</td>\n",
              "      <td>0.345412</td>\n",
              "      <td>0.177043</td>\n",
              "      <td>0.210634</td>\n",
              "      <td>0.258496</td>\n",
              "      <td>0.061299</td>\n",
              "      <td>...</td>\n",
              "      <td>0.031692</td>\n",
              "      <td>0.051607</td>\n",
              "      <td>0.155316</td>\n",
              "      <td>0.031337</td>\n",
              "      <td>0.000000</td>\n",
              "      <td>0.0</td>\n",
              "      <td>0.112159</td>\n",
              "      <td>0.077401</td>\n",
              "      <td>0.024467</td>\n",
              "      <td>0.032626</td>\n",
              "    </tr>\n",
              "    <tr>\n",
              "      <th>1</th>\n",
              "      <td>2110618</td>\n",
              "      <td>Who does mental illness affect?</td>\n",
              "      <td>It is estimated that mental illness affects 1 ...</td>\n",
              "      <td>0.403132</td>\n",
              "      <td>1.000000</td>\n",
              "      <td>0.324885</td>\n",
              "      <td>0.166521</td>\n",
              "      <td>0.228968</td>\n",
              "      <td>0.220245</td>\n",
              "      <td>0.066634</td>\n",
              "      <td>...</td>\n",
              "      <td>0.000000</td>\n",
              "      <td>0.000000</td>\n",
              "      <td>0.000000</td>\n",
              "      <td>0.000000</td>\n",
              "      <td>0.000000</td>\n",
              "      <td>0.0</td>\n",
              "      <td>0.000000</td>\n",
              "      <td>0.000000</td>\n",
              "      <td>0.000000</td>\n",
              "      <td>0.000000</td>\n",
              "    </tr>\n",
              "    <tr>\n",
              "      <th>2</th>\n",
              "      <td>6361820</td>\n",
              "      <td>What causes mental illness?</td>\n",
              "      <td>It is estimated that mental illness affects 1 ...</td>\n",
              "      <td>0.345412</td>\n",
              "      <td>0.324885</td>\n",
              "      <td>1.000000</td>\n",
              "      <td>0.264338</td>\n",
              "      <td>0.314491</td>\n",
              "      <td>0.104742</td>\n",
              "      <td>0.091524</td>\n",
              "      <td>...</td>\n",
              "      <td>0.047318</td>\n",
              "      <td>0.077053</td>\n",
              "      <td>0.035812</td>\n",
              "      <td>0.046789</td>\n",
              "      <td>0.000000</td>\n",
              "      <td>0.0</td>\n",
              "      <td>0.000000</td>\n",
              "      <td>0.000000</td>\n",
              "      <td>0.036531</td>\n",
              "      <td>0.048713</td>\n",
              "    </tr>\n",
              "    <tr>\n",
              "      <th>3</th>\n",
              "      <td>9434130</td>\n",
              "      <td>What are some of the warning signs of mental i...</td>\n",
              "      <td>Symptoms of mental health disorders vary depen...</td>\n",
              "      <td>0.177043</td>\n",
              "      <td>0.166521</td>\n",
              "      <td>0.264338</td>\n",
              "      <td>1.000000</td>\n",
              "      <td>0.161194</td>\n",
              "      <td>0.228403</td>\n",
              "      <td>0.046911</td>\n",
              "      <td>...</td>\n",
              "      <td>0.127577</td>\n",
              "      <td>0.039494</td>\n",
              "      <td>0.018355</td>\n",
              "      <td>0.079834</td>\n",
              "      <td>0.000000</td>\n",
              "      <td>0.0</td>\n",
              "      <td>0.079667</td>\n",
              "      <td>0.000000</td>\n",
              "      <td>0.211361</td>\n",
              "      <td>0.083117</td>\n",
              "    </tr>\n",
              "    <tr>\n",
              "      <th>4</th>\n",
              "      <td>7657263</td>\n",
              "      <td>Can people with mental illness recover?</td>\n",
              "      <td>When healing from mental illness, early identi...</td>\n",
              "      <td>0.210634</td>\n",
              "      <td>0.228968</td>\n",
              "      <td>0.314491</td>\n",
              "      <td>0.161194</td>\n",
              "      <td>1.000000</td>\n",
              "      <td>0.050468</td>\n",
              "      <td>0.094347</td>\n",
              "      <td>...</td>\n",
              "      <td>0.000000</td>\n",
              "      <td>0.000000</td>\n",
              "      <td>0.025239</td>\n",
              "      <td>0.000000</td>\n",
              "      <td>0.027355</td>\n",
              "      <td>0.0</td>\n",
              "      <td>0.000000</td>\n",
              "      <td>0.027041</td>\n",
              "      <td>0.000000</td>\n",
              "      <td>0.000000</td>\n",
              "    </tr>\n",
              "  </tbody>\n",
              "</table>\n",
              "<p>5 rows × 101 columns</p>\n",
              "</div>\n",
              "      <button class=\"colab-df-convert\" onclick=\"convertToInteractive('df-68d459a5-f818-4d98-b61d-7c576f734551')\"\n",
              "              title=\"Convert this dataframe to an interactive table.\"\n",
              "              style=\"display:none;\">\n",
              "        \n",
              "  <svg xmlns=\"http://www.w3.org/2000/svg\" height=\"24px\"viewBox=\"0 0 24 24\"\n",
              "       width=\"24px\">\n",
              "    <path d=\"M0 0h24v24H0V0z\" fill=\"none\"/>\n",
              "    <path d=\"M18.56 5.44l.94 2.06.94-2.06 2.06-.94-2.06-.94-.94-2.06-.94 2.06-2.06.94zm-11 1L8.5 8.5l.94-2.06 2.06-.94-2.06-.94L8.5 2.5l-.94 2.06-2.06.94zm10 10l.94 2.06.94-2.06 2.06-.94-2.06-.94-.94-2.06-.94 2.06-2.06.94z\"/><path d=\"M17.41 7.96l-1.37-1.37c-.4-.4-.92-.59-1.43-.59-.52 0-1.04.2-1.43.59L10.3 9.45l-7.72 7.72c-.78.78-.78 2.05 0 2.83L4 21.41c.39.39.9.59 1.41.59.51 0 1.02-.2 1.41-.59l7.78-7.78 2.81-2.81c.8-.78.8-2.07 0-2.86zM5.41 20L4 18.59l7.72-7.72 1.47 1.35L5.41 20z\"/>\n",
              "  </svg>\n",
              "      </button>\n",
              "      \n",
              "  <style>\n",
              "    .colab-df-container {\n",
              "      display:flex;\n",
              "      flex-wrap:wrap;\n",
              "      gap: 12px;\n",
              "    }\n",
              "\n",
              "    .colab-df-convert {\n",
              "      background-color: #E8F0FE;\n",
              "      border: none;\n",
              "      border-radius: 50%;\n",
              "      cursor: pointer;\n",
              "      display: none;\n",
              "      fill: #1967D2;\n",
              "      height: 32px;\n",
              "      padding: 0 0 0 0;\n",
              "      width: 32px;\n",
              "    }\n",
              "\n",
              "    .colab-df-convert:hover {\n",
              "      background-color: #E2EBFA;\n",
              "      box-shadow: 0px 1px 2px rgba(60, 64, 67, 0.3), 0px 1px 3px 1px rgba(60, 64, 67, 0.15);\n",
              "      fill: #174EA6;\n",
              "    }\n",
              "\n",
              "    [theme=dark] .colab-df-convert {\n",
              "      background-color: #3B4455;\n",
              "      fill: #D2E3FC;\n",
              "    }\n",
              "\n",
              "    [theme=dark] .colab-df-convert:hover {\n",
              "      background-color: #434B5C;\n",
              "      box-shadow: 0px 1px 3px 1px rgba(0, 0, 0, 0.15);\n",
              "      filter: drop-shadow(0px 1px 2px rgba(0, 0, 0, 0.3));\n",
              "      fill: #FFFFFF;\n",
              "    }\n",
              "  </style>\n",
              "\n",
              "      <script>\n",
              "        const buttonEl =\n",
              "          document.querySelector('#df-68d459a5-f818-4d98-b61d-7c576f734551 button.colab-df-convert');\n",
              "        buttonEl.style.display =\n",
              "          google.colab.kernel.accessAllowed ? 'block' : 'none';\n",
              "\n",
              "        async function convertToInteractive(key) {\n",
              "          const element = document.querySelector('#df-68d459a5-f818-4d98-b61d-7c576f734551');\n",
              "          const dataTable =\n",
              "            await google.colab.kernel.invokeFunction('convertToInteractive',\n",
              "                                                     [key], {});\n",
              "          if (!dataTable) return;\n",
              "\n",
              "          const docLinkHtml = 'Like what you see? Visit the ' +\n",
              "            '<a target=\"_blank\" href=https://colab.research.google.com/notebooks/data_table.ipynb>data table notebook</a>'\n",
              "            + ' to learn more about interactive tables.';\n",
              "          element.innerHTML = '';\n",
              "          dataTable['output_type'] = 'display_data';\n",
              "          await google.colab.output.renderOutput(dataTable, element);\n",
              "          const docLink = document.createElement('div');\n",
              "          docLink.innerHTML = docLinkHtml;\n",
              "          element.appendChild(docLink);\n",
              "        }\n",
              "      </script>\n",
              "    </div>\n",
              "  </div>\n",
              "  "
            ]
          },
          "metadata": {},
          "execution_count": 10
        }
      ]
    },
    {
      "cell_type": "code",
      "source": [
        "#Display the set of similar questions\n",
        "\n",
        "for i in range(question_vector.shape[0]):  \n",
        "  if QuestionSimilarityDf.loc[(QuestionSimilarityDf['Cosine Similarity for question '+str(i)] > threshold), ['Question_ID',\t'Questions']].shape[0] > 1:\n",
        "    print(\"Questions that are similar to the question no. \"+str(i)+\" is: \")\n",
        "    print(QuestionSimilarityDf.loc[(QuestionSimilarityDf['Cosine Similarity for question '+str(i)] > threshold), ['Question_ID',\t'Questions']]  )\n",
        "    print(\"=\"*100)"
      ],
      "metadata": {
        "id": "jaN_b0aB0aTv",
        "colab": {
          "base_uri": "https://localhost:8080/"
        },
        "outputId": "c5e5c5a3-30b8-4c9b-c767-1e1316e1411d"
      },
      "execution_count": 11,
      "outputs": [
        {
          "output_type": "stream",
          "name": "stdout",
          "text": [
            "Questions that are similar to the question no. 2 is: \n",
            "    Question_ID                            Questions\n",
            "2       6361820          What causes mental illness?\n",
            "28      4283807  What causes mental health problems?\n",
            "====================================================================================================\n",
            "Questions that are similar to the question no. 6 is: \n",
            "    Question_ID                                          Questions\n",
            "6       1030153  How can I find a mental health professional fo...\n",
            "10      2553795  How can I find a mental health professional ri...\n",
            "====================================================================================================\n",
            "Questions that are similar to the question no. 8 is: \n",
            "    Question_ID                                          Questions\n",
            "8       1155199  If I become involved in treatment, what do I n...\n",
            "11      1259439  If I become involved in treatment what do I ne...\n",
            "====================================================================================================\n",
            "Questions that are similar to the question no. 9 is: \n",
            "    Question_ID                                          Questions\n",
            "9       7760466  What is the difference between mental health p...\n",
            "73      7995219  What's the difference between mental health an...\n",
            "====================================================================================================\n",
            "Questions that are similar to the question no. 10 is: \n",
            "    Question_ID                                          Questions\n",
            "6       1030153  How can I find a mental health professional fo...\n",
            "10      2553795  How can I find a mental health professional ri...\n",
            "====================================================================================================\n",
            "Questions that are similar to the question no. 11 is: \n",
            "    Question_ID                                          Questions\n",
            "8       1155199  If I become involved in treatment, what do I n...\n",
            "11      1259439  If I become involved in treatment what do I ne...\n",
            "====================================================================================================\n",
            "Questions that are similar to the question no. 19 is: \n",
            "    Question_ID                                Questions\n",
            "19      9539480  Where can I go to find a support group?\n",
            "46      9630578          How can I find a support group?\n",
            "====================================================================================================\n",
            "Questions that are similar to the question no. 28 is: \n",
            "    Question_ID                            Questions\n",
            "2       6361820          What causes mental illness?\n",
            "28      4283807  What causes mental health problems?\n",
            "====================================================================================================\n",
            "Questions that are similar to the question no. 46 is: \n",
            "    Question_ID                                Questions\n",
            "19      9539480  Where can I go to find a support group?\n",
            "46      9630578          How can I find a support group?\n",
            "====================================================================================================\n",
            "Questions that are similar to the question no. 49 is: \n",
            "    Question_ID                                          Questions\n",
            "49      6981545  Where can I find self-help materials for depre...\n",
            "50      2115228  Where can I find self-help materials for anxiety?\n",
            "====================================================================================================\n",
            "Questions that are similar to the question no. 50 is: \n",
            "    Question_ID                                          Questions\n",
            "49      6981545  Where can I find self-help materials for depre...\n",
            "50      2115228  Where can I find self-help materials for anxiety?\n",
            "====================================================================================================\n",
            "Questions that are similar to the question no. 68 is: \n",
            "    Question_ID                                          Questions\n",
            "68      3839472  Someone I love has been diagnosed with depress...\n",
            "69      3055896  Someone I love has been diagnosed with schizop...\n",
            "====================================================================================================\n",
            "Questions that are similar to the question no. 69 is: \n",
            "    Question_ID                                          Questions\n",
            "68      3839472  Someone I love has been diagnosed with depress...\n",
            "69      3055896  Someone I love has been diagnosed with schizop...\n",
            "====================================================================================================\n",
            "Questions that are similar to the question no. 73 is: \n",
            "    Question_ID                                          Questions\n",
            "9       7760466  What is the difference between mental health p...\n",
            "73      7995219  What's the difference between mental health an...\n",
            "====================================================================================================\n",
            "Questions that are similar to the question no. 75 is: \n",
            "    Question_ID                                          Questions\n",
            "75      4893447  What’s the difference between anxiety and an a...\n",
            "76      8612349  What's the difference between anxiety and stress?\n",
            "====================================================================================================\n",
            "Questions that are similar to the question no. 76 is: \n",
            "    Question_ID                                          Questions\n",
            "75      4893447  What’s the difference between anxiety and an a...\n",
            "76      8612349  What's the difference between anxiety and stress?\n",
            "====================================================================================================\n"
          ]
        }
      ]
    },
    {
      "cell_type": "markdown",
      "source": [
        "**Observations about the no. of similar *questions*-**\n",
        "\n",
        "Below is the list of questions ids, where questions have same intention.\n",
        "\n",
        "1) 6361820, 4283807-\tAnswers for these questions talk about the same context, but vary in the amount of information. Answer for question- 4283807 provides more precise answer. Combined answer for 6361820 & 4283807 will provide more information about the topic. So, combined answer should be preffered.\n",
        "\n",
        "2) 9539480, 9630578-\tAnswers for both the questions are valid, but vary in the amount of information they provide. Answer for 9630578 provide much more information. Hence answer for 9630578 should be preferred.\n",
        "\n",
        "3) 1155199, 1259439-\tAnswers for these questions are almost same.\n",
        "\n",
        "\n"
      ],
      "metadata": {
        "id": "Wu_HTgmhvk2l"
      }
    },
    {
      "cell_type": "markdown",
      "source": [
        "###No. of similar answers-"
      ],
      "metadata": {
        "id": "G-2RTSletBor"
      }
    },
    {
      "cell_type": "code",
      "source": [
        "#Display the set of similar answers\n",
        "\n",
        "#Create a vector representation for all the answers\n",
        "answer_vector = vectorizer.fit_transform(mentalHealthFaq['Answers'])\n",
        "print(answer_vector.get_shape())"
      ],
      "metadata": {
        "id": "YuQMO49qtIJn",
        "colab": {
          "base_uri": "https://localhost:8080/"
        },
        "outputId": "724025b0-58c1-4d13-dd3a-55ea62b89325"
      },
      "execution_count": 12,
      "outputs": [
        {
          "output_type": "stream",
          "name": "stdout",
          "text": [
            "(98, 2714)\n"
          ]
        }
      ]
    },
    {
      "cell_type": "code",
      "source": [
        "#Create a dataframe which have all the answers and their cosine-similarities\n",
        "\n",
        "#Step-1: Calculate the cosine-similarities for each of the answers in the dataset with all the other remaining answers in the dataset.\n",
        "pairWiseSimilarity = np.zeros((answer_vector.shape[0],answer_vector.shape[0]))\n",
        "for i in range(answer_vector.shape[0]):        \n",
        "    for j in range(answer_vector.shape[0]):    \n",
        "      cos_sim = np.dot(answer_vector[j][0].toarray().ravel(), answer_vector[i].toarray().ravel())/(norm(answer_vector[j][0].toarray().ravel())*norm(answer_vector[i].toarray().ravel()))\n",
        "      pairWiseSimilarity[j][i] = cos_sim\n",
        "pairwiseSimilarityDf = pd.DataFrame(pairWiseSimilarity)\n",
        "\n",
        "# Step-2: Append the calculated cosine-similarities with the dataframe that contains the questions and answers\n",
        "AnswerSimilarityDf = mentalHealthFaq.copy()\n",
        "for i in range(answer_vector.shape[0]):\n",
        "  AnswerSimilarityDf['Cosine Similarity for answer '+ str(i)] = pairwiseSimilarityDf.iloc[:,i] \n",
        "AnswerSimilarityDf.head()"
      ],
      "metadata": {
        "id": "Y3W0BiRrrr_7",
        "colab": {
          "base_uri": "https://localhost:8080/",
          "height": 820
        },
        "outputId": "fbd70893-7d16-4c84-a562-bf6bb4328074"
      },
      "execution_count": 13,
      "outputs": [
        {
          "output_type": "execute_result",
          "data": {
            "text/plain": [
              "   Question_ID                                          Questions  \\\n",
              "0      1590140        What does it mean to have a mental illness?   \n",
              "1      2110618                    Who does mental illness affect?   \n",
              "2      6361820                        What causes mental illness?   \n",
              "3      9434130  What are some of the warning signs of mental i...   \n",
              "4      7657263            Can people with mental illness recover?   \n",
              "\n",
              "                                             Answers  \\\n",
              "0  Mental illnesses are health conditions that di...   \n",
              "1  It is estimated that mental illness affects 1 ...   \n",
              "2  It is estimated that mental illness affects 1 ...   \n",
              "3  Symptoms of mental health disorders vary depen...   \n",
              "4  When healing from mental illness, early identi...   \n",
              "\n",
              "   Cosine Similarity for answer 0  Cosine Similarity for answer 1  \\\n",
              "0                        1.000000                        0.302588   \n",
              "1                        0.302588                        1.000000   \n",
              "2                        0.303560                        0.992835   \n",
              "3                        0.195382                        0.242562   \n",
              "4                        0.307026                        0.242515   \n",
              "\n",
              "   Cosine Similarity for answer 2  Cosine Similarity for answer 3  \\\n",
              "0                        0.303560                        0.195382   \n",
              "1                        0.992835                        0.242562   \n",
              "2                        1.000000                        0.243341   \n",
              "3                        0.243341                        1.000000   \n",
              "4                        0.243293                        0.153396   \n",
              "\n",
              "   Cosine Similarity for answer 4  Cosine Similarity for answer 5  \\\n",
              "0                        0.307026                        0.211876   \n",
              "1                        0.242515                        0.176214   \n",
              "2                        0.243293                        0.176780   \n",
              "3                        0.153396                        0.132360   \n",
              "4                        1.000000                        0.217252   \n",
              "\n",
              "   Cosine Similarity for answer 6  ...  Cosine Similarity for answer 88  \\\n",
              "0                        0.143049  ...                         0.168631   \n",
              "1                        0.092626  ...                         0.129012   \n",
              "2                        0.104326  ...                         0.129427   \n",
              "3                        0.070876  ...                         0.184797   \n",
              "4                        0.125193  ...                         0.128979   \n",
              "\n",
              "   Cosine Similarity for answer 89  Cosine Similarity for answer 90  \\\n",
              "0                         0.201071                         0.171900   \n",
              "1                         0.157878                         0.204126   \n",
              "2                         0.158385                         0.204781   \n",
              "3                         0.147912                         0.114169   \n",
              "4                         0.170059                         0.193867   \n",
              "\n",
              "   Cosine Similarity for answer 91  Cosine Similarity for answer 92  \\\n",
              "0                         0.205296                         0.202518   \n",
              "1                         0.172402                         0.182679   \n",
              "2                         0.172956                         0.183265   \n",
              "3                         0.189899                         0.202782   \n",
              "4                         0.169633                         0.222987   \n",
              "\n",
              "   Cosine Similarity for answer 93  Cosine Similarity for answer 94  \\\n",
              "0                         0.191707                         0.227871   \n",
              "1                         0.168957                         0.202331   \n",
              "2                         0.169499                         0.202980   \n",
              "3                         0.188453                         0.158604   \n",
              "4                         0.159311                         0.198706   \n",
              "\n",
              "   Cosine Similarity for answer 95  Cosine Similarity for answer 96  \\\n",
              "0                         0.208414                         0.195525   \n",
              "1                         0.226964                         0.174120   \n",
              "2                         0.236668                         0.174679   \n",
              "3                         0.228602                         0.127396   \n",
              "4                         0.189066                         0.170515   \n",
              "\n",
              "   Cosine Similarity for answer 97  \n",
              "0                         0.142271  \n",
              "1                         0.141253  \n",
              "2                         0.141706  \n",
              "3                         0.102457  \n",
              "4                         0.138264  \n",
              "\n",
              "[5 rows x 101 columns]"
            ],
            "text/html": [
              "\n",
              "  <div id=\"df-b1f1daf7-4890-498a-8fee-6255d776e264\">\n",
              "    <div class=\"colab-df-container\">\n",
              "      <div>\n",
              "<style scoped>\n",
              "    .dataframe tbody tr th:only-of-type {\n",
              "        vertical-align: middle;\n",
              "    }\n",
              "\n",
              "    .dataframe tbody tr th {\n",
              "        vertical-align: top;\n",
              "    }\n",
              "\n",
              "    .dataframe thead th {\n",
              "        text-align: right;\n",
              "    }\n",
              "</style>\n",
              "<table border=\"1\" class=\"dataframe\">\n",
              "  <thead>\n",
              "    <tr style=\"text-align: right;\">\n",
              "      <th></th>\n",
              "      <th>Question_ID</th>\n",
              "      <th>Questions</th>\n",
              "      <th>Answers</th>\n",
              "      <th>Cosine Similarity for answer 0</th>\n",
              "      <th>Cosine Similarity for answer 1</th>\n",
              "      <th>Cosine Similarity for answer 2</th>\n",
              "      <th>Cosine Similarity for answer 3</th>\n",
              "      <th>Cosine Similarity for answer 4</th>\n",
              "      <th>Cosine Similarity for answer 5</th>\n",
              "      <th>Cosine Similarity for answer 6</th>\n",
              "      <th>...</th>\n",
              "      <th>Cosine Similarity for answer 88</th>\n",
              "      <th>Cosine Similarity for answer 89</th>\n",
              "      <th>Cosine Similarity for answer 90</th>\n",
              "      <th>Cosine Similarity for answer 91</th>\n",
              "      <th>Cosine Similarity for answer 92</th>\n",
              "      <th>Cosine Similarity for answer 93</th>\n",
              "      <th>Cosine Similarity for answer 94</th>\n",
              "      <th>Cosine Similarity for answer 95</th>\n",
              "      <th>Cosine Similarity for answer 96</th>\n",
              "      <th>Cosine Similarity for answer 97</th>\n",
              "    </tr>\n",
              "  </thead>\n",
              "  <tbody>\n",
              "    <tr>\n",
              "      <th>0</th>\n",
              "      <td>1590140</td>\n",
              "      <td>What does it mean to have a mental illness?</td>\n",
              "      <td>Mental illnesses are health conditions that di...</td>\n",
              "      <td>1.000000</td>\n",
              "      <td>0.302588</td>\n",
              "      <td>0.303560</td>\n",
              "      <td>0.195382</td>\n",
              "      <td>0.307026</td>\n",
              "      <td>0.211876</td>\n",
              "      <td>0.143049</td>\n",
              "      <td>...</td>\n",
              "      <td>0.168631</td>\n",
              "      <td>0.201071</td>\n",
              "      <td>0.171900</td>\n",
              "      <td>0.205296</td>\n",
              "      <td>0.202518</td>\n",
              "      <td>0.191707</td>\n",
              "      <td>0.227871</td>\n",
              "      <td>0.208414</td>\n",
              "      <td>0.195525</td>\n",
              "      <td>0.142271</td>\n",
              "    </tr>\n",
              "    <tr>\n",
              "      <th>1</th>\n",
              "      <td>2110618</td>\n",
              "      <td>Who does mental illness affect?</td>\n",
              "      <td>It is estimated that mental illness affects 1 ...</td>\n",
              "      <td>0.302588</td>\n",
              "      <td>1.000000</td>\n",
              "      <td>0.992835</td>\n",
              "      <td>0.242562</td>\n",
              "      <td>0.242515</td>\n",
              "      <td>0.176214</td>\n",
              "      <td>0.092626</td>\n",
              "      <td>...</td>\n",
              "      <td>0.129012</td>\n",
              "      <td>0.157878</td>\n",
              "      <td>0.204126</td>\n",
              "      <td>0.172402</td>\n",
              "      <td>0.182679</td>\n",
              "      <td>0.168957</td>\n",
              "      <td>0.202331</td>\n",
              "      <td>0.226964</td>\n",
              "      <td>0.174120</td>\n",
              "      <td>0.141253</td>\n",
              "    </tr>\n",
              "    <tr>\n",
              "      <th>2</th>\n",
              "      <td>6361820</td>\n",
              "      <td>What causes mental illness?</td>\n",
              "      <td>It is estimated that mental illness affects 1 ...</td>\n",
              "      <td>0.303560</td>\n",
              "      <td>0.992835</td>\n",
              "      <td>1.000000</td>\n",
              "      <td>0.243341</td>\n",
              "      <td>0.243293</td>\n",
              "      <td>0.176780</td>\n",
              "      <td>0.104326</td>\n",
              "      <td>...</td>\n",
              "      <td>0.129427</td>\n",
              "      <td>0.158385</td>\n",
              "      <td>0.204781</td>\n",
              "      <td>0.172956</td>\n",
              "      <td>0.183265</td>\n",
              "      <td>0.169499</td>\n",
              "      <td>0.202980</td>\n",
              "      <td>0.236668</td>\n",
              "      <td>0.174679</td>\n",
              "      <td>0.141706</td>\n",
              "    </tr>\n",
              "    <tr>\n",
              "      <th>3</th>\n",
              "      <td>9434130</td>\n",
              "      <td>What are some of the warning signs of mental i...</td>\n",
              "      <td>Symptoms of mental health disorders vary depen...</td>\n",
              "      <td>0.195382</td>\n",
              "      <td>0.242562</td>\n",
              "      <td>0.243341</td>\n",
              "      <td>1.000000</td>\n",
              "      <td>0.153396</td>\n",
              "      <td>0.132360</td>\n",
              "      <td>0.070876</td>\n",
              "      <td>...</td>\n",
              "      <td>0.184797</td>\n",
              "      <td>0.147912</td>\n",
              "      <td>0.114169</td>\n",
              "      <td>0.189899</td>\n",
              "      <td>0.202782</td>\n",
              "      <td>0.188453</td>\n",
              "      <td>0.158604</td>\n",
              "      <td>0.228602</td>\n",
              "      <td>0.127396</td>\n",
              "      <td>0.102457</td>\n",
              "    </tr>\n",
              "    <tr>\n",
              "      <th>4</th>\n",
              "      <td>7657263</td>\n",
              "      <td>Can people with mental illness recover?</td>\n",
              "      <td>When healing from mental illness, early identi...</td>\n",
              "      <td>0.307026</td>\n",
              "      <td>0.242515</td>\n",
              "      <td>0.243293</td>\n",
              "      <td>0.153396</td>\n",
              "      <td>1.000000</td>\n",
              "      <td>0.217252</td>\n",
              "      <td>0.125193</td>\n",
              "      <td>...</td>\n",
              "      <td>0.128979</td>\n",
              "      <td>0.170059</td>\n",
              "      <td>0.193867</td>\n",
              "      <td>0.169633</td>\n",
              "      <td>0.222987</td>\n",
              "      <td>0.159311</td>\n",
              "      <td>0.198706</td>\n",
              "      <td>0.189066</td>\n",
              "      <td>0.170515</td>\n",
              "      <td>0.138264</td>\n",
              "    </tr>\n",
              "  </tbody>\n",
              "</table>\n",
              "<p>5 rows × 101 columns</p>\n",
              "</div>\n",
              "      <button class=\"colab-df-convert\" onclick=\"convertToInteractive('df-b1f1daf7-4890-498a-8fee-6255d776e264')\"\n",
              "              title=\"Convert this dataframe to an interactive table.\"\n",
              "              style=\"display:none;\">\n",
              "        \n",
              "  <svg xmlns=\"http://www.w3.org/2000/svg\" height=\"24px\"viewBox=\"0 0 24 24\"\n",
              "       width=\"24px\">\n",
              "    <path d=\"M0 0h24v24H0V0z\" fill=\"none\"/>\n",
              "    <path d=\"M18.56 5.44l.94 2.06.94-2.06 2.06-.94-2.06-.94-.94-2.06-.94 2.06-2.06.94zm-11 1L8.5 8.5l.94-2.06 2.06-.94-2.06-.94L8.5 2.5l-.94 2.06-2.06.94zm10 10l.94 2.06.94-2.06 2.06-.94-2.06-.94-.94-2.06-.94 2.06-2.06.94z\"/><path d=\"M17.41 7.96l-1.37-1.37c-.4-.4-.92-.59-1.43-.59-.52 0-1.04.2-1.43.59L10.3 9.45l-7.72 7.72c-.78.78-.78 2.05 0 2.83L4 21.41c.39.39.9.59 1.41.59.51 0 1.02-.2 1.41-.59l7.78-7.78 2.81-2.81c.8-.78.8-2.07 0-2.86zM5.41 20L4 18.59l7.72-7.72 1.47 1.35L5.41 20z\"/>\n",
              "  </svg>\n",
              "      </button>\n",
              "      \n",
              "  <style>\n",
              "    .colab-df-container {\n",
              "      display:flex;\n",
              "      flex-wrap:wrap;\n",
              "      gap: 12px;\n",
              "    }\n",
              "\n",
              "    .colab-df-convert {\n",
              "      background-color: #E8F0FE;\n",
              "      border: none;\n",
              "      border-radius: 50%;\n",
              "      cursor: pointer;\n",
              "      display: none;\n",
              "      fill: #1967D2;\n",
              "      height: 32px;\n",
              "      padding: 0 0 0 0;\n",
              "      width: 32px;\n",
              "    }\n",
              "\n",
              "    .colab-df-convert:hover {\n",
              "      background-color: #E2EBFA;\n",
              "      box-shadow: 0px 1px 2px rgba(60, 64, 67, 0.3), 0px 1px 3px 1px rgba(60, 64, 67, 0.15);\n",
              "      fill: #174EA6;\n",
              "    }\n",
              "\n",
              "    [theme=dark] .colab-df-convert {\n",
              "      background-color: #3B4455;\n",
              "      fill: #D2E3FC;\n",
              "    }\n",
              "\n",
              "    [theme=dark] .colab-df-convert:hover {\n",
              "      background-color: #434B5C;\n",
              "      box-shadow: 0px 1px 3px 1px rgba(0, 0, 0, 0.15);\n",
              "      filter: drop-shadow(0px 1px 2px rgba(0, 0, 0, 0.3));\n",
              "      fill: #FFFFFF;\n",
              "    }\n",
              "  </style>\n",
              "\n",
              "      <script>\n",
              "        const buttonEl =\n",
              "          document.querySelector('#df-b1f1daf7-4890-498a-8fee-6255d776e264 button.colab-df-convert');\n",
              "        buttonEl.style.display =\n",
              "          google.colab.kernel.accessAllowed ? 'block' : 'none';\n",
              "\n",
              "        async function convertToInteractive(key) {\n",
              "          const element = document.querySelector('#df-b1f1daf7-4890-498a-8fee-6255d776e264');\n",
              "          const dataTable =\n",
              "            await google.colab.kernel.invokeFunction('convertToInteractive',\n",
              "                                                     [key], {});\n",
              "          if (!dataTable) return;\n",
              "\n",
              "          const docLinkHtml = 'Like what you see? Visit the ' +\n",
              "            '<a target=\"_blank\" href=https://colab.research.google.com/notebooks/data_table.ipynb>data table notebook</a>'\n",
              "            + ' to learn more about interactive tables.';\n",
              "          element.innerHTML = '';\n",
              "          dataTable['output_type'] = 'display_data';\n",
              "          await google.colab.output.renderOutput(dataTable, element);\n",
              "          const docLink = document.createElement('div');\n",
              "          docLink.innerHTML = docLinkHtml;\n",
              "          element.appendChild(docLink);\n",
              "        }\n",
              "      </script>\n",
              "    </div>\n",
              "  </div>\n",
              "  "
            ]
          },
          "metadata": {},
          "execution_count": 13
        }
      ]
    },
    {
      "cell_type": "code",
      "source": [
        "#Display the set of similar answers\n",
        "for i in range(answer_vector.shape[0]):  \n",
        "  if AnswerSimilarityDf.loc[(AnswerSimilarityDf['Cosine Similarity for answer '+str(i)] > threshold), ['Question_ID',\t'Answers']].shape[0] > 1:\n",
        "    print(\"Answers that are similar to the answer no. \"+str(i)+\" is: \")\n",
        "    print(AnswerSimilarityDf.loc[(AnswerSimilarityDf['Cosine Similarity for answer '+str(i)] > threshold), ['Question_ID',\t'Answers']])\n",
        "    print(\"=\"*100)"
      ],
      "metadata": {
        "id": "y38vjll0z2gu",
        "colab": {
          "base_uri": "https://localhost:8080/"
        },
        "outputId": "351c3b47-26ec-43f8-f292-65b6c5eafde9"
      },
      "execution_count": 14,
      "outputs": [
        {
          "output_type": "stream",
          "name": "stdout",
          "text": [
            "Answers that are similar to the answer no. 1 is: \n",
            "   Question_ID                                            Answers\n",
            "1      2110618  It is estimated that mental illness affects 1 ...\n",
            "2      6361820  It is estimated that mental illness affects 1 ...\n",
            "====================================================================================================\n",
            "Answers that are similar to the answer no. 2 is: \n",
            "   Question_ID                                            Answers\n",
            "1      2110618  It is estimated that mental illness affects 1 ...\n",
            "2      6361820  It is estimated that mental illness affects 1 ...\n",
            "====================================================================================================\n",
            "Answers that are similar to the answer no. 6 is: \n",
            "    Question_ID                                            Answers\n",
            "6       1030153  Feeling comfortable with the professional you ...\n",
            "10      2553795  Feeling comfortable with the professional you ...\n",
            "====================================================================================================\n",
            "Answers that are similar to the answer no. 8 is: \n",
            "    Question_ID                                            Answers\n",
            "8       1155199  Since beginning treatment is a big step for in...\n",
            "11      1259439  Beginning treatment is a big step for individu...\n",
            "====================================================================================================\n",
            "Answers that are similar to the answer no. 10 is: \n",
            "    Question_ID                                            Answers\n",
            "6       1030153  Feeling comfortable with the professional you ...\n",
            "10      2553795  Feeling comfortable with the professional you ...\n",
            "====================================================================================================\n",
            "Answers that are similar to the answer no. 11 is: \n",
            "    Question_ID                                            Answers\n",
            "8       1155199  Since beginning treatment is a big step for in...\n",
            "11      1259439  Beginning treatment is a big step for individu...\n",
            "====================================================================================================\n",
            "Answers that are similar to the answer no. 12 is: \n",
            "    Question_ID                                            Answers\n",
            "12      4197817  Where you go for help will depend on the natur...\n",
            "19      9539480  Many people find peer support a helpful tool t...\n",
            "====================================================================================================\n",
            "Answers that are similar to the answer no. 19 is: \n",
            "    Question_ID                                            Answers\n",
            "12      4197817  Where you go for help will depend on the natur...\n",
            "19      9539480  Many people find peer support a helpful tool t...\n",
            "====================================================================================================\n",
            "Answers that are similar to the answer no. 44 is: \n",
            "    Question_ID                                            Answers\n",
            "44      3166337  To find a Registered Psychologist, visit the B...\n",
            "45      7009409  You can find directories of counsellors throug...\n",
            "====================================================================================================\n",
            "Answers that are similar to the answer no. 45 is: \n",
            "    Question_ID                                            Answers\n",
            "44      3166337  To find a Registered Psychologist, visit the B...\n",
            "45      7009409  You can find directories of counsellors throug...\n",
            "====================================================================================================\n",
            "Answers that are similar to the answer no. 49 is: \n",
            "    Question_ID                                            Answers\n",
            "49      6981545  Self-help resources are not a substitute for d...\n",
            "50      2115228  Self-help resources are not a substitute for d...\n",
            "51      2009922  Physical health can have a big impact on menta...\n",
            "====================================================================================================\n",
            "Answers that are similar to the answer no. 50 is: \n",
            "    Question_ID                                            Answers\n",
            "49      6981545  Self-help resources are not a substitute for d...\n",
            "50      2115228  Self-help resources are not a substitute for d...\n",
            "====================================================================================================\n",
            "Answers that are similar to the answer no. 51 is: \n",
            "    Question_ID                                            Answers\n",
            "49      6981545  Self-help resources are not a substitute for d...\n",
            "51      2009922  Physical health can have a big impact on menta...\n",
            "====================================================================================================\n",
            "Answers that are similar to the answer no. 68 is: \n",
            "    Question_ID                                            Answers\n",
            "68      3839472  We naturally want to help a loved one who isn’...\n",
            "69      3055896  We naturally want to help a loved one who isn’...\n",
            "====================================================================================================\n",
            "Answers that are similar to the answer no. 69 is: \n",
            "    Question_ID                                            Answers\n",
            "68      3839472  We naturally want to help a loved one who isn’...\n",
            "69      3055896  We naturally want to help a loved one who isn’...\n",
            "====================================================================================================\n"
          ]
        }
      ]
    },
    {
      "cell_type": "markdown",
      "source": [
        "###Observations about the similar answers:\n",
        "\n",
        "Below is the list of questions ids, where answers have same intention.\n",
        "\n",
        "1) 2110618, 6361820- Questions for these answers have different intentions. This answer is suitable for the question- 2110618, but does not answer the question- 6361820.\n",
        "\n",
        "2) 1030153, 2553795- Both of these questions are similar.\n",
        "\n",
        "3) 1155199, 1259439- Both of these questions have same intention.\n"
      ],
      "metadata": {
        "id": "bCJ2mFFrAxPK"
      }
    },
    {
      "cell_type": "markdown",
      "source": [
        "###Length of questions and answers"
      ],
      "metadata": {
        "id": "iN2h6ALljxq2"
      }
    },
    {
      "cell_type": "code",
      "source": [
        "LengthOfQuestion = []\n",
        "LengthOfAnswer = []\n",
        "for i in range(mentalHealthFaq.shape[0]):    \n",
        "  LengthOfQuestion.append(len(re.split(r'[\\s]\\s*',mentalHealthFaq.iloc[i,1])))\n",
        "  LengthOfAnswer.append(len(re.split(r'[\\s]\\s*',mentalHealthFaq.iloc[i,2])))  \n",
        "mentalHealthFaq['Length of question'] = LengthOfQuestion\n",
        "mentalHealthFaq['Length of answer'] = LengthOfAnswer\n",
        "mentalHealthFaq.head()"
      ],
      "metadata": {
        "id": "1Hi3nhs0mAzD",
        "colab": {
          "base_uri": "https://localhost:8080/",
          "height": 354
        },
        "outputId": "11fc8302-fc0e-4b10-f9d3-b7e3d98d8e3f"
      },
      "execution_count": 15,
      "outputs": [
        {
          "output_type": "execute_result",
          "data": {
            "text/plain": [
              "   Question_ID                                          Questions  \\\n",
              "0      1590140        What does it mean to have a mental illness?   \n",
              "1      2110618                    Who does mental illness affect?   \n",
              "2      6361820                        What causes mental illness?   \n",
              "3      9434130  What are some of the warning signs of mental i...   \n",
              "4      7657263            Can people with mental illness recover?   \n",
              "\n",
              "                                             Answers  Length of question  \\\n",
              "0  Mental illnesses are health conditions that di...                   9   \n",
              "1  It is estimated that mental illness affects 1 ...                   5   \n",
              "2  It is estimated that mental illness affects 1 ...                   4   \n",
              "3  Symptoms of mental health disorders vary depen...                  10   \n",
              "4  When healing from mental illness, early identi...                   6   \n",
              "\n",
              "   Length of answer  \n",
              "0               208  \n",
              "1               189  \n",
              "2               189  \n",
              "3               192  \n",
              "4                94  "
            ],
            "text/html": [
              "\n",
              "  <div id=\"df-7ee32483-31c5-4275-8fa9-1519179e577e\">\n",
              "    <div class=\"colab-df-container\">\n",
              "      <div>\n",
              "<style scoped>\n",
              "    .dataframe tbody tr th:only-of-type {\n",
              "        vertical-align: middle;\n",
              "    }\n",
              "\n",
              "    .dataframe tbody tr th {\n",
              "        vertical-align: top;\n",
              "    }\n",
              "\n",
              "    .dataframe thead th {\n",
              "        text-align: right;\n",
              "    }\n",
              "</style>\n",
              "<table border=\"1\" class=\"dataframe\">\n",
              "  <thead>\n",
              "    <tr style=\"text-align: right;\">\n",
              "      <th></th>\n",
              "      <th>Question_ID</th>\n",
              "      <th>Questions</th>\n",
              "      <th>Answers</th>\n",
              "      <th>Length of question</th>\n",
              "      <th>Length of answer</th>\n",
              "    </tr>\n",
              "  </thead>\n",
              "  <tbody>\n",
              "    <tr>\n",
              "      <th>0</th>\n",
              "      <td>1590140</td>\n",
              "      <td>What does it mean to have a mental illness?</td>\n",
              "      <td>Mental illnesses are health conditions that di...</td>\n",
              "      <td>9</td>\n",
              "      <td>208</td>\n",
              "    </tr>\n",
              "    <tr>\n",
              "      <th>1</th>\n",
              "      <td>2110618</td>\n",
              "      <td>Who does mental illness affect?</td>\n",
              "      <td>It is estimated that mental illness affects 1 ...</td>\n",
              "      <td>5</td>\n",
              "      <td>189</td>\n",
              "    </tr>\n",
              "    <tr>\n",
              "      <th>2</th>\n",
              "      <td>6361820</td>\n",
              "      <td>What causes mental illness?</td>\n",
              "      <td>It is estimated that mental illness affects 1 ...</td>\n",
              "      <td>4</td>\n",
              "      <td>189</td>\n",
              "    </tr>\n",
              "    <tr>\n",
              "      <th>3</th>\n",
              "      <td>9434130</td>\n",
              "      <td>What are some of the warning signs of mental i...</td>\n",
              "      <td>Symptoms of mental health disorders vary depen...</td>\n",
              "      <td>10</td>\n",
              "      <td>192</td>\n",
              "    </tr>\n",
              "    <tr>\n",
              "      <th>4</th>\n",
              "      <td>7657263</td>\n",
              "      <td>Can people with mental illness recover?</td>\n",
              "      <td>When healing from mental illness, early identi...</td>\n",
              "      <td>6</td>\n",
              "      <td>94</td>\n",
              "    </tr>\n",
              "  </tbody>\n",
              "</table>\n",
              "</div>\n",
              "      <button class=\"colab-df-convert\" onclick=\"convertToInteractive('df-7ee32483-31c5-4275-8fa9-1519179e577e')\"\n",
              "              title=\"Convert this dataframe to an interactive table.\"\n",
              "              style=\"display:none;\">\n",
              "        \n",
              "  <svg xmlns=\"http://www.w3.org/2000/svg\" height=\"24px\"viewBox=\"0 0 24 24\"\n",
              "       width=\"24px\">\n",
              "    <path d=\"M0 0h24v24H0V0z\" fill=\"none\"/>\n",
              "    <path d=\"M18.56 5.44l.94 2.06.94-2.06 2.06-.94-2.06-.94-.94-2.06-.94 2.06-2.06.94zm-11 1L8.5 8.5l.94-2.06 2.06-.94-2.06-.94L8.5 2.5l-.94 2.06-2.06.94zm10 10l.94 2.06.94-2.06 2.06-.94-2.06-.94-.94-2.06-.94 2.06-2.06.94z\"/><path d=\"M17.41 7.96l-1.37-1.37c-.4-.4-.92-.59-1.43-.59-.52 0-1.04.2-1.43.59L10.3 9.45l-7.72 7.72c-.78.78-.78 2.05 0 2.83L4 21.41c.39.39.9.59 1.41.59.51 0 1.02-.2 1.41-.59l7.78-7.78 2.81-2.81c.8-.78.8-2.07 0-2.86zM5.41 20L4 18.59l7.72-7.72 1.47 1.35L5.41 20z\"/>\n",
              "  </svg>\n",
              "      </button>\n",
              "      \n",
              "  <style>\n",
              "    .colab-df-container {\n",
              "      display:flex;\n",
              "      flex-wrap:wrap;\n",
              "      gap: 12px;\n",
              "    }\n",
              "\n",
              "    .colab-df-convert {\n",
              "      background-color: #E8F0FE;\n",
              "      border: none;\n",
              "      border-radius: 50%;\n",
              "      cursor: pointer;\n",
              "      display: none;\n",
              "      fill: #1967D2;\n",
              "      height: 32px;\n",
              "      padding: 0 0 0 0;\n",
              "      width: 32px;\n",
              "    }\n",
              "\n",
              "    .colab-df-convert:hover {\n",
              "      background-color: #E2EBFA;\n",
              "      box-shadow: 0px 1px 2px rgba(60, 64, 67, 0.3), 0px 1px 3px 1px rgba(60, 64, 67, 0.15);\n",
              "      fill: #174EA6;\n",
              "    }\n",
              "\n",
              "    [theme=dark] .colab-df-convert {\n",
              "      background-color: #3B4455;\n",
              "      fill: #D2E3FC;\n",
              "    }\n",
              "\n",
              "    [theme=dark] .colab-df-convert:hover {\n",
              "      background-color: #434B5C;\n",
              "      box-shadow: 0px 1px 3px 1px rgba(0, 0, 0, 0.15);\n",
              "      filter: drop-shadow(0px 1px 2px rgba(0, 0, 0, 0.3));\n",
              "      fill: #FFFFFF;\n",
              "    }\n",
              "  </style>\n",
              "\n",
              "      <script>\n",
              "        const buttonEl =\n",
              "          document.querySelector('#df-7ee32483-31c5-4275-8fa9-1519179e577e button.colab-df-convert');\n",
              "        buttonEl.style.display =\n",
              "          google.colab.kernel.accessAllowed ? 'block' : 'none';\n",
              "\n",
              "        async function convertToInteractive(key) {\n",
              "          const element = document.querySelector('#df-7ee32483-31c5-4275-8fa9-1519179e577e');\n",
              "          const dataTable =\n",
              "            await google.colab.kernel.invokeFunction('convertToInteractive',\n",
              "                                                     [key], {});\n",
              "          if (!dataTable) return;\n",
              "\n",
              "          const docLinkHtml = 'Like what you see? Visit the ' +\n",
              "            '<a target=\"_blank\" href=https://colab.research.google.com/notebooks/data_table.ipynb>data table notebook</a>'\n",
              "            + ' to learn more about interactive tables.';\n",
              "          element.innerHTML = '';\n",
              "          dataTable['output_type'] = 'display_data';\n",
              "          await google.colab.output.renderOutput(dataTable, element);\n",
              "          const docLink = document.createElement('div');\n",
              "          docLink.innerHTML = docLinkHtml;\n",
              "          element.appendChild(docLink);\n",
              "        }\n",
              "      </script>\n",
              "    </div>\n",
              "  </div>\n",
              "  "
            ]
          },
          "metadata": {},
          "execution_count": 15
        }
      ]
    },
    {
      "cell_type": "code",
      "source": [
        "# Maximum and minimum length of questions and answers\n",
        "print(\"Maximum length of question\")\n",
        "print(mentalHealthFaq['Length of question'].max())\n",
        "print(\"Minimum length of question\")\n",
        "print(mentalHealthFaq['Length of question'].min())"
      ],
      "metadata": {
        "id": "q4t5GlhA6Ofq",
        "colab": {
          "base_uri": "https://localhost:8080/"
        },
        "outputId": "84979eae-5cdd-4f13-813e-104570d0f4b2"
      },
      "execution_count": 16,
      "outputs": [
        {
          "output_type": "stream",
          "name": "stdout",
          "text": [
            "Maximum length of question\n",
            "39\n",
            "Minimum length of question\n",
            "3\n"
          ]
        }
      ]
    },
    {
      "cell_type": "code",
      "source": [
        "#Violin plot has been used here as it gives the combined benefit of Histograms and Box-plots.\n",
        "#Plotting the violin plot for the Length of questions\n",
        "\n",
        "sns.violinplot(y=\"Length of question\", data=mentalHealthFaq, size=8)\n",
        "plt.show()"
      ],
      "metadata": {
        "id": "yPQEgYqGsQ_Q",
        "colab": {
          "base_uri": "https://localhost:8080/",
          "height": 252
        },
        "outputId": "dedba8d7-c963-4aa2-b136-2dd8f0c9c6bf"
      },
      "execution_count": 17,
      "outputs": [
        {
          "output_type": "display_data",
          "data": {
            "text/plain": [
              "<Figure size 432x288 with 1 Axes>"
            ],
            "image/png": "[encoded data removed]"
          },
          "metadata": {
            "needs_background": "light"
          }
        }
      ]
    },
    {
      "cell_type": "code",
      "source": [
        "#Plotted the histogram for the length of questions. Plotted histogram to check if more clear idea information can be told about the length of questions.\n",
        "sns.FacetGrid(mentalHealthFaq, size=5) \\\n",
        "   .map(sns.distplot, \"Length of question\") \\\n",
        "   .add_legend();\n",
        "plt.show();"
      ],
      "metadata": {
        "id": "NvtekZTTzMyV",
        "colab": {
          "base_uri": "https://localhost:8080/",
          "height": 458
        },
        "outputId": "38724c8c-1d2b-41b8-c564-a6caf9d556bc"
      },
      "execution_count": 18,
      "outputs": [
        {
          "output_type": "stream",
          "name": "stderr",
          "text": [
            "/usr/local/lib/python3.7/dist-packages/seaborn/axisgrid.py:337: UserWarning: The `size` parameter has been renamed to `height`; please update your code.\n",
            "  warnings.warn(msg, UserWarning)\n",
            "/usr/local/lib/python3.7/dist-packages/seaborn/distributions.py:2619: FutureWarning: `distplot` is a deprecated function and will be removed in a future version. Please adapt your code to use either `displot` (a figure-level function with similar flexibility) or `histplot` (an axes-level function for histograms).\n",
            "  warnings.warn(msg, FutureWarning)\n"
          ]
        },
        {
          "output_type": "display_data",
          "data": {
            "text/plain": [
              "<Figure size 368x360 with 1 Axes>"
            ],
            "image/png": "[encoded data removed]"
          },
          "metadata": {
            "needs_background": "light"
          }
        }
      ]
    },
    {
      "cell_type": "code",
      "source": [
        "#Checking for the outliers points on the basis on length of the questions. Questions with too small length can be the outlier.\n",
        "\n",
        "#Referred the below link for knowing the average length of abstract in general psycology. No information mentioned in this link has been used.\n",
        "#Just mentioning the link, in case it is needed moving forward.\n",
        "#https://books.google.co.in/books?id=M4kqAAAAMAAJ&pg=RA36-PP10&lpg=RA36-PP10&dq=What+is+the+average+number+of+words+in+the+mental+health+related+queries&source=bl&ots=njXSfsHqxt&sig=ACfU3U3leyUeY2PKKn7nX0DlMBcT6Yp5TQ&hl=en&sa=X&ved=2ahUKEwjr5vOatP_0AhWV_XMBHfMtDxgQ6AF6BAg2EAM#v=onepage&q=What%20is%20the%20average%20number%20of%20words%20in%20the%20mental%20health%20related%20queries&f=false\n",
        "\n",
        "#Get all the questions whose length is less than 4 words. Has taken the length '4' just on the basis of common sense.\n",
        "print(\"Questions whose length is smaller than 4:\")\n",
        "mentalHealthFaq[mentalHealthFaq['Length of question'] <4]\n",
        "\n",
        "#Get all the questions whose length is more than 30 words\n",
        "print(\"Questions whose length is greater than 30:\")\n",
        "mentalHealthFaq[mentalHealthFaq['Length of question'] >20]"
      ],
      "metadata": {
        "id": "FQ54O98HI6ho",
        "colab": {
          "base_uri": "https://localhost:8080/",
          "height": 194
        },
        "outputId": "0893a06e-0073-487c-c5b5-9811d3ad9a66"
      },
      "execution_count": 19,
      "outputs": [
        {
          "output_type": "stream",
          "name": "stdout",
          "text": [
            "Questions whose length is smaller than 4:\n",
            "Questions whose length is greater than 30:\n"
          ]
        },
        {
          "output_type": "execute_result",
          "data": {
            "text/plain": [
              "    Question_ID                                          Questions  \\\n",
              "72      2447683  Cannabis is legally allowed to 19+ but there a...   \n",
              "\n",
              "                                              Answers  Length of question  \\\n",
              "72  Using cannabis has the potential for benefits ...                  39   \n",
              "\n",
              "    Length of answer  \n",
              "72               473  "
            ],
            "text/html": [
              "\n",
              "  <div id=\"df-eb2924e8-cbc9-43e7-b5dc-902a23acaeda\">\n",
              "    <div class=\"colab-df-container\">\n",
              "      <div>\n",
              "<style scoped>\n",
              "    .dataframe tbody tr th:only-of-type {\n",
              "        vertical-align: middle;\n",
              "    }\n",
              "\n",
              "    .dataframe tbody tr th {\n",
              "        vertical-align: top;\n",
              "    }\n",
              "\n",
              "    .dataframe thead th {\n",
              "        text-align: right;\n",
              "    }\n",
              "</style>\n",
              "<table border=\"1\" class=\"dataframe\">\n",
              "  <thead>\n",
              "    <tr style=\"text-align: right;\">\n",
              "      <th></th>\n",
              "      <th>Question_ID</th>\n",
              "      <th>Questions</th>\n",
              "      <th>Answers</th>\n",
              "      <th>Length of question</th>\n",
              "      <th>Length of answer</th>\n",
              "    </tr>\n",
              "  </thead>\n",
              "  <tbody>\n",
              "    <tr>\n",
              "      <th>72</th>\n",
              "      <td>2447683</td>\n",
              "      <td>Cannabis is legally allowed to 19+ but there a...</td>\n",
              "      <td>Using cannabis has the potential for benefits ...</td>\n",
              "      <td>39</td>\n",
              "      <td>473</td>\n",
              "    </tr>\n",
              "  </tbody>\n",
              "</table>\n",
              "</div>\n",
              "      <button class=\"colab-df-convert\" onclick=\"convertToInteractive('df-eb2924e8-cbc9-43e7-b5dc-902a23acaeda')\"\n",
              "              title=\"Convert this dataframe to an interactive table.\"\n",
              "              style=\"display:none;\">\n",
              "        \n",
              "  <svg xmlns=\"http://www.w3.org/2000/svg\" height=\"24px\"viewBox=\"0 0 24 24\"\n",
              "       width=\"24px\">\n",
              "    <path d=\"M0 0h24v24H0V0z\" fill=\"none\"/>\n",
              "    <path d=\"M18.56 5.44l.94 2.06.94-2.06 2.06-.94-2.06-.94-.94-2.06-.94 2.06-2.06.94zm-11 1L8.5 8.5l.94-2.06 2.06-.94-2.06-.94L8.5 2.5l-.94 2.06-2.06.94zm10 10l.94 2.06.94-2.06 2.06-.94-2.06-.94-.94-2.06-.94 2.06-2.06.94z\"/><path d=\"M17.41 7.96l-1.37-1.37c-.4-.4-.92-.59-1.43-.59-.52 0-1.04.2-1.43.59L10.3 9.45l-7.72 7.72c-.78.78-.78 2.05 0 2.83L4 21.41c.39.39.9.59 1.41.59.51 0 1.02-.2 1.41-.59l7.78-7.78 2.81-2.81c.8-.78.8-2.07 0-2.86zM5.41 20L4 18.59l7.72-7.72 1.47 1.35L5.41 20z\"/>\n",
              "  </svg>\n",
              "      </button>\n",
              "      \n",
              "  <style>\n",
              "    .colab-df-container {\n",
              "      display:flex;\n",
              "      flex-wrap:wrap;\n",
              "      gap: 12px;\n",
              "    }\n",
              "\n",
              "    .colab-df-convert {\n",
              "      background-color: #E8F0FE;\n",
              "      border: none;\n",
              "      border-radius: 50%;\n",
              "      cursor: pointer;\n",
              "      display: none;\n",
              "      fill: #1967D2;\n",
              "      height: 32px;\n",
              "      padding: 0 0 0 0;\n",
              "      width: 32px;\n",
              "    }\n",
              "\n",
              "    .colab-df-convert:hover {\n",
              "      background-color: #E2EBFA;\n",
              "      box-shadow: 0px 1px 2px rgba(60, 64, 67, 0.3), 0px 1px 3px 1px rgba(60, 64, 67, 0.15);\n",
              "      fill: #174EA6;\n",
              "    }\n",
              "\n",
              "    [theme=dark] .colab-df-convert {\n",
              "      background-color: #3B4455;\n",
              "      fill: #D2E3FC;\n",
              "    }\n",
              "\n",
              "    [theme=dark] .colab-df-convert:hover {\n",
              "      background-color: #434B5C;\n",
              "      box-shadow: 0px 1px 3px 1px rgba(0, 0, 0, 0.15);\n",
              "      filter: drop-shadow(0px 1px 2px rgba(0, 0, 0, 0.3));\n",
              "      fill: #FFFFFF;\n",
              "    }\n",
              "  </style>\n",
              "\n",
              "      <script>\n",
              "        const buttonEl =\n",
              "          document.querySelector('#df-eb2924e8-cbc9-43e7-b5dc-902a23acaeda button.colab-df-convert');\n",
              "        buttonEl.style.display =\n",
              "          google.colab.kernel.accessAllowed ? 'block' : 'none';\n",
              "\n",
              "        async function convertToInteractive(key) {\n",
              "          const element = document.querySelector('#df-eb2924e8-cbc9-43e7-b5dc-902a23acaeda');\n",
              "          const dataTable =\n",
              "            await google.colab.kernel.invokeFunction('convertToInteractive',\n",
              "                                                     [key], {});\n",
              "          if (!dataTable) return;\n",
              "\n",
              "          const docLinkHtml = 'Like what you see? Visit the ' +\n",
              "            '<a target=\"_blank\" href=https://colab.research.google.com/notebooks/data_table.ipynb>data table notebook</a>'\n",
              "            + ' to learn more about interactive tables.';\n",
              "          element.innerHTML = '';\n",
              "          dataTable['output_type'] = 'display_data';\n",
              "          await google.colab.output.renderOutput(dataTable, element);\n",
              "          const docLink = document.createElement('div');\n",
              "          docLink.innerHTML = docLinkHtml;\n",
              "          element.appendChild(docLink);\n",
              "        }\n",
              "      </script>\n",
              "    </div>\n",
              "  </div>\n",
              "  "
            ]
          },
          "metadata": {},
          "execution_count": 19
        }
      ]
    },
    {
      "cell_type": "code",
      "source": [
        "print(\"Maximum length of answer\")\n",
        "print(mentalHealthFaq['Length of answer'].max())\n",
        "print(\"Minimum length of answer\")\n",
        "print(mentalHealthFaq['Length of answer'].min())"
      ],
      "metadata": {
        "id": "2wCXf7DZyYld",
        "colab": {
          "base_uri": "https://localhost:8080/"
        },
        "outputId": "5617faff-cd1f-44ee-c819-6599f525c0d8"
      },
      "execution_count": 20,
      "outputs": [
        {
          "output_type": "stream",
          "name": "stdout",
          "text": [
            "Maximum length of answer\n",
            "1441\n",
            "Minimum length of answer\n",
            "16\n"
          ]
        }
      ]
    },
    {
      "cell_type": "code",
      "source": [
        "#Plotting the violin plot for the Length of answers\n",
        "\n",
        "sns.violinplot(y=\"Length of answer\", data=mentalHealthFaq, size=8)\n",
        "plt.show()"
      ],
      "metadata": {
        "id": "HStbz7OXwqul",
        "colab": {
          "base_uri": "https://localhost:8080/",
          "height": 254
        },
        "outputId": "a76793c9-0728-4e44-e92b-b20b81a778bb"
      },
      "execution_count": 21,
      "outputs": [
        {
          "output_type": "display_data",
          "data": {
            "text/plain": [
              "<Figure size 432x288 with 1 Axes>"
            ],
            "image/png": "[encoded data removed]"
          },
          "metadata": {
            "needs_background": "light"
          }
        }
      ]
    },
    {
      "cell_type": "code",
      "source": [
        "#Plotted the histogram for the length of answer. Plotted histogram to check if more clear idea information can be told about the length of answers.\n",
        "sns.FacetGrid(mentalHealthFaq, size=5) \\\n",
        "   .map(sns.distplot, \"Length of answer\") \\\n",
        "   .add_legend();\n",
        "plt.show();"
      ],
      "metadata": {
        "id": "e9agM9xUz73-",
        "colab": {
          "base_uri": "https://localhost:8080/",
          "height": 458
        },
        "outputId": "c0c18d9c-e00b-40bf-c205-bacc18562caf"
      },
      "execution_count": 22,
      "outputs": [
        {
          "output_type": "stream",
          "name": "stderr",
          "text": [
            "/usr/local/lib/python3.7/dist-packages/seaborn/axisgrid.py:337: UserWarning: The `size` parameter has been renamed to `height`; please update your code.\n",
            "  warnings.warn(msg, UserWarning)\n",
            "/usr/local/lib/python3.7/dist-packages/seaborn/distributions.py:2619: FutureWarning: `distplot` is a deprecated function and will be removed in a future version. Please adapt your code to use either `displot` (a figure-level function with similar flexibility) or `histplot` (an axes-level function for histograms).\n",
            "  warnings.warn(msg, FutureWarning)\n"
          ]
        },
        {
          "output_type": "display_data",
          "data": {
            "text/plain": [
              "<Figure size 368x360 with 1 Axes>"
            ],
            "image/png": "[encoded data removed]"
          },
          "metadata": {
            "needs_background": "light"
          }
        }
      ]
    },
    {
      "cell_type": "code",
      "source": [
        "#Checking for the outliers points on the basis on length of the answers. Answers with too small/long length can be the outlier.\n",
        "#Referred the below link for knowing the average length of abstract in general psycology. No information mentioned in this link has been used.\n",
        "#Just mentioning the link, in case it is needed moving forward.\n",
        "#https://books.google.co.in/books?id=M4kqAAAAMAAJ&pg=RA36-PP10&lpg=RA36-PP10&dq=What+is+the+average+number+of+words+in+the+mental+health+related+queries&source=bl&ots=njXSfsHqxt&sig=ACfU3U3leyUeY2PKKn7nX0DlMBcT6Yp5TQ&hl=en&sa=X&ved=2ahUKEwjr5vOatP_0AhWV_XMBHfMtDxgQ6AF6BAg2EAM#v=onepage&q=What%20is%20the%20average%20number%20of%20words%20in%20the%20mental%20health%20related%20queries&f=false\n",
        "\n",
        "#Get all the answers whose length is more than 750 words. Used '750' here, as it is visible from the above histogram that there are very less answers of length more than 750 words.\n",
        "print(\"Answers whose length is greater than 750 words are:\")\n",
        "mentalHealthFaq[mentalHealthFaq['Length of answer'] >750]"
      ],
      "metadata": {
        "id": "zMnpIS9VbaWX",
        "colab": {
          "base_uri": "https://localhost:8080/",
          "height": 274
        },
        "outputId": "2b3f20c9-afdd-4f30-8579-6d3cb20bcb8f"
      },
      "execution_count": 23,
      "outputs": [
        {
          "output_type": "stream",
          "name": "stdout",
          "text": [
            "Answers whose length is greater than 750 words are:\n"
          ]
        },
        {
          "output_type": "execute_result",
          "data": {
            "text/plain": [
              "    Question_ID                                          Questions  \\\n",
              "40      7535002                How can I challenge thinking traps?   \n",
              "68      3839472  Someone I love has been diagnosed with depress...   \n",
              "69      3055896  Someone I love has been diagnosed with schizop...   \n",
              "\n",
              "                                              Answers  Length of question  \\\n",
              "40  What you tell yourself about a situation affec...                   6   \n",
              "68  We naturally want to help a loved one who isn’...                  12   \n",
              "69  We naturally want to help a loved one who isn’...                  12   \n",
              "\n",
              "    Length of answer  \n",
              "40              1000  \n",
              "68               834  \n",
              "69              1441  "
            ],
            "text/html": [
              "\n",
              "  <div id=\"df-696da555-b0b1-4e9b-8dd9-30a9073f5b30\">\n",
              "    <div class=\"colab-df-container\">\n",
              "      <div>\n",
              "<style scoped>\n",
              "    .dataframe tbody tr th:only-of-type {\n",
              "        vertical-align: middle;\n",
              "    }\n",
              "\n",
              "    .dataframe tbody tr th {\n",
              "        vertical-align: top;\n",
              "    }\n",
              "\n",
              "    .dataframe thead th {\n",
              "        text-align: right;\n",
              "    }\n",
              "</style>\n",
              "<table border=\"1\" class=\"dataframe\">\n",
              "  <thead>\n",
              "    <tr style=\"text-align: right;\">\n",
              "      <th></th>\n",
              "      <th>Question_ID</th>\n",
              "      <th>Questions</th>\n",
              "      <th>Answers</th>\n",
              "      <th>Length of question</th>\n",
              "      <th>Length of answer</th>\n",
              "    </tr>\n",
              "  </thead>\n",
              "  <tbody>\n",
              "    <tr>\n",
              "      <th>40</th>\n",
              "      <td>7535002</td>\n",
              "      <td>How can I challenge thinking traps?</td>\n",
              "      <td>What you tell yourself about a situation affec...</td>\n",
              "      <td>6</td>\n",
              "      <td>1000</td>\n",
              "    </tr>\n",
              "    <tr>\n",
              "      <th>68</th>\n",
              "      <td>3839472</td>\n",
              "      <td>Someone I love has been diagnosed with depress...</td>\n",
              "      <td>We naturally want to help a loved one who isn’...</td>\n",
              "      <td>12</td>\n",
              "      <td>834</td>\n",
              "    </tr>\n",
              "    <tr>\n",
              "      <th>69</th>\n",
              "      <td>3055896</td>\n",
              "      <td>Someone I love has been diagnosed with schizop...</td>\n",
              "      <td>We naturally want to help a loved one who isn’...</td>\n",
              "      <td>12</td>\n",
              "      <td>1441</td>\n",
              "    </tr>\n",
              "  </tbody>\n",
              "</table>\n",
              "</div>\n",
              "      <button class=\"colab-df-convert\" onclick=\"convertToInteractive('df-696da555-b0b1-4e9b-8dd9-30a9073f5b30')\"\n",
              "              title=\"Convert this dataframe to an interactive table.\"\n",
              "              style=\"display:none;\">\n",
              "        \n",
              "  <svg xmlns=\"http://www.w3.org/2000/svg\" height=\"24px\"viewBox=\"0 0 24 24\"\n",
              "       width=\"24px\">\n",
              "    <path d=\"M0 0h24v24H0V0z\" fill=\"none\"/>\n",
              "    <path d=\"M18.56 5.44l.94 2.06.94-2.06 2.06-.94-2.06-.94-.94-2.06-.94 2.06-2.06.94zm-11 1L8.5 8.5l.94-2.06 2.06-.94-2.06-.94L8.5 2.5l-.94 2.06-2.06.94zm10 10l.94 2.06.94-2.06 2.06-.94-2.06-.94-.94-2.06-.94 2.06-2.06.94z\"/><path d=\"M17.41 7.96l-1.37-1.37c-.4-.4-.92-.59-1.43-.59-.52 0-1.04.2-1.43.59L10.3 9.45l-7.72 7.72c-.78.78-.78 2.05 0 2.83L4 21.41c.39.39.9.59 1.41.59.51 0 1.02-.2 1.41-.59l7.78-7.78 2.81-2.81c.8-.78.8-2.07 0-2.86zM5.41 20L4 18.59l7.72-7.72 1.47 1.35L5.41 20z\"/>\n",
              "  </svg>\n",
              "      </button>\n",
              "      \n",
              "  <style>\n",
              "    .colab-df-container {\n",
              "      display:flex;\n",
              "      flex-wrap:wrap;\n",
              "      gap: 12px;\n",
              "    }\n",
              "\n",
              "    .colab-df-convert {\n",
              "      background-color: #E8F0FE;\n",
              "      border: none;\n",
              "      border-radius: 50%;\n",
              "      cursor: pointer;\n",
              "      display: none;\n",
              "      fill: #1967D2;\n",
              "      height: 32px;\n",
              "      padding: 0 0 0 0;\n",
              "      width: 32px;\n",
              "    }\n",
              "\n",
              "    .colab-df-convert:hover {\n",
              "      background-color: #E2EBFA;\n",
              "      box-shadow: 0px 1px 2px rgba(60, 64, 67, 0.3), 0px 1px 3px 1px rgba(60, 64, 67, 0.15);\n",
              "      fill: #174EA6;\n",
              "    }\n",
              "\n",
              "    [theme=dark] .colab-df-convert {\n",
              "      background-color: #3B4455;\n",
              "      fill: #D2E3FC;\n",
              "    }\n",
              "\n",
              "    [theme=dark] .colab-df-convert:hover {\n",
              "      background-color: #434B5C;\n",
              "      box-shadow: 0px 1px 3px 1px rgba(0, 0, 0, 0.15);\n",
              "      filter: drop-shadow(0px 1px 2px rgba(0, 0, 0, 0.3));\n",
              "      fill: #FFFFFF;\n",
              "    }\n",
              "  </style>\n",
              "\n",
              "      <script>\n",
              "        const buttonEl =\n",
              "          document.querySelector('#df-696da555-b0b1-4e9b-8dd9-30a9073f5b30 button.colab-df-convert');\n",
              "        buttonEl.style.display =\n",
              "          google.colab.kernel.accessAllowed ? 'block' : 'none';\n",
              "\n",
              "        async function convertToInteractive(key) {\n",
              "          const element = document.querySelector('#df-696da555-b0b1-4e9b-8dd9-30a9073f5b30');\n",
              "          const dataTable =\n",
              "            await google.colab.kernel.invokeFunction('convertToInteractive',\n",
              "                                                     [key], {});\n",
              "          if (!dataTable) return;\n",
              "\n",
              "          const docLinkHtml = 'Like what you see? Visit the ' +\n",
              "            '<a target=\"_blank\" href=https://colab.research.google.com/notebooks/data_table.ipynb>data table notebook</a>'\n",
              "            + ' to learn more about interactive tables.';\n",
              "          element.innerHTML = '';\n",
              "          dataTable['output_type'] = 'display_data';\n",
              "          await google.colab.output.renderOutput(dataTable, element);\n",
              "          const docLink = document.createElement('div');\n",
              "          docLink.innerHTML = docLinkHtml;\n",
              "          element.appendChild(docLink);\n",
              "        }\n",
              "      </script>\n",
              "    </div>\n",
              "  </div>\n",
              "  "
            ]
          },
          "metadata": {},
          "execution_count": 23
        }
      ]
    },
    {
      "cell_type": "markdown",
      "source": [
        "###Word cloud for Questions"
      ],
      "metadata": {
        "id": "M7X6ZEIE7Ft1"
      }
    },
    {
      "cell_type": "code",
      "source": [
        "#Reffered https://www.analyticsvidhya.com/blog/2021/05/how-to-build-word-cloud-in-python/\n",
        "# Creating word_cloud with text as argument in .generate() method\n",
        "text2 = \" \".join(Question for Question in mentalHealthFaq.Questions)\n",
        "word_cloud2 = WordCloud(collocations = False, background_color = 'white').generate(text2)\n",
        "\n",
        "# Display the generated Word Cloud\n",
        "plt.imshow(word_cloud2, interpolation='bilinear')\n",
        "plt.axis(\"off\")\n",
        "plt.show()"
      ],
      "metadata": {
        "id": "kgKOAsA67KV6",
        "colab": {
          "base_uri": "https://localhost:8080/",
          "height": 198
        },
        "outputId": "7b7767d5-93e3-4da8-bd3b-395496dee5a1"
      },
      "execution_count": 24,
      "outputs": [
        {
          "output_type": "display_data",
          "data": {
            "text/plain": [
              "<Figure size 432x288 with 1 Axes>"
            ],
            "image/png": "[encoded data removed]"
          },
          "metadata": {
            "needs_background": "light"
          }
        }
      ]
    },
    {
      "cell_type": "markdown",
      "source": [
        "In the above word cloud, the larger the font size of a word is, the more frequently it has appeared in the questions.\n",
        "Got the words which have occured most frequently in the list of questions."
      ],
      "metadata": {
        "id": "IgkGOXqQ9bhY"
      }
    },
    {
      "cell_type": "markdown",
      "source": [
        "###Summarizing the conclusions about the data-\n",
        "\n",
        "Q1- Number of data points?\n",
        "\n",
        "Ans- 98\n",
        "\n",
        "\n",
        "Q2- Number of unique questions?\n",
        "\n",
        "Ans- 98\n",
        "\n",
        "\n",
        "Q3- Number of unique answers?\n",
        "\n",
        "Ans- 98\n",
        "\n",
        "\n",
        "Q4- Number of similar (which have the absolute same intent, but can vary in the language) questions?\n",
        "\n",
        "Ans- There are 3 pair of similar questions, i.e., out of these 6 questions, 3 questions have the absolute same intent as the remaining 3 questions.\n",
        "Below is the list of questions ids, for which questions are similar. Given the questions are similar, a comment has been made about the nature of their answers.\n",
        "\n",
        "1) 6361820, 4283807- Answers for these questions talk about the same context, but vary in the amount of information. Answer for question- 4283807 provides more precise answer. Combined answer for 6361820 & 4283807 will provide more information about the topic. So, combined answer should be preffered.\n",
        "\n",
        "2) 9539480, 9630578- Answers for both the questions are valid, but vary in the amount of information they provide. Answer for 9630578 provide much more information. Hence answer for 9630578 should be preferred.\n",
        "\n",
        "3) 1155199, 1259439- Answers for these questions are almost same.\n",
        "\n",
        "\n",
        "Q5- Number of similar (which have the absolute same intent, but can vary in the language) answers?\n",
        "\n",
        "Ans- There are 3 pair of similar answers, i.e., out of these 6 answers, 3 answers have the absolute same intent as the remaining 3 questions.\n",
        "Below is the list of questions ids, for which answers are similar. Given the answers are similar, a comment has been made about the nature of their questions.\n",
        "\n",
        "1) 2110618, 6361820- Questions for these answers have different intentions. This answer is suitable for the question- 2110618, but does not answer the question- 6361820.\n",
        "\n",
        "2) 1030153, 2553795- Both of these questions are similar.\n",
        "\n",
        "3) 1155199, 1259439- Both of these questions have same intention.\n",
        "\n",
        "Q6- What is the length of the question?\n",
        "\n",
        "Ans- 8 words is the average length of the questions. Maximum length is 39, and minimum length is 3.\n",
        "\n",
        "Q7- What is the length of the answer?\n",
        "\n",
        "Ans- 130 words is the average length of the answers. Maximum length is 1441, and minimum length is 16.\n",
        "\n",
        "\n",
        "##Overall- \n",
        "\n",
        "1) Data does not have any outlier points. \n",
        "\n",
        "2) Data quality looks good."
      ],
      "metadata": {
        "id": "WOiEd7RJxhXN"
      }
    }
  ]
}