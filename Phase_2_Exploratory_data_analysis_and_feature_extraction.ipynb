{
  "nbformat": 4,
  "nbformat_minor": 0,
  "metadata": {
    "colab": {
      "name": "Phase-2-Exploratory data analysis and feature extraction.ipynb",
      "provenance": [],
      "collapsed_sections": [],
      "mount_file_id": "1NLNEhvW-Ck7WNDkS4WFvAYfE-hAj10ZM",
      "authorship_tag": "ABX9TyPnDg4yGQO3eECFloQhC3aV",
      "include_colab_link": true
    },
    "kernelspec": {
      "name": "python3",
      "display_name": "Python 3"
    },
    "language_info": {
      "name": "python"
    }
  },
  "cells": [
    {
      "cell_type": "markdown",
      "metadata": {
        "id": "view-in-github",
        "colab_type": "text"
      },
      "source": [
        "<a href=\"https://colab.research.google.com/github/ArpanJainGithub/Chatbot-MentalHealth/blob/main/Phase_2_Exploratory_data_analysis_and_feature_extraction.ipynb\" target=\"_parent\"><img src=\"https://colab.research.google.com/assets/colab-badge.svg\" alt=\"Open In Colab\"/></a>"
      ]
    },
    {
      "cell_type": "markdown",
      "source": [
        "#Phase-2: Exploratory data analysis and feature extraction"
      ],
      "metadata": {
        "id": "Osd9edVJeht8"
      }
    },
    {
      "cell_type": "code",
      "metadata": {
        "id": "DUEX0PAXerVF"
      },
      "source": [
        "#EDA\n",
        "import pandas as pd\n",
        "import numpy as np\n",
        "from numpy.linalg import norm\n",
        "import seaborn as sns\n",
        "import matplotlib.pyplot as plt\n",
        "import re\n",
        "from wordcloud import WordCloud\n",
        "\n",
        "#Load Mental_Health_FAQ.csv into a pandas dataframe.\n",
        "url= 'https://raw.githubusercontent.com/ArpanJainGithub/Chatbot-MentalHealth/main/Mental_Health_FAQ.csv'\n",
        "mentalHealthFaq = pd.read_csv(url,encoding='unicode_escape')\n",
        "#mentalHealthFaq = pd.read_csv(\"/content/drive/MyDrive/AppliedRootsAIML/ChatbotPractice/Mental_Health_FAQ.csv\")"
      ],
      "execution_count": 25,
      "outputs": []
    },
    {
      "cell_type": "code",
      "metadata": {
        "colab": {
          "base_uri": "https://localhost:8080/"
        },
        "id": "T5r6HUfZi5Ex",
        "outputId": "7ad0d098-e1d1-4ace-e8f3-df31a4f3a55f"
      },
      "source": [
        "#How many data-points and features?\n",
        "print(mentalHealthFaq.shape)"
      ],
      "execution_count": 26,
      "outputs": [
        {
          "output_type": "stream",
          "name": "stdout",
          "text": [
            "(98, 3)\n"
          ]
        }
      ]
    },
    {
      "cell_type": "code",
      "metadata": {
        "colab": {
          "base_uri": "https://localhost:8080/"
        },
        "id": "hD7ealnNi7zK",
        "outputId": "ac70fb14-de94-4eec-bd32-b3327a86827b"
      },
      "source": [
        "#What are the column names in our dataset?\n",
        "print(mentalHealthFaq.columns)"
      ],
      "execution_count": 27,
      "outputs": [
        {
          "output_type": "stream",
          "name": "stdout",
          "text": [
            "Index(['Question_ID', 'Questions', 'Answers'], dtype='object')\n"
          ]
        }
      ]
    },
    {
      "cell_type": "code",
      "metadata": {
        "colab": {
          "base_uri": "https://localhost:8080/"
        },
        "id": "vCI0ERuglG-d",
        "outputId": "13e9afed-f719-475e-889d-62e1329193b1"
      },
      "source": [
        "#Removing all the duplicate rows and keeping the first one\n",
        "mentalHealthFaq.drop_duplicates(keep='first')\n",
        "print(mentalHealthFaq.shape)"
      ],
      "execution_count": 28,
      "outputs": [
        {
          "output_type": "stream",
          "name": "stdout",
          "text": [
            "(98, 3)\n"
          ]
        }
      ]
    },
    {
      "cell_type": "code",
      "metadata": {
        "colab": {
          "base_uri": "https://localhost:8080/"
        },
        "id": "8LRPeHfSQ3F5",
        "outputId": "0b9bc70f-2a88-48dc-f7b1-a95afd1f13f9"
      },
      "source": [
        "#Knowing if there are any datapoints with duplicate value of the column 'Questions'.\n",
        "mentalHealthFaq['Questions'].is_unique\n",
        "\n",
        "#If there would be the datapoints with duplicate value of column 'Questions', then the column 'Answers' will also be compared for those datapoints.\n",
        "#If the value of the column 'Answers' is also duplicate, then only one of these datapoints should be kept and rest should be dropped.\n",
        "#If the value of the column 'Answers' is not duplicate, then cosine-similarity for the column 'Answers' will be calculated,\n",
        "#and, if the cosine-similarity resulted in 'No similarity at all', then these datapoints might be errorenous and should be verified manually to confirm if these points can be dropped.\n",
        "\n",
        "#Case: Questions are duplicate but their answers are not duplicate. Answers are similar.\n"
      ],
      "execution_count": 29,
      "outputs": [
        {
          "output_type": "execute_result",
          "data": {
            "text/plain": [
              "True"
            ]
          },
          "metadata": {},
          "execution_count": 29
        }
      ]
    },
    {
      "cell_type": "code",
      "metadata": {
        "colab": {
          "base_uri": "https://localhost:8080/"
        },
        "id": "9YJwdtx9Q5pl",
        "outputId": "a97054a0-c12b-45cb-a30f-6f879d5853f9"
      },
      "source": [
        "#Check if there is any duplicate values in the column 'Answers'\n",
        "mentalHealthFaq['Answers'].is_unique\n",
        "\n",
        "#If there would be the datapoints with duplicate value of column 'Answers', then the value of column 'Questions' will also be compared for those datapoints.\n",
        "#Cosine-similarity for the column 'Questions' should be calculated, and, if the cosine-similarity resulted in 'No similarity at all', then these datapoints might be errorenous and should be verified manually to confirm if these points can be dropped.\n",
        "\n",
        "#Case: Answers are duplicate but their Questions are not duplicate. Questions are similar.\n"
      ],
      "execution_count": 30,
      "outputs": [
        {
          "output_type": "execute_result",
          "data": {
            "text/plain": [
              "True"
            ]
          },
          "metadata": {},
          "execution_count": 30
        }
      ]
    },
    {
      "cell_type": "markdown",
      "source": [
        "###Check the no. of similar questions and answers using cosine similarity\n",
        "\n",
        "Check the no. of similar questions. Then, verify that the given similar questions, should have the similar answers. Incase, there are many points for which the answers for the similar questions are completely different, then, the data should be sent to make the necessary corrections in the data.\n",
        "\n",
        "Similar process needs to be followed in case of similar answers. That if, answers which have same intent have completely different questions, then the data needs correction."
      ],
      "metadata": {
        "id": "efbr6xmX0_KZ"
      }
    },
    {
      "cell_type": "code",
      "source": [
        "#Setting the threshold for cosine-similarity.\n",
        "threshold = 0.6"
      ],
      "metadata": {
        "id": "eFPa-CSk1PoZ"
      },
      "execution_count": 31,
      "outputs": []
    },
    {
      "cell_type": "markdown",
      "source": [
        "###Check the no. of similar questions"
      ],
      "metadata": {
        "id": "o9NYVgfGaf9F"
      }
    },
    {
      "cell_type": "code",
      "metadata": {
        "colab": {
          "base_uri": "https://localhost:8080/"
        },
        "id": "5vGcfntEj5DM",
        "outputId": "e41c62b4-1d28-4e42-ae03-2e3132d38251"
      },
      "source": [
        "#Calculate the questions vector\n",
        "from sklearn.feature_extraction.text import TfidfVectorizer\n",
        "\n",
        "vectorizer = TfidfVectorizer()\n",
        "question_vector= vectorizer.fit_transform(mentalHealthFaq['Questions'])\n",
        "print(question_vector.get_shape())"
      ],
      "execution_count": 32,
      "outputs": [
        {
          "output_type": "stream",
          "name": "stdout",
          "text": [
            "(98, 259)\n"
          ]
        }
      ]
    },
    {
      "cell_type": "code",
      "source": [
        "#Create a dataframe which have all the questions and their cosine-similarities\n",
        "\n",
        "#Step-1: Calculate the cosine-similarities for each of the questions in the dataset with all the other remaining questions in the dataset.\n",
        "pairWiseSimilarity = np.zeros((question_vector.shape[0],question_vector.shape[0]))\n",
        "for i in range(question_vector.shape[0]):        \n",
        "    for j in range(question_vector.shape[0]):    \n",
        "      cos_sim = np.dot(question_vector[j][0].toarray().ravel(), question_vector[i].toarray().ravel())/(norm(question_vector[j][0].toarray().ravel())*norm(question_vector[i].toarray().ravel()))\n",
        "      pairWiseSimilarity[j][i] = cos_sim\n",
        "pairwiseSimilarityDf = pd.DataFrame(pairWiseSimilarity)\n",
        "\n",
        "#Step-2: Append the dataframe that has all the questions with the cosine-similarities that are calculated above.\n",
        "QuestionSimilarityDf = mentalHealthFaq.copy()\n",
        "for i in range(question_vector.shape[0]):\n",
        "  QuestionSimilarityDf['Cosine Similarity for question '+ str(i)] = pairwiseSimilarityDf.iloc[:,i] \n",
        "QuestionSimilarityDf.head()"
      ],
      "metadata": {
        "colab": {
          "base_uri": "https://localhost:8080/",
          "height": 838
        },
        "id": "SHbrXliV4lfV",
        "outputId": "8bb07daf-09b6-4ae9-ae9f-82970990e2e8"
      },
      "execution_count": 33,
      "outputs": [
        {
          "output_type": "execute_result",
          "data": {
            "text/plain": [
              "   Question_ID                                          Questions  \\\n",
              "0      1590140        What does it mean to have a mental illness?   \n",
              "1      2110618                    Who does mental illness affect?   \n",
              "2      6361820                        What causes mental illness?   \n",
              "3      9434130  What are some of the warning signs of mental i...   \n",
              "4      7657263            Can people with mental illness recover?   \n",
              "\n",
              "                                             Answers  \\\n",
              "0  Mental illnesses are health conditions that di...   \n",
              "1  It is estimated that mental illness affects 1 ...   \n",
              "2  It is estimated that mental illness affects 1 ...   \n",
              "3  Symptoms of mental health disorders vary depen...   \n",
              "4  When healing from mental illness, early identi...   \n",
              "\n",
              "   Cosine Similarity for question 0  Cosine Similarity for question 1  \\\n",
              "0                          1.000000                          0.393491   \n",
              "1                          0.393491                          1.000000   \n",
              "2                          0.339693                          0.324035   \n",
              "3                          0.174448                          0.166407   \n",
              "4                          0.205596                          0.228968   \n",
              "\n",
              "   Cosine Similarity for question 2  Cosine Similarity for question 3  \\\n",
              "0                          0.339693                          0.174448   \n",
              "1                          0.324035                          0.166407   \n",
              "2                          1.000000                          0.266147   \n",
              "3                          0.266147                          1.000000   \n",
              "4                          0.313669                          0.161083   \n",
              "\n",
              "   Cosine Similarity for question 4  Cosine Similarity for question 5  \\\n",
              "0                          0.205596                          0.253799   \n",
              "1                          0.228968                          0.220113   \n",
              "2                          0.313669                          0.106901   \n",
              "3                          0.161083                          0.229391   \n",
              "4                          1.000000                          0.050438   \n",
              "\n",
              "   Cosine Similarity for question 6  ...  Cosine Similarity for question 88  \\\n",
              "0                          0.059833  ...                           0.033231   \n",
              "1                          0.066634  ...                           0.000000   \n",
              "2                          0.091284  ...                           0.050698   \n",
              "3                          0.046879  ...                           0.129164   \n",
              "4                          0.094347  ...                           0.000000   \n",
              "\n",
              "   Cosine Similarity for question 89  Cosine Similarity for question 90  \\\n",
              "0                           0.054005                           0.147935   \n",
              "1                           0.000000                           0.000000   \n",
              "2                           0.082393                           0.037055   \n",
              "3                           0.042313                           0.019030   \n",
              "4                           0.000000                           0.024344   \n",
              "\n",
              "   Cosine Similarity for question 91  Cosine Similarity for question 92  \\\n",
              "0                           0.000000                           0.000000   \n",
              "1                           0.000000                           0.000000   \n",
              "2                           0.000000                           0.000000   \n",
              "3                           0.052252                           0.000000   \n",
              "4                           0.000000                           0.027355   \n",
              "\n",
              "   Cosine Similarity for question 93  Cosine Similarity for question 94  \\\n",
              "0                                0.0                           0.143560   \n",
              "1                                0.0                           0.000000   \n",
              "2                                0.0                           0.000000   \n",
              "3                                0.0                           0.078481   \n",
              "4                                0.0                           0.000000   \n",
              "\n",
              "   Cosine Similarity for question 95  Cosine Similarity for question 96  \\\n",
              "0                           0.075550                           0.025668   \n",
              "1                           0.000000                           0.000000   \n",
              "2                           0.000000                           0.039160   \n",
              "3                           0.000000                           0.212475   \n",
              "4                           0.027041                           0.000000   \n",
              "\n",
              "   Cosine Similarity for question 97  \n",
              "0                           0.034208  \n",
              "1                           0.000000  \n",
              "2                           0.052189  \n",
              "3                           0.084836  \n",
              "4                           0.000000  \n",
              "\n",
              "[5 rows x 101 columns]"
            ],
            "text/html": [
              "\n",
              "  <div id=\"df-3905caf6-6a41-451c-af2f-62df3e5e8074\">\n",
              "    <div class=\"colab-df-container\">\n",
              "      <div>\n",
              "<style scoped>\n",
              "    .dataframe tbody tr th:only-of-type {\n",
              "        vertical-align: middle;\n",
              "    }\n",
              "\n",
              "    .dataframe tbody tr th {\n",
              "        vertical-align: top;\n",
              "    }\n",
              "\n",
              "    .dataframe thead th {\n",
              "        text-align: right;\n",
              "    }\n",
              "</style>\n",
              "<table border=\"1\" class=\"dataframe\">\n",
              "  <thead>\n",
              "    <tr style=\"text-align: right;\">\n",
              "      <th></th>\n",
              "      <th>Question_ID</th>\n",
              "      <th>Questions</th>\n",
              "      <th>Answers</th>\n",
              "      <th>Cosine Similarity for question 0</th>\n",
              "      <th>Cosine Similarity for question 1</th>\n",
              "      <th>Cosine Similarity for question 2</th>\n",
              "      <th>Cosine Similarity for question 3</th>\n",
              "      <th>Cosine Similarity for question 4</th>\n",
              "      <th>Cosine Similarity for question 5</th>\n",
              "      <th>Cosine Similarity for question 6</th>\n",
              "      <th>...</th>\n",
              "      <th>Cosine Similarity for question 88</th>\n",
              "      <th>Cosine Similarity for question 89</th>\n",
              "      <th>Cosine Similarity for question 90</th>\n",
              "      <th>Cosine Similarity for question 91</th>\n",
              "      <th>Cosine Similarity for question 92</th>\n",
              "      <th>Cosine Similarity for question 93</th>\n",
              "      <th>Cosine Similarity for question 94</th>\n",
              "      <th>Cosine Similarity for question 95</th>\n",
              "      <th>Cosine Similarity for question 96</th>\n",
              "      <th>Cosine Similarity for question 97</th>\n",
              "    </tr>\n",
              "  </thead>\n",
              "  <tbody>\n",
              "    <tr>\n",
              "      <th>0</th>\n",
              "      <td>1590140</td>\n",
              "      <td>What does it mean to have a mental illness?</td>\n",
              "      <td>Mental illnesses are health conditions that di...</td>\n",
              "      <td>1.000000</td>\n",
              "      <td>0.393491</td>\n",
              "      <td>0.339693</td>\n",
              "      <td>0.174448</td>\n",
              "      <td>0.205596</td>\n",
              "      <td>0.253799</td>\n",
              "      <td>0.059833</td>\n",
              "      <td>...</td>\n",
              "      <td>0.033231</td>\n",
              "      <td>0.054005</td>\n",
              "      <td>0.147935</td>\n",
              "      <td>0.000000</td>\n",
              "      <td>0.000000</td>\n",
              "      <td>0.0</td>\n",
              "      <td>0.143560</td>\n",
              "      <td>0.075550</td>\n",
              "      <td>0.025668</td>\n",
              "      <td>0.034208</td>\n",
              "    </tr>\n",
              "    <tr>\n",
              "      <th>1</th>\n",
              "      <td>2110618</td>\n",
              "      <td>Who does mental illness affect?</td>\n",
              "      <td>It is estimated that mental illness affects 1 ...</td>\n",
              "      <td>0.393491</td>\n",
              "      <td>1.000000</td>\n",
              "      <td>0.324035</td>\n",
              "      <td>0.166407</td>\n",
              "      <td>0.228968</td>\n",
              "      <td>0.220113</td>\n",
              "      <td>0.066634</td>\n",
              "      <td>...</td>\n",
              "      <td>0.000000</td>\n",
              "      <td>0.000000</td>\n",
              "      <td>0.000000</td>\n",
              "      <td>0.000000</td>\n",
              "      <td>0.000000</td>\n",
              "      <td>0.0</td>\n",
              "      <td>0.000000</td>\n",
              "      <td>0.000000</td>\n",
              "      <td>0.000000</td>\n",
              "      <td>0.000000</td>\n",
              "    </tr>\n",
              "    <tr>\n",
              "      <th>2</th>\n",
              "      <td>6361820</td>\n",
              "      <td>What causes mental illness?</td>\n",
              "      <td>It is estimated that mental illness affects 1 ...</td>\n",
              "      <td>0.339693</td>\n",
              "      <td>0.324035</td>\n",
              "      <td>1.000000</td>\n",
              "      <td>0.266147</td>\n",
              "      <td>0.313669</td>\n",
              "      <td>0.106901</td>\n",
              "      <td>0.091284</td>\n",
              "      <td>...</td>\n",
              "      <td>0.050698</td>\n",
              "      <td>0.082393</td>\n",
              "      <td>0.037055</td>\n",
              "      <td>0.000000</td>\n",
              "      <td>0.000000</td>\n",
              "      <td>0.0</td>\n",
              "      <td>0.000000</td>\n",
              "      <td>0.000000</td>\n",
              "      <td>0.039160</td>\n",
              "      <td>0.052189</td>\n",
              "    </tr>\n",
              "    <tr>\n",
              "      <th>3</th>\n",
              "      <td>9434130</td>\n",
              "      <td>What are some of the warning signs of mental i...</td>\n",
              "      <td>Symptoms of mental health disorders vary depen...</td>\n",
              "      <td>0.174448</td>\n",
              "      <td>0.166407</td>\n",
              "      <td>0.266147</td>\n",
              "      <td>1.000000</td>\n",
              "      <td>0.161083</td>\n",
              "      <td>0.229391</td>\n",
              "      <td>0.046879</td>\n",
              "      <td>...</td>\n",
              "      <td>0.129164</td>\n",
              "      <td>0.042313</td>\n",
              "      <td>0.019030</td>\n",
              "      <td>0.052252</td>\n",
              "      <td>0.000000</td>\n",
              "      <td>0.0</td>\n",
              "      <td>0.078481</td>\n",
              "      <td>0.000000</td>\n",
              "      <td>0.212475</td>\n",
              "      <td>0.084836</td>\n",
              "    </tr>\n",
              "    <tr>\n",
              "      <th>4</th>\n",
              "      <td>7657263</td>\n",
              "      <td>Can people with mental illness recover?</td>\n",
              "      <td>When healing from mental illness, early identi...</td>\n",
              "      <td>0.205596</td>\n",
              "      <td>0.228968</td>\n",
              "      <td>0.313669</td>\n",
              "      <td>0.161083</td>\n",
              "      <td>1.000000</td>\n",
              "      <td>0.050438</td>\n",
              "      <td>0.094347</td>\n",
              "      <td>...</td>\n",
              "      <td>0.000000</td>\n",
              "      <td>0.000000</td>\n",
              "      <td>0.024344</td>\n",
              "      <td>0.000000</td>\n",
              "      <td>0.027355</td>\n",
              "      <td>0.0</td>\n",
              "      <td>0.000000</td>\n",
              "      <td>0.027041</td>\n",
              "      <td>0.000000</td>\n",
              "      <td>0.000000</td>\n",
              "    </tr>\n",
              "  </tbody>\n",
              "</table>\n",
              "<p>5 rows × 101 columns</p>\n",
              "</div>\n",
              "      <button class=\"colab-df-convert\" onclick=\"convertToInteractive('df-3905caf6-6a41-451c-af2f-62df3e5e8074')\"\n",
              "              title=\"Convert this dataframe to an interactive table.\"\n",
              "              style=\"display:none;\">\n",
              "        \n",
              "  <svg xmlns=\"http://www.w3.org/2000/svg\" height=\"24px\"viewBox=\"0 0 24 24\"\n",
              "       width=\"24px\">\n",
              "    <path d=\"M0 0h24v24H0V0z\" fill=\"none\"/>\n",
              "    <path d=\"M18.56 5.44l.94 2.06.94-2.06 2.06-.94-2.06-.94-.94-2.06-.94 2.06-2.06.94zm-11 1L8.5 8.5l.94-2.06 2.06-.94-2.06-.94L8.5 2.5l-.94 2.06-2.06.94zm10 10l.94 2.06.94-2.06 2.06-.94-2.06-.94-.94-2.06-.94 2.06-2.06.94z\"/><path d=\"M17.41 7.96l-1.37-1.37c-.4-.4-.92-.59-1.43-.59-.52 0-1.04.2-1.43.59L10.3 9.45l-7.72 7.72c-.78.78-.78 2.05 0 2.83L4 21.41c.39.39.9.59 1.41.59.51 0 1.02-.2 1.41-.59l7.78-7.78 2.81-2.81c.8-.78.8-2.07 0-2.86zM5.41 20L4 18.59l7.72-7.72 1.47 1.35L5.41 20z\"/>\n",
              "  </svg>\n",
              "      </button>\n",
              "      \n",
              "  <style>\n",
              "    .colab-df-container {\n",
              "      display:flex;\n",
              "      flex-wrap:wrap;\n",
              "      gap: 12px;\n",
              "    }\n",
              "\n",
              "    .colab-df-convert {\n",
              "      background-color: #E8F0FE;\n",
              "      border: none;\n",
              "      border-radius: 50%;\n",
              "      cursor: pointer;\n",
              "      display: none;\n",
              "      fill: #1967D2;\n",
              "      height: 32px;\n",
              "      padding: 0 0 0 0;\n",
              "      width: 32px;\n",
              "    }\n",
              "\n",
              "    .colab-df-convert:hover {\n",
              "      background-color: #E2EBFA;\n",
              "      box-shadow: 0px 1px 2px rgba(60, 64, 67, 0.3), 0px 1px 3px 1px rgba(60, 64, 67, 0.15);\n",
              "      fill: #174EA6;\n",
              "    }\n",
              "\n",
              "    [theme=dark] .colab-df-convert {\n",
              "      background-color: #3B4455;\n",
              "      fill: #D2E3FC;\n",
              "    }\n",
              "\n",
              "    [theme=dark] .colab-df-convert:hover {\n",
              "      background-color: #434B5C;\n",
              "      box-shadow: 0px 1px 3px 1px rgba(0, 0, 0, 0.15);\n",
              "      filter: drop-shadow(0px 1px 2px rgba(0, 0, 0, 0.3));\n",
              "      fill: #FFFFFF;\n",
              "    }\n",
              "  </style>\n",
              "\n",
              "      <script>\n",
              "        const buttonEl =\n",
              "          document.querySelector('#df-3905caf6-6a41-451c-af2f-62df3e5e8074 button.colab-df-convert');\n",
              "        buttonEl.style.display =\n",
              "          google.colab.kernel.accessAllowed ? 'block' : 'none';\n",
              "\n",
              "        async function convertToInteractive(key) {\n",
              "          const element = document.querySelector('#df-3905caf6-6a41-451c-af2f-62df3e5e8074');\n",
              "          const dataTable =\n",
              "            await google.colab.kernel.invokeFunction('convertToInteractive',\n",
              "                                                     [key], {});\n",
              "          if (!dataTable) return;\n",
              "\n",
              "          const docLinkHtml = 'Like what you see? Visit the ' +\n",
              "            '<a target=\"_blank\" href=https://colab.research.google.com/notebooks/data_table.ipynb>data table notebook</a>'\n",
              "            + ' to learn more about interactive tables.';\n",
              "          element.innerHTML = '';\n",
              "          dataTable['output_type'] = 'display_data';\n",
              "          await google.colab.output.renderOutput(dataTable, element);\n",
              "          const docLink = document.createElement('div');\n",
              "          docLink.innerHTML = docLinkHtml;\n",
              "          element.appendChild(docLink);\n",
              "        }\n",
              "      </script>\n",
              "    </div>\n",
              "  </div>\n",
              "  "
            ]
          },
          "metadata": {},
          "execution_count": 33
        }
      ]
    },
    {
      "cell_type": "code",
      "source": [
        "#Display the set of similar questions\n",
        "\n",
        "for i in range(question_vector.shape[0]):  \n",
        "  if QuestionSimilarityDf.loc[(QuestionSimilarityDf['Cosine Similarity for question '+str(i)] > threshold), ['Question_ID',\t'Questions']].shape[0] > 1:\n",
        "    print(\"Questions that are similar to the question no. \"+str(i)+\" is: \")\n",
        "    print(QuestionSimilarityDf.loc[(QuestionSimilarityDf['Cosine Similarity for question '+str(i)] > threshold), ['Question_ID',\t'Questions']]  )\n",
        "    print(\"=\"*100)"
      ],
      "metadata": {
        "id": "jaN_b0aB0aTv",
        "colab": {
          "base_uri": "https://localhost:8080/"
        },
        "outputId": "571f2aa3-eb2b-4116-f106-3a2cea6d4d0f"
      },
      "execution_count": 34,
      "outputs": [
        {
          "output_type": "stream",
          "name": "stdout",
          "text": [
            "Questions that are similar to the question no. 2 is: \n",
            "    Question_ID                            Questions\n",
            "2       6361820          What causes mental illness?\n",
            "28      4283807  What causes mental health problems?\n",
            "====================================================================================================\n",
            "Questions that are similar to the question no. 6 is: \n",
            "    Question_ID                                          Questions\n",
            "6       1030153  How can I find a mental health professional fo...\n",
            "10      2553795  How can I find a mental health professional ri...\n",
            "====================================================================================================\n",
            "Questions that are similar to the question no. 8 is: \n",
            "    Question_ID                                          Questions\n",
            "8       1155199  If I become involved in treatment, what do I n...\n",
            "11      1259439  If I become involved in treatment what do I ne...\n",
            "====================================================================================================\n",
            "Questions that are similar to the question no. 9 is: \n",
            "    Question_ID                                          Questions\n",
            "9       7760466  What is the difference between mental health p...\n",
            "73      7995219  What's the difference between mental health an...\n",
            "====================================================================================================\n",
            "Questions that are similar to the question no. 10 is: \n",
            "    Question_ID                                          Questions\n",
            "6       1030153  How can I find a mental health professional fo...\n",
            "10      2553795  How can I find a mental health professional ri...\n",
            "====================================================================================================\n",
            "Questions that are similar to the question no. 11 is: \n",
            "    Question_ID                                          Questions\n",
            "8       1155199  If I become involved in treatment, what do I n...\n",
            "11      1259439  If I become involved in treatment what do I ne...\n",
            "====================================================================================================\n",
            "Questions that are similar to the question no. 19 is: \n",
            "    Question_ID                                Questions\n",
            "19      9539480  Where can I go to find a support group?\n",
            "46      9630578          How can I find a support group?\n",
            "====================================================================================================\n",
            "Questions that are similar to the question no. 28 is: \n",
            "    Question_ID                            Questions\n",
            "2       6361820          What causes mental illness?\n",
            "28      4283807  What causes mental health problems?\n",
            "====================================================================================================\n",
            "Questions that are similar to the question no. 46 is: \n",
            "    Question_ID                                Questions\n",
            "19      9539480  Where can I go to find a support group?\n",
            "46      9630578          How can I find a support group?\n",
            "====================================================================================================\n",
            "Questions that are similar to the question no. 49 is: \n",
            "    Question_ID                                          Questions\n",
            "49      6981545  Where can I find self-help materials for depre...\n",
            "50      2115228  Where can I find self-help materials for anxiety?\n",
            "====================================================================================================\n",
            "Questions that are similar to the question no. 50 is: \n",
            "    Question_ID                                          Questions\n",
            "49      6981545  Where can I find self-help materials for depre...\n",
            "50      2115228  Where can I find self-help materials for anxiety?\n",
            "====================================================================================================\n",
            "Questions that are similar to the question no. 68 is: \n",
            "    Question_ID                                          Questions\n",
            "68      3839472  Someone I love has been diagnosed with depress...\n",
            "69      3055896  Someone I love has been diagnosed with schizop...\n",
            "====================================================================================================\n",
            "Questions that are similar to the question no. 69 is: \n",
            "    Question_ID                                          Questions\n",
            "68      3839472  Someone I love has been diagnosed with depress...\n",
            "69      3055896  Someone I love has been diagnosed with schizop...\n",
            "====================================================================================================\n",
            "Questions that are similar to the question no. 73 is: \n",
            "    Question_ID                                          Questions\n",
            "9       7760466  What is the difference between mental health p...\n",
            "73      7995219  What's the difference between mental health an...\n",
            "====================================================================================================\n",
            "Questions that are similar to the question no. 75 is: \n",
            "    Question_ID                                          Questions\n",
            "75      4893447  Whatâs the difference between anxiety and an...\n",
            "76      8612349  What's the difference between anxiety and stress?\n",
            "====================================================================================================\n",
            "Questions that are similar to the question no. 76 is: \n",
            "    Question_ID                                          Questions\n",
            "75      4893447  Whatâs the difference between anxiety and an...\n",
            "76      8612349  What's the difference between anxiety and stress?\n",
            "====================================================================================================\n"
          ]
        }
      ]
    },
    {
      "cell_type": "markdown",
      "source": [
        "**Observations about the no. of similar *questions*-**\n",
        "\n",
        "Below is the list of questions ids, where questions have same intention.\n",
        "\n",
        "1) 6361820, 4283807-\tAnswers for these questions talk about the same context, but vary in the amount of information. Answer for question- 4283807 provides more precise answer. Combined answer for 6361820 & 4283807 will provide more information about the topic. So, combined answer should be preffered.\n",
        "\n",
        "2) 9539480, 9630578-\tAnswers for both the questions are valid, but vary in the amount of information they provide. Answer for 9630578 provide much more information. Hence answer for 9630578 should be preferred.\n",
        "\n",
        "3) 1155199, 1259439-\tAnswers for these questions are almost same.\n",
        "\n",
        "\n"
      ],
      "metadata": {
        "id": "Wu_HTgmhvk2l"
      }
    },
    {
      "cell_type": "markdown",
      "source": [
        "###No. of similar answers-"
      ],
      "metadata": {
        "id": "G-2RTSletBor"
      }
    },
    {
      "cell_type": "code",
      "source": [
        "#Display the set of similar answers\n",
        "\n",
        "#Create a vector representation for all the answers\n",
        "answer_vector = vectorizer.fit_transform(mentalHealthFaq['Answers'])\n",
        "print(answer_vector.get_shape())"
      ],
      "metadata": {
        "id": "YuQMO49qtIJn",
        "colab": {
          "base_uri": "https://localhost:8080/"
        },
        "outputId": "174d689f-f0cf-4605-9441-4591d32401c5"
      },
      "execution_count": 35,
      "outputs": [
        {
          "output_type": "stream",
          "name": "stdout",
          "text": [
            "(98, 2802)\n"
          ]
        }
      ]
    },
    {
      "cell_type": "code",
      "source": [
        "#Create a dataframe which have all the answers and their cosine-similarities\n",
        "\n",
        "#Step-1: Calculate the cosine-similarities for each of the answers in the dataset with all the other remaining answers in the dataset.\n",
        "pairWiseSimilarity = np.zeros((answer_vector.shape[0],answer_vector.shape[0]))\n",
        "for i in range(answer_vector.shape[0]):        \n",
        "    for j in range(answer_vector.shape[0]):    \n",
        "      cos_sim = np.dot(answer_vector[j][0].toarray().ravel(), answer_vector[i].toarray().ravel())/(norm(answer_vector[j][0].toarray().ravel())*norm(answer_vector[i].toarray().ravel()))\n",
        "      pairWiseSimilarity[j][i] = cos_sim\n",
        "pairwiseSimilarityDf = pd.DataFrame(pairWiseSimilarity)\n",
        "\n",
        "# Step-2: Append the calculated cosine-similarities with the dataframe that contains the questions and answers\n",
        "AnswerSimilarityDf = mentalHealthFaq.copy()\n",
        "for i in range(answer_vector.shape[0]):\n",
        "  AnswerSimilarityDf['Cosine Similarity for answer '+ str(i)] = pairwiseSimilarityDf.iloc[:,i] \n",
        "AnswerSimilarityDf.head()"
      ],
      "metadata": {
        "id": "Y3W0BiRrrr_7",
        "colab": {
          "base_uri": "https://localhost:8080/",
          "height": 820
        },
        "outputId": "68cbbf14-0840-4cf5-f968-a2113b8cf1f7"
      },
      "execution_count": 36,
      "outputs": [
        {
          "output_type": "execute_result",
          "data": {
            "text/plain": [
              "   Question_ID                                          Questions  \\\n",
              "0      1590140        What does it mean to have a mental illness?   \n",
              "1      2110618                    Who does mental illness affect?   \n",
              "2      6361820                        What causes mental illness?   \n",
              "3      9434130  What are some of the warning signs of mental i...   \n",
              "4      7657263            Can people with mental illness recover?   \n",
              "\n",
              "                                             Answers  \\\n",
              "0  Mental illnesses are health conditions that di...   \n",
              "1  It is estimated that mental illness affects 1 ...   \n",
              "2  It is estimated that mental illness affects 1 ...   \n",
              "3  Symptoms of mental health disorders vary depen...   \n",
              "4  When healing from mental illness, early identi...   \n",
              "\n",
              "   Cosine Similarity for answer 0  Cosine Similarity for answer 1  \\\n",
              "0                        1.000000                        0.302523   \n",
              "1                        0.302523                        1.000000   \n",
              "2                        0.302771                        0.990480   \n",
              "3                        0.195047                        0.241830   \n",
              "4                        0.307228                        0.242753   \n",
              "\n",
              "   Cosine Similarity for answer 2  Cosine Similarity for answer 3  \\\n",
              "0                        0.302771                        0.195047   \n",
              "1                        0.990480                        0.241830   \n",
              "2                        1.000000                        0.242028   \n",
              "3                        0.242028                        1.000000   \n",
              "4                        0.242952                        0.152897   \n",
              "\n",
              "   Cosine Similarity for answer 4  Cosine Similarity for answer 5  \\\n",
              "0                        0.307228                        0.211164   \n",
              "1                        0.242753                        0.175721   \n",
              "2                        0.242952                        0.175865   \n",
              "3                        0.152897                        0.131965   \n",
              "4                        1.000000                        0.216171   \n",
              "\n",
              "   Cosine Similarity for answer 6  ...  Cosine Similarity for answer 88  \\\n",
              "0                        0.142722  ...                         0.167825   \n",
              "1                        0.092176  ...                         0.126468   \n",
              "2                        0.092252  ...                         0.126572   \n",
              "3                        0.070623  ...                         0.184014   \n",
              "4                        0.124739  ...                         0.128186   \n",
              "\n",
              "   Cosine Similarity for answer 89  Cosine Similarity for answer 90  \\\n",
              "0                         0.197590                         0.171212   \n",
              "1                         0.156042                         0.203184   \n",
              "2                         0.156170                         0.203351   \n",
              "3                         0.147607                         0.113447   \n",
              "4                         0.167314                         0.193080   \n",
              "\n",
              "   Cosine Similarity for answer 91  Cosine Similarity for answer 92  \\\n",
              "0                         0.204607                         0.197039   \n",
              "1                         0.171447                         0.176694   \n",
              "2                         0.171587                         0.176839   \n",
              "3                         0.189903                         0.201126   \n",
              "4                         0.168293                         0.212459   \n",
              "\n",
              "   Cosine Similarity for answer 93  Cosine Similarity for answer 94  \\\n",
              "0                         0.191577                         0.228129   \n",
              "1                         0.168886                         0.202434   \n",
              "2                         0.169025                         0.202600   \n",
              "3                         0.188143                         0.158251   \n",
              "4                         0.159320                         0.199330   \n",
              "\n",
              "   Cosine Similarity for answer 95  Cosine Similarity for answer 96  \\\n",
              "0                         0.208506                         0.195733   \n",
              "1                         0.227019                         0.174159   \n",
              "2                         0.227206                         0.174302   \n",
              "3                         0.227869                         0.127135   \n",
              "4                         0.189579                         0.171015   \n",
              "\n",
              "   Cosine Similarity for answer 97  \n",
              "0                         0.142231  \n",
              "1                         0.141046  \n",
              "2                         0.141162  \n",
              "3                         0.102210  \n",
              "4                         0.138335  \n",
              "\n",
              "[5 rows x 101 columns]"
            ],
            "text/html": [
              "\n",
              "  <div id=\"df-00c69a30-d57d-45f6-b499-9a2140a18c45\">\n",
              "    <div class=\"colab-df-container\">\n",
              "      <div>\n",
              "<style scoped>\n",
              "    .dataframe tbody tr th:only-of-type {\n",
              "        vertical-align: middle;\n",
              "    }\n",
              "\n",
              "    .dataframe tbody tr th {\n",
              "        vertical-align: top;\n",
              "    }\n",
              "\n",
              "    .dataframe thead th {\n",
              "        text-align: right;\n",
              "    }\n",
              "</style>\n",
              "<table border=\"1\" class=\"dataframe\">\n",
              "  <thead>\n",
              "    <tr style=\"text-align: right;\">\n",
              "      <th></th>\n",
              "      <th>Question_ID</th>\n",
              "      <th>Questions</th>\n",
              "      <th>Answers</th>\n",
              "      <th>Cosine Similarity for answer 0</th>\n",
              "      <th>Cosine Similarity for answer 1</th>\n",
              "      <th>Cosine Similarity for answer 2</th>\n",
              "      <th>Cosine Similarity for answer 3</th>\n",
              "      <th>Cosine Similarity for answer 4</th>\n",
              "      <th>Cosine Similarity for answer 5</th>\n",
              "      <th>Cosine Similarity for answer 6</th>\n",
              "      <th>...</th>\n",
              "      <th>Cosine Similarity for answer 88</th>\n",
              "      <th>Cosine Similarity for answer 89</th>\n",
              "      <th>Cosine Similarity for answer 90</th>\n",
              "      <th>Cosine Similarity for answer 91</th>\n",
              "      <th>Cosine Similarity for answer 92</th>\n",
              "      <th>Cosine Similarity for answer 93</th>\n",
              "      <th>Cosine Similarity for answer 94</th>\n",
              "      <th>Cosine Similarity for answer 95</th>\n",
              "      <th>Cosine Similarity for answer 96</th>\n",
              "      <th>Cosine Similarity for answer 97</th>\n",
              "    </tr>\n",
              "  </thead>\n",
              "  <tbody>\n",
              "    <tr>\n",
              "      <th>0</th>\n",
              "      <td>1590140</td>\n",
              "      <td>What does it mean to have a mental illness?</td>\n",
              "      <td>Mental illnesses are health conditions that di...</td>\n",
              "      <td>1.000000</td>\n",
              "      <td>0.302523</td>\n",
              "      <td>0.302771</td>\n",
              "      <td>0.195047</td>\n",
              "      <td>0.307228</td>\n",
              "      <td>0.211164</td>\n",
              "      <td>0.142722</td>\n",
              "      <td>...</td>\n",
              "      <td>0.167825</td>\n",
              "      <td>0.197590</td>\n",
              "      <td>0.171212</td>\n",
              "      <td>0.204607</td>\n",
              "      <td>0.197039</td>\n",
              "      <td>0.191577</td>\n",
              "      <td>0.228129</td>\n",
              "      <td>0.208506</td>\n",
              "      <td>0.195733</td>\n",
              "      <td>0.142231</td>\n",
              "    </tr>\n",
              "    <tr>\n",
              "      <th>1</th>\n",
              "      <td>2110618</td>\n",
              "      <td>Who does mental illness affect?</td>\n",
              "      <td>It is estimated that mental illness affects 1 ...</td>\n",
              "      <td>0.302523</td>\n",
              "      <td>1.000000</td>\n",
              "      <td>0.990480</td>\n",
              "      <td>0.241830</td>\n",
              "      <td>0.242753</td>\n",
              "      <td>0.175721</td>\n",
              "      <td>0.092176</td>\n",
              "      <td>...</td>\n",
              "      <td>0.126468</td>\n",
              "      <td>0.156042</td>\n",
              "      <td>0.203184</td>\n",
              "      <td>0.171447</td>\n",
              "      <td>0.176694</td>\n",
              "      <td>0.168886</td>\n",
              "      <td>0.202434</td>\n",
              "      <td>0.227019</td>\n",
              "      <td>0.174159</td>\n",
              "      <td>0.141046</td>\n",
              "    </tr>\n",
              "    <tr>\n",
              "      <th>2</th>\n",
              "      <td>6361820</td>\n",
              "      <td>What causes mental illness?</td>\n",
              "      <td>It is estimated that mental illness affects 1 ...</td>\n",
              "      <td>0.302771</td>\n",
              "      <td>0.990480</td>\n",
              "      <td>1.000000</td>\n",
              "      <td>0.242028</td>\n",
              "      <td>0.242952</td>\n",
              "      <td>0.175865</td>\n",
              "      <td>0.092252</td>\n",
              "      <td>...</td>\n",
              "      <td>0.126572</td>\n",
              "      <td>0.156170</td>\n",
              "      <td>0.203351</td>\n",
              "      <td>0.171587</td>\n",
              "      <td>0.176839</td>\n",
              "      <td>0.169025</td>\n",
              "      <td>0.202600</td>\n",
              "      <td>0.227206</td>\n",
              "      <td>0.174302</td>\n",
              "      <td>0.141162</td>\n",
              "    </tr>\n",
              "    <tr>\n",
              "      <th>3</th>\n",
              "      <td>9434130</td>\n",
              "      <td>What are some of the warning signs of mental i...</td>\n",
              "      <td>Symptoms of mental health disorders vary depen...</td>\n",
              "      <td>0.195047</td>\n",
              "      <td>0.241830</td>\n",
              "      <td>0.242028</td>\n",
              "      <td>1.000000</td>\n",
              "      <td>0.152897</td>\n",
              "      <td>0.131965</td>\n",
              "      <td>0.070623</td>\n",
              "      <td>...</td>\n",
              "      <td>0.184014</td>\n",
              "      <td>0.147607</td>\n",
              "      <td>0.113447</td>\n",
              "      <td>0.189903</td>\n",
              "      <td>0.201126</td>\n",
              "      <td>0.188143</td>\n",
              "      <td>0.158251</td>\n",
              "      <td>0.227869</td>\n",
              "      <td>0.127135</td>\n",
              "      <td>0.102210</td>\n",
              "    </tr>\n",
              "    <tr>\n",
              "      <th>4</th>\n",
              "      <td>7657263</td>\n",
              "      <td>Can people with mental illness recover?</td>\n",
              "      <td>When healing from mental illness, early identi...</td>\n",
              "      <td>0.307228</td>\n",
              "      <td>0.242753</td>\n",
              "      <td>0.242952</td>\n",
              "      <td>0.152897</td>\n",
              "      <td>1.000000</td>\n",
              "      <td>0.216171</td>\n",
              "      <td>0.124739</td>\n",
              "      <td>...</td>\n",
              "      <td>0.128186</td>\n",
              "      <td>0.167314</td>\n",
              "      <td>0.193080</td>\n",
              "      <td>0.168293</td>\n",
              "      <td>0.212459</td>\n",
              "      <td>0.159320</td>\n",
              "      <td>0.199330</td>\n",
              "      <td>0.189579</td>\n",
              "      <td>0.171015</td>\n",
              "      <td>0.138335</td>\n",
              "    </tr>\n",
              "  </tbody>\n",
              "</table>\n",
              "<p>5 rows × 101 columns</p>\n",
              "</div>\n",
              "      <button class=\"colab-df-convert\" onclick=\"convertToInteractive('df-00c69a30-d57d-45f6-b499-9a2140a18c45')\"\n",
              "              title=\"Convert this dataframe to an interactive table.\"\n",
              "              style=\"display:none;\">\n",
              "        \n",
              "  <svg xmlns=\"http://www.w3.org/2000/svg\" height=\"24px\"viewBox=\"0 0 24 24\"\n",
              "       width=\"24px\">\n",
              "    <path d=\"M0 0h24v24H0V0z\" fill=\"none\"/>\n",
              "    <path d=\"M18.56 5.44l.94 2.06.94-2.06 2.06-.94-2.06-.94-.94-2.06-.94 2.06-2.06.94zm-11 1L8.5 8.5l.94-2.06 2.06-.94-2.06-.94L8.5 2.5l-.94 2.06-2.06.94zm10 10l.94 2.06.94-2.06 2.06-.94-2.06-.94-.94-2.06-.94 2.06-2.06.94z\"/><path d=\"M17.41 7.96l-1.37-1.37c-.4-.4-.92-.59-1.43-.59-.52 0-1.04.2-1.43.59L10.3 9.45l-7.72 7.72c-.78.78-.78 2.05 0 2.83L4 21.41c.39.39.9.59 1.41.59.51 0 1.02-.2 1.41-.59l7.78-7.78 2.81-2.81c.8-.78.8-2.07 0-2.86zM5.41 20L4 18.59l7.72-7.72 1.47 1.35L5.41 20z\"/>\n",
              "  </svg>\n",
              "      </button>\n",
              "      \n",
              "  <style>\n",
              "    .colab-df-container {\n",
              "      display:flex;\n",
              "      flex-wrap:wrap;\n",
              "      gap: 12px;\n",
              "    }\n",
              "\n",
              "    .colab-df-convert {\n",
              "      background-color: #E8F0FE;\n",
              "      border: none;\n",
              "      border-radius: 50%;\n",
              "      cursor: pointer;\n",
              "      display: none;\n",
              "      fill: #1967D2;\n",
              "      height: 32px;\n",
              "      padding: 0 0 0 0;\n",
              "      width: 32px;\n",
              "    }\n",
              "\n",
              "    .colab-df-convert:hover {\n",
              "      background-color: #E2EBFA;\n",
              "      box-shadow: 0px 1px 2px rgba(60, 64, 67, 0.3), 0px 1px 3px 1px rgba(60, 64, 67, 0.15);\n",
              "      fill: #174EA6;\n",
              "    }\n",
              "\n",
              "    [theme=dark] .colab-df-convert {\n",
              "      background-color: #3B4455;\n",
              "      fill: #D2E3FC;\n",
              "    }\n",
              "\n",
              "    [theme=dark] .colab-df-convert:hover {\n",
              "      background-color: #434B5C;\n",
              "      box-shadow: 0px 1px 3px 1px rgba(0, 0, 0, 0.15);\n",
              "      filter: drop-shadow(0px 1px 2px rgba(0, 0, 0, 0.3));\n",
              "      fill: #FFFFFF;\n",
              "    }\n",
              "  </style>\n",
              "\n",
              "      <script>\n",
              "        const buttonEl =\n",
              "          document.querySelector('#df-00c69a30-d57d-45f6-b499-9a2140a18c45 button.colab-df-convert');\n",
              "        buttonEl.style.display =\n",
              "          google.colab.kernel.accessAllowed ? 'block' : 'none';\n",
              "\n",
              "        async function convertToInteractive(key) {\n",
              "          const element = document.querySelector('#df-00c69a30-d57d-45f6-b499-9a2140a18c45');\n",
              "          const dataTable =\n",
              "            await google.colab.kernel.invokeFunction('convertToInteractive',\n",
              "                                                     [key], {});\n",
              "          if (!dataTable) return;\n",
              "\n",
              "          const docLinkHtml = 'Like what you see? Visit the ' +\n",
              "            '<a target=\"_blank\" href=https://colab.research.google.com/notebooks/data_table.ipynb>data table notebook</a>'\n",
              "            + ' to learn more about interactive tables.';\n",
              "          element.innerHTML = '';\n",
              "          dataTable['output_type'] = 'display_data';\n",
              "          await google.colab.output.renderOutput(dataTable, element);\n",
              "          const docLink = document.createElement('div');\n",
              "          docLink.innerHTML = docLinkHtml;\n",
              "          element.appendChild(docLink);\n",
              "        }\n",
              "      </script>\n",
              "    </div>\n",
              "  </div>\n",
              "  "
            ]
          },
          "metadata": {},
          "execution_count": 36
        }
      ]
    },
    {
      "cell_type": "code",
      "source": [
        "#Display the set of similar answers\n",
        "for i in range(answer_vector.shape[0]):  \n",
        "  if AnswerSimilarityDf.loc[(AnswerSimilarityDf['Cosine Similarity for answer '+str(i)] > threshold), ['Question_ID',\t'Answers']].shape[0] > 1:\n",
        "    print(\"Answers that are similar to the answer no. \"+str(i)+\" is: \")\n",
        "    print(AnswerSimilarityDf.loc[(AnswerSimilarityDf['Cosine Similarity for answer '+str(i)] > threshold), ['Question_ID',\t'Answers']])\n",
        "    print(\"=\"*100)"
      ],
      "metadata": {
        "id": "y38vjll0z2gu",
        "colab": {
          "base_uri": "https://localhost:8080/"
        },
        "outputId": "5d651333-c64d-4369-f3a4-4b7ac655da1a"
      },
      "execution_count": 37,
      "outputs": [
        {
          "output_type": "stream",
          "name": "stdout",
          "text": [
            "Answers that are similar to the answer no. 1 is: \n",
            "   Question_ID                                            Answers\n",
            "1      2110618  It is estimated that mental illness affects 1 ...\n",
            "2      6361820  It is estimated that mental illness affects 1 ...\n",
            "====================================================================================================\n",
            "Answers that are similar to the answer no. 2 is: \n",
            "   Question_ID                                            Answers\n",
            "1      2110618  It is estimated that mental illness affects 1 ...\n",
            "2      6361820  It is estimated that mental illness affects 1 ...\n",
            "====================================================================================================\n",
            "Answers that are similar to the answer no. 6 is: \n",
            "    Question_ID                                            Answers\n",
            "6       1030153  Feeling comfortable with the professional you ...\n",
            "10      2553795  Feeling comfortable with the professional you ...\n",
            "====================================================================================================\n",
            "Answers that are similar to the answer no. 8 is: \n",
            "    Question_ID                                            Answers\n",
            "8       1155199  Since beginning treatment is a big step for in...\n",
            "11      1259439  Beginning treatment is a big step for individu...\n",
            "====================================================================================================\n",
            "Answers that are similar to the answer no. 10 is: \n",
            "    Question_ID                                            Answers\n",
            "6       1030153  Feeling comfortable with the professional you ...\n",
            "10      2553795  Feeling comfortable with the professional you ...\n",
            "====================================================================================================\n",
            "Answers that are similar to the answer no. 11 is: \n",
            "    Question_ID                                            Answers\n",
            "8       1155199  Since beginning treatment is a big step for in...\n",
            "11      1259439  Beginning treatment is a big step for individu...\n",
            "====================================================================================================\n",
            "Answers that are similar to the answer no. 12 is: \n",
            "    Question_ID                                            Answers\n",
            "12      4197817  Where you go for help will depend on the natur...\n",
            "19      9539480  Many people find peer support a helpful tool t...\n",
            "====================================================================================================\n",
            "Answers that are similar to the answer no. 19 is: \n",
            "    Question_ID                                            Answers\n",
            "12      4197817  Where you go for help will depend on the natur...\n",
            "19      9539480  Many people find peer support a helpful tool t...\n",
            "====================================================================================================\n",
            "Answers that are similar to the answer no. 44 is: \n",
            "    Question_ID                                            Answers\n",
            "44      3166337  To find a Registered Psychologist, visit the B...\n",
            "45      7009409  You can find directories of counsellors throug...\n",
            "====================================================================================================\n",
            "Answers that are similar to the answer no. 45 is: \n",
            "    Question_ID                                            Answers\n",
            "44      3166337  To find a Registered Psychologist, visit the B...\n",
            "45      7009409  You can find directories of counsellors throug...\n",
            "====================================================================================================\n",
            "Answers that are similar to the answer no. 49 is: \n",
            "    Question_ID                                            Answers\n",
            "49      6981545  Self-help resources are not a substitute for d...\n",
            "50      2115228  Self-help resources are not a substitute for d...\n",
            "51      2009922  Physical health can have a big impact on menta...\n",
            "====================================================================================================\n",
            "Answers that are similar to the answer no. 50 is: \n",
            "    Question_ID                                            Answers\n",
            "49      6981545  Self-help resources are not a substitute for d...\n",
            "50      2115228  Self-help resources are not a substitute for d...\n",
            "====================================================================================================\n",
            "Answers that are similar to the answer no. 51 is: \n",
            "    Question_ID                                            Answers\n",
            "49      6981545  Self-help resources are not a substitute for d...\n",
            "51      2009922  Physical health can have a big impact on menta...\n",
            "====================================================================================================\n",
            "Answers that are similar to the answer no. 68 is: \n",
            "    Question_ID                                            Answers\n",
            "68      3839472  We naturally want to help a loved one who isnâ...\n",
            "69      3055896  We naturally want to help a loved one who isnâ...\n",
            "====================================================================================================\n",
            "Answers that are similar to the answer no. 69 is: \n",
            "    Question_ID                                            Answers\n",
            "68      3839472  We naturally want to help a loved one who isnâ...\n",
            "69      3055896  We naturally want to help a loved one who isnâ...\n",
            "====================================================================================================\n"
          ]
        }
      ]
    },
    {
      "cell_type": "markdown",
      "source": [
        "###Observations about the similar answers:\n",
        "\n",
        "Below is the list of questions ids, where answers have same intention.\n",
        "\n",
        "1) 2110618, 6361820- Questions for these answers have different intentions. This answer is suitable for the question- 2110618, but does not answer the question- 6361820.\n",
        "\n",
        "2) 1030153, 2553795- Both of these questions are similar.\n",
        "\n",
        "3) 1155199, 1259439- Both of these questions have same intention.\n"
      ],
      "metadata": {
        "id": "bCJ2mFFrAxPK"
      }
    },
    {
      "cell_type": "markdown",
      "source": [
        "###Length of questions and answers"
      ],
      "metadata": {
        "id": "iN2h6ALljxq2"
      }
    },
    {
      "cell_type": "code",
      "source": [
        "LengthOfQuestion = []\n",
        "LengthOfAnswer = []\n",
        "for i in range(mentalHealthFaq.shape[0]):    \n",
        "  LengthOfQuestion.append(len(re.split(r'[\\s]\\s*',mentalHealthFaq.iloc[i,1])))\n",
        "  LengthOfAnswer.append(len(re.split(r'[\\s]\\s*',mentalHealthFaq.iloc[i,2])))  \n",
        "mentalHealthFaq['Length of question'] = LengthOfQuestion\n",
        "mentalHealthFaq['Length of answer'] = LengthOfAnswer\n",
        "mentalHealthFaq.head()"
      ],
      "metadata": {
        "id": "1Hi3nhs0mAzD",
        "colab": {
          "base_uri": "https://localhost:8080/",
          "height": 354
        },
        "outputId": "cc075a43-126b-4186-e30d-7ebf74608d2e"
      },
      "execution_count": 38,
      "outputs": [
        {
          "output_type": "execute_result",
          "data": {
            "text/plain": [
              "   Question_ID                                          Questions  \\\n",
              "0      1590140        What does it mean to have a mental illness?   \n",
              "1      2110618                    Who does mental illness affect?   \n",
              "2      6361820                        What causes mental illness?   \n",
              "3      9434130  What are some of the warning signs of mental i...   \n",
              "4      7657263            Can people with mental illness recover?   \n",
              "\n",
              "                                             Answers  Length of question  \\\n",
              "0  Mental illnesses are health conditions that di...                   9   \n",
              "1  It is estimated that mental illness affects 1 ...                   5   \n",
              "2  It is estimated that mental illness affects 1 ...                   4   \n",
              "3  Symptoms of mental health disorders vary depen...                  10   \n",
              "4  When healing from mental illness, early identi...                   6   \n",
              "\n",
              "   Length of answer  \n",
              "0               208  \n",
              "1               189  \n",
              "2               189  \n",
              "3               192  \n",
              "4                94  "
            ],
            "text/html": [
              "\n",
              "  <div id=\"df-c6d844d0-333c-4e8e-a32a-3b4624816e37\">\n",
              "    <div class=\"colab-df-container\">\n",
              "      <div>\n",
              "<style scoped>\n",
              "    .dataframe tbody tr th:only-of-type {\n",
              "        vertical-align: middle;\n",
              "    }\n",
              "\n",
              "    .dataframe tbody tr th {\n",
              "        vertical-align: top;\n",
              "    }\n",
              "\n",
              "    .dataframe thead th {\n",
              "        text-align: right;\n",
              "    }\n",
              "</style>\n",
              "<table border=\"1\" class=\"dataframe\">\n",
              "  <thead>\n",
              "    <tr style=\"text-align: right;\">\n",
              "      <th></th>\n",
              "      <th>Question_ID</th>\n",
              "      <th>Questions</th>\n",
              "      <th>Answers</th>\n",
              "      <th>Length of question</th>\n",
              "      <th>Length of answer</th>\n",
              "    </tr>\n",
              "  </thead>\n",
              "  <tbody>\n",
              "    <tr>\n",
              "      <th>0</th>\n",
              "      <td>1590140</td>\n",
              "      <td>What does it mean to have a mental illness?</td>\n",
              "      <td>Mental illnesses are health conditions that di...</td>\n",
              "      <td>9</td>\n",
              "      <td>208</td>\n",
              "    </tr>\n",
              "    <tr>\n",
              "      <th>1</th>\n",
              "      <td>2110618</td>\n",
              "      <td>Who does mental illness affect?</td>\n",
              "      <td>It is estimated that mental illness affects 1 ...</td>\n",
              "      <td>5</td>\n",
              "      <td>189</td>\n",
              "    </tr>\n",
              "    <tr>\n",
              "      <th>2</th>\n",
              "      <td>6361820</td>\n",
              "      <td>What causes mental illness?</td>\n",
              "      <td>It is estimated that mental illness affects 1 ...</td>\n",
              "      <td>4</td>\n",
              "      <td>189</td>\n",
              "    </tr>\n",
              "    <tr>\n",
              "      <th>3</th>\n",
              "      <td>9434130</td>\n",
              "      <td>What are some of the warning signs of mental i...</td>\n",
              "      <td>Symptoms of mental health disorders vary depen...</td>\n",
              "      <td>10</td>\n",
              "      <td>192</td>\n",
              "    </tr>\n",
              "    <tr>\n",
              "      <th>4</th>\n",
              "      <td>7657263</td>\n",
              "      <td>Can people with mental illness recover?</td>\n",
              "      <td>When healing from mental illness, early identi...</td>\n",
              "      <td>6</td>\n",
              "      <td>94</td>\n",
              "    </tr>\n",
              "  </tbody>\n",
              "</table>\n",
              "</div>\n",
              "      <button class=\"colab-df-convert\" onclick=\"convertToInteractive('df-c6d844d0-333c-4e8e-a32a-3b4624816e37')\"\n",
              "              title=\"Convert this dataframe to an interactive table.\"\n",
              "              style=\"display:none;\">\n",
              "        \n",
              "  <svg xmlns=\"http://www.w3.org/2000/svg\" height=\"24px\"viewBox=\"0 0 24 24\"\n",
              "       width=\"24px\">\n",
              "    <path d=\"M0 0h24v24H0V0z\" fill=\"none\"/>\n",
              "    <path d=\"M18.56 5.44l.94 2.06.94-2.06 2.06-.94-2.06-.94-.94-2.06-.94 2.06-2.06.94zm-11 1L8.5 8.5l.94-2.06 2.06-.94-2.06-.94L8.5 2.5l-.94 2.06-2.06.94zm10 10l.94 2.06.94-2.06 2.06-.94-2.06-.94-.94-2.06-.94 2.06-2.06.94z\"/><path d=\"M17.41 7.96l-1.37-1.37c-.4-.4-.92-.59-1.43-.59-.52 0-1.04.2-1.43.59L10.3 9.45l-7.72 7.72c-.78.78-.78 2.05 0 2.83L4 21.41c.39.39.9.59 1.41.59.51 0 1.02-.2 1.41-.59l7.78-7.78 2.81-2.81c.8-.78.8-2.07 0-2.86zM5.41 20L4 18.59l7.72-7.72 1.47 1.35L5.41 20z\"/>\n",
              "  </svg>\n",
              "      </button>\n",
              "      \n",
              "  <style>\n",
              "    .colab-df-container {\n",
              "      display:flex;\n",
              "      flex-wrap:wrap;\n",
              "      gap: 12px;\n",
              "    }\n",
              "\n",
              "    .colab-df-convert {\n",
              "      background-color: #E8F0FE;\n",
              "      border: none;\n",
              "      border-radius: 50%;\n",
              "      cursor: pointer;\n",
              "      display: none;\n",
              "      fill: #1967D2;\n",
              "      height: 32px;\n",
              "      padding: 0 0 0 0;\n",
              "      width: 32px;\n",
              "    }\n",
              "\n",
              "    .colab-df-convert:hover {\n",
              "      background-color: #E2EBFA;\n",
              "      box-shadow: 0px 1px 2px rgba(60, 64, 67, 0.3), 0px 1px 3px 1px rgba(60, 64, 67, 0.15);\n",
              "      fill: #174EA6;\n",
              "    }\n",
              "\n",
              "    [theme=dark] .colab-df-convert {\n",
              "      background-color: #3B4455;\n",
              "      fill: #D2E3FC;\n",
              "    }\n",
              "\n",
              "    [theme=dark] .colab-df-convert:hover {\n",
              "      background-color: #434B5C;\n",
              "      box-shadow: 0px 1px 3px 1px rgba(0, 0, 0, 0.15);\n",
              "      filter: drop-shadow(0px 1px 2px rgba(0, 0, 0, 0.3));\n",
              "      fill: #FFFFFF;\n",
              "    }\n",
              "  </style>\n",
              "\n",
              "      <script>\n",
              "        const buttonEl =\n",
              "          document.querySelector('#df-c6d844d0-333c-4e8e-a32a-3b4624816e37 button.colab-df-convert');\n",
              "        buttonEl.style.display =\n",
              "          google.colab.kernel.accessAllowed ? 'block' : 'none';\n",
              "\n",
              "        async function convertToInteractive(key) {\n",
              "          const element = document.querySelector('#df-c6d844d0-333c-4e8e-a32a-3b4624816e37');\n",
              "          const dataTable =\n",
              "            await google.colab.kernel.invokeFunction('convertToInteractive',\n",
              "                                                     [key], {});\n",
              "          if (!dataTable) return;\n",
              "\n",
              "          const docLinkHtml = 'Like what you see? Visit the ' +\n",
              "            '<a target=\"_blank\" href=https://colab.research.google.com/notebooks/data_table.ipynb>data table notebook</a>'\n",
              "            + ' to learn more about interactive tables.';\n",
              "          element.innerHTML = '';\n",
              "          dataTable['output_type'] = 'display_data';\n",
              "          await google.colab.output.renderOutput(dataTable, element);\n",
              "          const docLink = document.createElement('div');\n",
              "          docLink.innerHTML = docLinkHtml;\n",
              "          element.appendChild(docLink);\n",
              "        }\n",
              "      </script>\n",
              "    </div>\n",
              "  </div>\n",
              "  "
            ]
          },
          "metadata": {},
          "execution_count": 38
        }
      ]
    },
    {
      "cell_type": "code",
      "source": [
        "# Maximum and minimum length of questions and answers\n",
        "print(\"Maximum length of question\")\n",
        "print(mentalHealthFaq['Length of question'].max())\n",
        "print(\"Minimum length of question\")\n",
        "print(mentalHealthFaq['Length of question'].min())"
      ],
      "metadata": {
        "id": "q4t5GlhA6Ofq",
        "colab": {
          "base_uri": "https://localhost:8080/"
        },
        "outputId": "71e44fa1-aa91-4ec9-9739-467ccbeafd59"
      },
      "execution_count": 39,
      "outputs": [
        {
          "output_type": "stream",
          "name": "stdout",
          "text": [
            "Maximum length of question\n",
            "39\n",
            "Minimum length of question\n",
            "3\n"
          ]
        }
      ]
    },
    {
      "cell_type": "code",
      "source": [
        "#Violin plot has been used here as it gives the combined benefit of Histograms and Box-plots.\n",
        "#Plotting the violin plot for the Length of questions\n",
        "\n",
        "sns.violinplot(y=\"Length of question\", data=mentalHealthFaq, size=8)\n",
        "plt.show()"
      ],
      "metadata": {
        "id": "yPQEgYqGsQ_Q",
        "colab": {
          "base_uri": "https://localhost:8080/",
          "height": 252
        },
        "outputId": "da45fa2e-06b5-4464-90ac-ca82003dce21"
      },
      "execution_count": 40,
      "outputs": [
        {
          "output_type": "display_data",
          "data": {
            "text/plain": [
              "<Figure size 432x288 with 1 Axes>"
            ],
            "image/png": "[encoded data removed]"
          },
          "metadata": {
            "needs_background": "light"
          }
        }
      ]
    },
    {
      "cell_type": "code",
      "source": [
        "#Plotted the histogram for the length of questions. Plotted histogram to check if more clear idea information can be told about the length of questions.\n",
        "sns.FacetGrid(mentalHealthFaq, size=5) \\\n",
        "   .map(sns.distplot, \"Length of question\") \\\n",
        "   .add_legend();\n",
        "plt.show();"
      ],
      "metadata": {
        "id": "NvtekZTTzMyV",
        "colab": {
          "base_uri": "https://localhost:8080/",
          "height": 458
        },
        "outputId": "342396c2-67cf-40f0-93a0-4046a78d3930"
      },
      "execution_count": 41,
      "outputs": [
        {
          "output_type": "stream",
          "name": "stderr",
          "text": [
            "/usr/local/lib/python3.7/dist-packages/seaborn/axisgrid.py:337: UserWarning: The `size` parameter has been renamed to `height`; please update your code.\n",
            "  warnings.warn(msg, UserWarning)\n",
            "/usr/local/lib/python3.7/dist-packages/seaborn/distributions.py:2619: FutureWarning: `distplot` is a deprecated function and will be removed in a future version. Please adapt your code to use either `displot` (a figure-level function with similar flexibility) or `histplot` (an axes-level function for histograms).\n",
            "  warnings.warn(msg, FutureWarning)\n"
          ]
        },
        {
          "output_type": "display_data",
          "data": {
            "text/plain": [
              "<Figure size 368x360 with 1 Axes>"
            ],
            "image/png": "[encoded data removed]"
          },
          "metadata": {
            "needs_background": "light"
          }
        }
      ]
    },
    {
      "cell_type": "code",
      "source": [
        "#Checking for the outliers points on the basis on length of the questions. Questions with too small length can be the outlier.\n",
        "\n",
        "#Referred the below link for knowing the average length of abstract in general psycology. No information mentioned in this link has been used.\n",
        "#Just mentioning the link, in case it is needed moving forward.\n",
        "#https://books.google.co.in/books?id=M4kqAAAAMAAJ&pg=RA36-PP10&lpg=RA36-PP10&dq=What+is+the+average+number+of+words+in+the+mental+health+related+queries&source=bl&ots=njXSfsHqxt&sig=ACfU3U3leyUeY2PKKn7nX0DlMBcT6Yp5TQ&hl=en&sa=X&ved=2ahUKEwjr5vOatP_0AhWV_XMBHfMtDxgQ6AF6BAg2EAM#v=onepage&q=What%20is%20the%20average%20number%20of%20words%20in%20the%20mental%20health%20related%20queries&f=false\n",
        "\n",
        "#Get all the questions whose length is less than 4 words. Has taken the length '4' just on the basis of common sense.\n",
        "print(\"Questions whose length is smaller than 4:\")\n",
        "mentalHealthFaq[mentalHealthFaq['Length of question'] <4]\n",
        "\n",
        "#Get all the questions whose length is more than 30 words\n",
        "print(\"Questions whose length is greater than 30:\")\n",
        "mentalHealthFaq[mentalHealthFaq['Length of question'] >20]"
      ],
      "metadata": {
        "id": "FQ54O98HI6ho",
        "colab": {
          "base_uri": "https://localhost:8080/",
          "height": 194
        },
        "outputId": "184fa5fe-74c1-4393-b945-d1a79d8498b9"
      },
      "execution_count": 42,
      "outputs": [
        {
          "output_type": "stream",
          "name": "stdout",
          "text": [
            "Questions whose length is smaller than 4:\n",
            "Questions whose length is greater than 30:\n"
          ]
        },
        {
          "output_type": "execute_result",
          "data": {
            "text/plain": [
              "    Question_ID                                          Questions  \\\n",
              "72      2447683  Cannabis is legally allowed to 19+ but there a...   \n",
              "\n",
              "                                              Answers  Length of question  \\\n",
              "72  Using cannabis has the potential for benefits ...                  39   \n",
              "\n",
              "    Length of answer  \n",
              "72               473  "
            ],
            "text/html": [
              "\n",
              "  <div id=\"df-a143d783-bb01-45b8-b84d-b59bfe4ad8d9\">\n",
              "    <div class=\"colab-df-container\">\n",
              "      <div>\n",
              "<style scoped>\n",
              "    .dataframe tbody tr th:only-of-type {\n",
              "        vertical-align: middle;\n",
              "    }\n",
              "\n",
              "    .dataframe tbody tr th {\n",
              "        vertical-align: top;\n",
              "    }\n",
              "\n",
              "    .dataframe thead th {\n",
              "        text-align: right;\n",
              "    }\n",
              "</style>\n",
              "<table border=\"1\" class=\"dataframe\">\n",
              "  <thead>\n",
              "    <tr style=\"text-align: right;\">\n",
              "      <th></th>\n",
              "      <th>Question_ID</th>\n",
              "      <th>Questions</th>\n",
              "      <th>Answers</th>\n",
              "      <th>Length of question</th>\n",
              "      <th>Length of answer</th>\n",
              "    </tr>\n",
              "  </thead>\n",
              "  <tbody>\n",
              "    <tr>\n",
              "      <th>72</th>\n",
              "      <td>2447683</td>\n",
              "      <td>Cannabis is legally allowed to 19+ but there a...</td>\n",
              "      <td>Using cannabis has the potential for benefits ...</td>\n",
              "      <td>39</td>\n",
              "      <td>473</td>\n",
              "    </tr>\n",
              "  </tbody>\n",
              "</table>\n",
              "</div>\n",
              "      <button class=\"colab-df-convert\" onclick=\"convertToInteractive('df-a143d783-bb01-45b8-b84d-b59bfe4ad8d9')\"\n",
              "              title=\"Convert this dataframe to an interactive table.\"\n",
              "              style=\"display:none;\">\n",
              "        \n",
              "  <svg xmlns=\"http://www.w3.org/2000/svg\" height=\"24px\"viewBox=\"0 0 24 24\"\n",
              "       width=\"24px\">\n",
              "    <path d=\"M0 0h24v24H0V0z\" fill=\"none\"/>\n",
              "    <path d=\"M18.56 5.44l.94 2.06.94-2.06 2.06-.94-2.06-.94-.94-2.06-.94 2.06-2.06.94zm-11 1L8.5 8.5l.94-2.06 2.06-.94-2.06-.94L8.5 2.5l-.94 2.06-2.06.94zm10 10l.94 2.06.94-2.06 2.06-.94-2.06-.94-.94-2.06-.94 2.06-2.06.94z\"/><path d=\"M17.41 7.96l-1.37-1.37c-.4-.4-.92-.59-1.43-.59-.52 0-1.04.2-1.43.59L10.3 9.45l-7.72 7.72c-.78.78-.78 2.05 0 2.83L4 21.41c.39.39.9.59 1.41.59.51 0 1.02-.2 1.41-.59l7.78-7.78 2.81-2.81c.8-.78.8-2.07 0-2.86zM5.41 20L4 18.59l7.72-7.72 1.47 1.35L5.41 20z\"/>\n",
              "  </svg>\n",
              "      </button>\n",
              "      \n",
              "  <style>\n",
              "    .colab-df-container {\n",
              "      display:flex;\n",
              "      flex-wrap:wrap;\n",
              "      gap: 12px;\n",
              "    }\n",
              "\n",
              "    .colab-df-convert {\n",
              "      background-color: #E8F0FE;\n",
              "      border: none;\n",
              "      border-radius: 50%;\n",
              "      cursor: pointer;\n",
              "      display: none;\n",
              "      fill: #1967D2;\n",
              "      height: 32px;\n",
              "      padding: 0 0 0 0;\n",
              "      width: 32px;\n",
              "    }\n",
              "\n",
              "    .colab-df-convert:hover {\n",
              "      background-color: #E2EBFA;\n",
              "      box-shadow: 0px 1px 2px rgba(60, 64, 67, 0.3), 0px 1px 3px 1px rgba(60, 64, 67, 0.15);\n",
              "      fill: #174EA6;\n",
              "    }\n",
              "\n",
              "    [theme=dark] .colab-df-convert {\n",
              "      background-color: #3B4455;\n",
              "      fill: #D2E3FC;\n",
              "    }\n",
              "\n",
              "    [theme=dark] .colab-df-convert:hover {\n",
              "      background-color: #434B5C;\n",
              "      box-shadow: 0px 1px 3px 1px rgba(0, 0, 0, 0.15);\n",
              "      filter: drop-shadow(0px 1px 2px rgba(0, 0, 0, 0.3));\n",
              "      fill: #FFFFFF;\n",
              "    }\n",
              "  </style>\n",
              "\n",
              "      <script>\n",
              "        const buttonEl =\n",
              "          document.querySelector('#df-a143d783-bb01-45b8-b84d-b59bfe4ad8d9 button.colab-df-convert');\n",
              "        buttonEl.style.display =\n",
              "          google.colab.kernel.accessAllowed ? 'block' : 'none';\n",
              "\n",
              "        async function convertToInteractive(key) {\n",
              "          const element = document.querySelector('#df-a143d783-bb01-45b8-b84d-b59bfe4ad8d9');\n",
              "          const dataTable =\n",
              "            await google.colab.kernel.invokeFunction('convertToInteractive',\n",
              "                                                     [key], {});\n",
              "          if (!dataTable) return;\n",
              "\n",
              "          const docLinkHtml = 'Like what you see? Visit the ' +\n",
              "            '<a target=\"_blank\" href=https://colab.research.google.com/notebooks/data_table.ipynb>data table notebook</a>'\n",
              "            + ' to learn more about interactive tables.';\n",
              "          element.innerHTML = '';\n",
              "          dataTable['output_type'] = 'display_data';\n",
              "          await google.colab.output.renderOutput(dataTable, element);\n",
              "          const docLink = document.createElement('div');\n",
              "          docLink.innerHTML = docLinkHtml;\n",
              "          element.appendChild(docLink);\n",
              "        }\n",
              "      </script>\n",
              "    </div>\n",
              "  </div>\n",
              "  "
            ]
          },
          "metadata": {},
          "execution_count": 42
        }
      ]
    },
    {
      "cell_type": "code",
      "source": [
        "print(\"Maximum length of answer\")\n",
        "print(mentalHealthFaq['Length of answer'].max())\n",
        "print(\"Minimum length of answer\")\n",
        "print(mentalHealthFaq['Length of answer'].min())"
      ],
      "metadata": {
        "id": "2wCXf7DZyYld",
        "colab": {
          "base_uri": "https://localhost:8080/"
        },
        "outputId": "7568bfc5-21d1-4db8-bb75-c06af4ad2f81"
      },
      "execution_count": 43,
      "outputs": [
        {
          "output_type": "stream",
          "name": "stdout",
          "text": [
            "Maximum length of answer\n",
            "1441\n",
            "Minimum length of answer\n",
            "16\n"
          ]
        }
      ]
    },
    {
      "cell_type": "code",
      "source": [
        "#Plotting the violin plot for the Length of answers\n",
        "\n",
        "sns.violinplot(y=\"Length of answer\", data=mentalHealthFaq, size=8)\n",
        "plt.show()"
      ],
      "metadata": {
        "id": "HStbz7OXwqul",
        "colab": {
          "base_uri": "https://localhost:8080/",
          "height": 254
        },
        "outputId": "8e508049-8ec1-4c89-aa60-3578b9ecd53d"
      },
      "execution_count": 44,
      "outputs": [
        {
          "output_type": "display_data",
          "data": {
            "text/plain": [
              "<Figure size 432x288 with 1 Axes>"
            ],
            "image/png": "[encoded data removed]"
          },
          "metadata": {
            "needs_background": "light"
          }
        }
      ]
    },
    {
      "cell_type": "code",
      "source": [
        "#Plotted the histogram for the length of answer. Plotted histogram to check if more clear idea information can be told about the length of answers.\n",
        "sns.FacetGrid(mentalHealthFaq, size=5) \\\n",
        "   .map(sns.distplot, \"Length of answer\") \\\n",
        "   .add_legend();\n",
        "plt.show();"
      ],
      "metadata": {
        "id": "e9agM9xUz73-",
        "colab": {
          "base_uri": "https://localhost:8080/",
          "height": 458
        },
        "outputId": "b3e6d4f8-41eb-4a65-95a1-db94c46f8e9a"
      },
      "execution_count": 45,
      "outputs": [
        {
          "output_type": "stream",
          "name": "stderr",
          "text": [
            "/usr/local/lib/python3.7/dist-packages/seaborn/axisgrid.py:337: UserWarning: The `size` parameter has been renamed to `height`; please update your code.\n",
            "  warnings.warn(msg, UserWarning)\n",
            "/usr/local/lib/python3.7/dist-packages/seaborn/distributions.py:2619: FutureWarning: `distplot` is a deprecated function and will be removed in a future version. Please adapt your code to use either `displot` (a figure-level function with similar flexibility) or `histplot` (an axes-level function for histograms).\n",
            "  warnings.warn(msg, FutureWarning)\n"
          ]
        },
        {
          "output_type": "display_data",
          "data": {
            "text/plain": [
              "<Figure size 368x360 with 1 Axes>"
            ],
            "image/png": "[encoded data removed]"
          },
          "metadata": {
            "needs_background": "light"
          }
        }
      ]
    },
    {
      "cell_type": "code",
      "source": [
        "#Checking for the outliers points on the basis on length of the answers. Answers with too small/long length can be the outlier.\n",
        "#Referred the below link for knowing the average length of abstract in general psycology. No information mentioned in this link has been used.\n",
        "#Just mentioning the link, in case it is needed moving forward.\n",
        "#https://books.google.co.in/books?id=M4kqAAAAMAAJ&pg=RA36-PP10&lpg=RA36-PP10&dq=What+is+the+average+number+of+words+in+the+mental+health+related+queries&source=bl&ots=njXSfsHqxt&sig=ACfU3U3leyUeY2PKKn7nX0DlMBcT6Yp5TQ&hl=en&sa=X&ved=2ahUKEwjr5vOatP_0AhWV_XMBHfMtDxgQ6AF6BAg2EAM#v=onepage&q=What%20is%20the%20average%20number%20of%20words%20in%20the%20mental%20health%20related%20queries&f=false\n",
        "\n",
        "#Get all the answers whose length is more than 750 words. Used '750' here, as it is visible from the above histogram that there are very less answers of length more than 750 words.\n",
        "print(\"Answers whose length is greater than 750 words are:\")\n",
        "mentalHealthFaq[mentalHealthFaq['Length of answer'] >750]"
      ],
      "metadata": {
        "id": "zMnpIS9VbaWX",
        "colab": {
          "base_uri": "https://localhost:8080/",
          "height": 274
        },
        "outputId": "bd8ac305-88f5-4409-eafa-4811a478d63c"
      },
      "execution_count": 46,
      "outputs": [
        {
          "output_type": "stream",
          "name": "stdout",
          "text": [
            "Answers whose length is greater than 750 words are:\n"
          ]
        },
        {
          "output_type": "execute_result",
          "data": {
            "text/plain": [
              "    Question_ID                                          Questions  \\\n",
              "40      7535002                How can I challenge thinking traps?   \n",
              "68      3839472  Someone I love has been diagnosed with depress...   \n",
              "69      3055896  Someone I love has been diagnosed with schizop...   \n",
              "\n",
              "                                              Answers  Length of question  \\\n",
              "40  What you tell yourself about a situation affec...                   6   \n",
              "68  We naturally want to help a loved one who isnâ...                  12   \n",
              "69  We naturally want to help a loved one who isnâ...                  12   \n",
              "\n",
              "    Length of answer  \n",
              "40              1000  \n",
              "68               834  \n",
              "69              1441  "
            ],
            "text/html": [
              "\n",
              "  <div id=\"df-b4fb2c32-f7aa-4546-9b4a-c8b3402e982c\">\n",
              "    <div class=\"colab-df-container\">\n",
              "      <div>\n",
              "<style scoped>\n",
              "    .dataframe tbody tr th:only-of-type {\n",
              "        vertical-align: middle;\n",
              "    }\n",
              "\n",
              "    .dataframe tbody tr th {\n",
              "        vertical-align: top;\n",
              "    }\n",
              "\n",
              "    .dataframe thead th {\n",
              "        text-align: right;\n",
              "    }\n",
              "</style>\n",
              "<table border=\"1\" class=\"dataframe\">\n",
              "  <thead>\n",
              "    <tr style=\"text-align: right;\">\n",
              "      <th></th>\n",
              "      <th>Question_ID</th>\n",
              "      <th>Questions</th>\n",
              "      <th>Answers</th>\n",
              "      <th>Length of question</th>\n",
              "      <th>Length of answer</th>\n",
              "    </tr>\n",
              "  </thead>\n",
              "  <tbody>\n",
              "    <tr>\n",
              "      <th>40</th>\n",
              "      <td>7535002</td>\n",
              "      <td>How can I challenge thinking traps?</td>\n",
              "      <td>What you tell yourself about a situation affec...</td>\n",
              "      <td>6</td>\n",
              "      <td>1000</td>\n",
              "    </tr>\n",
              "    <tr>\n",
              "      <th>68</th>\n",
              "      <td>3839472</td>\n",
              "      <td>Someone I love has been diagnosed with depress...</td>\n",
              "      <td>We naturally want to help a loved one who isnâ...</td>\n",
              "      <td>12</td>\n",
              "      <td>834</td>\n",
              "    </tr>\n",
              "    <tr>\n",
              "      <th>69</th>\n",
              "      <td>3055896</td>\n",
              "      <td>Someone I love has been diagnosed with schizop...</td>\n",
              "      <td>We naturally want to help a loved one who isnâ...</td>\n",
              "      <td>12</td>\n",
              "      <td>1441</td>\n",
              "    </tr>\n",
              "  </tbody>\n",
              "</table>\n",
              "</div>\n",
              "      <button class=\"colab-df-convert\" onclick=\"convertToInteractive('df-b4fb2c32-f7aa-4546-9b4a-c8b3402e982c')\"\n",
              "              title=\"Convert this dataframe to an interactive table.\"\n",
              "              style=\"display:none;\">\n",
              "        \n",
              "  <svg xmlns=\"http://www.w3.org/2000/svg\" height=\"24px\"viewBox=\"0 0 24 24\"\n",
              "       width=\"24px\">\n",
              "    <path d=\"M0 0h24v24H0V0z\" fill=\"none\"/>\n",
              "    <path d=\"M18.56 5.44l.94 2.06.94-2.06 2.06-.94-2.06-.94-.94-2.06-.94 2.06-2.06.94zm-11 1L8.5 8.5l.94-2.06 2.06-.94-2.06-.94L8.5 2.5l-.94 2.06-2.06.94zm10 10l.94 2.06.94-2.06 2.06-.94-2.06-.94-.94-2.06-.94 2.06-2.06.94z\"/><path d=\"M17.41 7.96l-1.37-1.37c-.4-.4-.92-.59-1.43-.59-.52 0-1.04.2-1.43.59L10.3 9.45l-7.72 7.72c-.78.78-.78 2.05 0 2.83L4 21.41c.39.39.9.59 1.41.59.51 0 1.02-.2 1.41-.59l7.78-7.78 2.81-2.81c.8-.78.8-2.07 0-2.86zM5.41 20L4 18.59l7.72-7.72 1.47 1.35L5.41 20z\"/>\n",
              "  </svg>\n",
              "      </button>\n",
              "      \n",
              "  <style>\n",
              "    .colab-df-container {\n",
              "      display:flex;\n",
              "      flex-wrap:wrap;\n",
              "      gap: 12px;\n",
              "    }\n",
              "\n",
              "    .colab-df-convert {\n",
              "      background-color: #E8F0FE;\n",
              "      border: none;\n",
              "      border-radius: 50%;\n",
              "      cursor: pointer;\n",
              "      display: none;\n",
              "      fill: #1967D2;\n",
              "      height: 32px;\n",
              "      padding: 0 0 0 0;\n",
              "      width: 32px;\n",
              "    }\n",
              "\n",
              "    .colab-df-convert:hover {\n",
              "      background-color: #E2EBFA;\n",
              "      box-shadow: 0px 1px 2px rgba(60, 64, 67, 0.3), 0px 1px 3px 1px rgba(60, 64, 67, 0.15);\n",
              "      fill: #174EA6;\n",
              "    }\n",
              "\n",
              "    [theme=dark] .colab-df-convert {\n",
              "      background-color: #3B4455;\n",
              "      fill: #D2E3FC;\n",
              "    }\n",
              "\n",
              "    [theme=dark] .colab-df-convert:hover {\n",
              "      background-color: #434B5C;\n",
              "      box-shadow: 0px 1px 3px 1px rgba(0, 0, 0, 0.15);\n",
              "      filter: drop-shadow(0px 1px 2px rgba(0, 0, 0, 0.3));\n",
              "      fill: #FFFFFF;\n",
              "    }\n",
              "  </style>\n",
              "\n",
              "      <script>\n",
              "        const buttonEl =\n",
              "          document.querySelector('#df-b4fb2c32-f7aa-4546-9b4a-c8b3402e982c button.colab-df-convert');\n",
              "        buttonEl.style.display =\n",
              "          google.colab.kernel.accessAllowed ? 'block' : 'none';\n",
              "\n",
              "        async function convertToInteractive(key) {\n",
              "          const element = document.querySelector('#df-b4fb2c32-f7aa-4546-9b4a-c8b3402e982c');\n",
              "          const dataTable =\n",
              "            await google.colab.kernel.invokeFunction('convertToInteractive',\n",
              "                                                     [key], {});\n",
              "          if (!dataTable) return;\n",
              "\n",
              "          const docLinkHtml = 'Like what you see? Visit the ' +\n",
              "            '<a target=\"_blank\" href=https://colab.research.google.com/notebooks/data_table.ipynb>data table notebook</a>'\n",
              "            + ' to learn more about interactive tables.';\n",
              "          element.innerHTML = '';\n",
              "          dataTable['output_type'] = 'display_data';\n",
              "          await google.colab.output.renderOutput(dataTable, element);\n",
              "          const docLink = document.createElement('div');\n",
              "          docLink.innerHTML = docLinkHtml;\n",
              "          element.appendChild(docLink);\n",
              "        }\n",
              "      </script>\n",
              "    </div>\n",
              "  </div>\n",
              "  "
            ]
          },
          "metadata": {},
          "execution_count": 46
        }
      ]
    },
    {
      "cell_type": "markdown",
      "source": [
        "###Word cloud for Questions"
      ],
      "metadata": {
        "id": "M7X6ZEIE7Ft1"
      }
    },
    {
      "cell_type": "code",
      "source": [
        "#Reffered https://www.analyticsvidhya.com/blog/2021/05/how-to-build-word-cloud-in-python/\n",
        "# Creating word_cloud with text as argument in .generate() method\n",
        "text2 = \" \".join(Question for Question in mentalHealthFaq.Questions)\n",
        "word_cloud2 = WordCloud(collocations = False, background_color = 'white').generate(text2)\n",
        "\n",
        "# Display the generated Word Cloud\n",
        "plt.imshow(word_cloud2, interpolation='bilinear')\n",
        "plt.axis(\"off\")\n",
        "plt.show()"
      ],
      "metadata": {
        "id": "kgKOAsA67KV6",
        "colab": {
          "base_uri": "https://localhost:8080/",
          "height": 198
        },
        "outputId": "07179be3-4c3a-4141-e044-e010d49bba6f"
      },
      "execution_count": 47,
      "outputs": [
        {
          "output_type": "display_data",
          "data": {
            "text/plain": [
              "<Figure size 432x288 with 1 Axes>"
            ],
            "image/png": "[encoded data removed]"
          },
          "metadata": {
            "needs_background": "light"
          }
        }
      ]
    },
    {
      "cell_type": "markdown",
      "source": [
        "In the above word cloud, the larger the font size of a word is, the more frequently it has appeared in the questions.\n",
        "Got the words which have occured most frequently in the list of questions."
      ],
      "metadata": {
        "id": "IgkGOXqQ9bhY"
      }
    },
    {
      "cell_type": "markdown",
      "source": [
        "###Summarizing the conclusions about the data-\n",
        "\n",
        "Q1- Number of data points?\n",
        "\n",
        "Ans- 98\n",
        "\n",
        "\n",
        "Q2- Number of unique questions?\n",
        "\n",
        "Ans- 98\n",
        "\n",
        "\n",
        "Q3- Number of unique answers?\n",
        "\n",
        "Ans- 98\n",
        "\n",
        "\n",
        "Q4- Number of similar (which have the absolute same intent, but can vary in the language) questions?\n",
        "\n",
        "Ans- There are 3 pair of similar questions, i.e., out of these 6 questions, 3 questions have the absolute same intent as the remaining 3 questions.\n",
        "Below is the list of questions ids, for which questions are similar. Given the questions are similar, a comment has been made about the nature of their answers.\n",
        "\n",
        "1) 6361820, 4283807- Answers for these questions talk about the same context, but vary in the amount of information. Answer for question- 4283807 provides more precise answer. Combined answer for 6361820 & 4283807 will provide more information about the topic. So, combined answer should be preffered.\n",
        "\n",
        "2) 9539480, 9630578- Answers for both the questions are valid, but vary in the amount of information they provide. Answer for 9630578 provide much more information. Hence answer for 9630578 should be preferred.\n",
        "\n",
        "3) 1155199, 1259439- Answers for these questions are almost same.\n",
        "\n",
        "\n",
        "Q5- Number of similar (which have the absolute same intent, but can vary in the language) answers?\n",
        "\n",
        "Ans- There are 3 pair of similar answers, i.e., out of these 6 answers, 3 answers have the absolute same intent as the remaining 3 questions.\n",
        "Below is the list of questions ids, for which answers are similar. Given the answers are similar, a comment has been made about the nature of their questions.\n",
        "\n",
        "1) 2110618, 6361820- Questions for these answers have different intentions. This answer is suitable for the question- 2110618, but does not answer the question- 6361820.\n",
        "\n",
        "2) 1030153, 2553795- Both of these questions are similar.\n",
        "\n",
        "3) 1155199, 1259439- Both of these questions have same intention.\n",
        "\n",
        "Q6- What is the length of the question?\n",
        "\n",
        "Ans- 8 words is the average length of the questions. Maximum length is 39, and minimum length is 3.\n",
        "\n",
        "Q7- What is the length of the answer?\n",
        "\n",
        "Ans- 130 words is the average length of the answers. Maximum length is 1441, and minimum length is 16.\n",
        "\n",
        "\n",
        "##Overall- \n",
        "\n",
        "1) Data does not have any outlier points. \n",
        "\n",
        "2) Data quality looks good."
      ],
      "metadata": {
        "id": "WOiEd7RJxhXN"
      }
    }
  ]
}